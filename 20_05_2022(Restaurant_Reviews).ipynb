{
  "nbformat": 4,
  "nbformat_minor": 0,
  "metadata": {
    "colab": {
      "name": "20.05.2022(Restaurant_Reviews).ipynb",
      "provenance": [],
      "collapsed_sections": []
    },
    "kernelspec": {
      "name": "python3",
      "display_name": "Python 3"
    },
    "language_info": {
      "name": "python"
    }
  },
  "cells": [
    {
      "cell_type": "code",
      "execution_count": null,
      "metadata": {
        "colab": {
          "base_uri": "https://localhost:8080/"
        },
        "id": "goACLEUH7WsE",
        "outputId": "e0379148-fe59-41dc-c5cf-b5d8361627d9"
      },
      "outputs": [
        {
          "output_type": "stream",
          "name": "stdout",
          "text": [
            "Drive already mounted at /content/drive; to attempt to forcibly remount, call drive.mount(\"/content/drive\", force_remount=True).\n"
          ]
        }
      ],
      "source": [
        "from google.colab import drive\n",
        "drive.mount('/content/drive')"
      ]
    },
    {
      "cell_type": "code",
      "source": [
        "import pandas as pd\n",
        "df=pd.read_csv('/content/drive/MyDrive/0.MKCE/Datasets/Restaurant_Reviews.tsv',delimiter='\\t',quoting=3)"
      ],
      "metadata": {
        "id": "bnLHOAWu77FJ"
      },
      "execution_count": null,
      "outputs": []
    },
    {
      "cell_type": "code",
      "source": [
        "df.shape"
      ],
      "metadata": {
        "colab": {
          "base_uri": "https://localhost:8080/"
        },
        "id": "4WdUY4jU8dNC",
        "outputId": "8abe9300-d99c-4318-f1bd-4bf8f1d4437e"
      },
      "execution_count": null,
      "outputs": [
        {
          "output_type": "execute_result",
          "data": {
            "text/plain": [
              "(1000, 2)"
            ]
          },
          "metadata": {},
          "execution_count": 141
        }
      ]
    },
    {
      "cell_type": "code",
      "source": [
        "df.columns"
      ],
      "metadata": {
        "colab": {
          "base_uri": "https://localhost:8080/"
        },
        "id": "nE684W7N9II6",
        "outputId": "75e02d7e-9fdc-421c-9de8-7502bd04160b"
      },
      "execution_count": null,
      "outputs": [
        {
          "output_type": "execute_result",
          "data": {
            "text/plain": [
              "Index(['Review', 'Liked'], dtype='object')"
            ]
          },
          "metadata": {},
          "execution_count": 142
        }
      ]
    },
    {
      "cell_type": "code",
      "source": [
        "df.head()"
      ],
      "metadata": {
        "colab": {
          "base_uri": "https://localhost:8080/",
          "height": 206
        },
        "id": "RNNxQLO69w56",
        "outputId": "06057baa-6d20-4583-9e96-72e991f227c5"
      },
      "execution_count": null,
      "outputs": [
        {
          "output_type": "execute_result",
          "data": {
            "text/plain": [
              "                                              Review  Liked\n",
              "0                           Wow... Loved this place.      1\n",
              "1                                 Crust is not good.      0\n",
              "2          Not tasty and the texture was just nasty.      0\n",
              "3  Stopped by during the late May bank holiday of...      1\n",
              "4  The selection on the menu was great and so wer...      1"
            ],
            "text/html": [
              "\n",
              "  <div id=\"df-1408c70c-be9b-49e0-81b7-9f4e99e7c18d\">\n",
              "    <div class=\"colab-df-container\">\n",
              "      <div>\n",
              "<style scoped>\n",
              "    .dataframe tbody tr th:only-of-type {\n",
              "        vertical-align: middle;\n",
              "    }\n",
              "\n",
              "    .dataframe tbody tr th {\n",
              "        vertical-align: top;\n",
              "    }\n",
              "\n",
              "    .dataframe thead th {\n",
              "        text-align: right;\n",
              "    }\n",
              "</style>\n",
              "<table border=\"1\" class=\"dataframe\">\n",
              "  <thead>\n",
              "    <tr style=\"text-align: right;\">\n",
              "      <th></th>\n",
              "      <th>Review</th>\n",
              "      <th>Liked</th>\n",
              "    </tr>\n",
              "  </thead>\n",
              "  <tbody>\n",
              "    <tr>\n",
              "      <th>0</th>\n",
              "      <td>Wow... Loved this place.</td>\n",
              "      <td>1</td>\n",
              "    </tr>\n",
              "    <tr>\n",
              "      <th>1</th>\n",
              "      <td>Crust is not good.</td>\n",
              "      <td>0</td>\n",
              "    </tr>\n",
              "    <tr>\n",
              "      <th>2</th>\n",
              "      <td>Not tasty and the texture was just nasty.</td>\n",
              "      <td>0</td>\n",
              "    </tr>\n",
              "    <tr>\n",
              "      <th>3</th>\n",
              "      <td>Stopped by during the late May bank holiday of...</td>\n",
              "      <td>1</td>\n",
              "    </tr>\n",
              "    <tr>\n",
              "      <th>4</th>\n",
              "      <td>The selection on the menu was great and so wer...</td>\n",
              "      <td>1</td>\n",
              "    </tr>\n",
              "  </tbody>\n",
              "</table>\n",
              "</div>\n",
              "      <button class=\"colab-df-convert\" onclick=\"convertToInteractive('df-1408c70c-be9b-49e0-81b7-9f4e99e7c18d')\"\n",
              "              title=\"Convert this dataframe to an interactive table.\"\n",
              "              style=\"display:none;\">\n",
              "        \n",
              "  <svg xmlns=\"http://www.w3.org/2000/svg\" height=\"24px\"viewBox=\"0 0 24 24\"\n",
              "       width=\"24px\">\n",
              "    <path d=\"M0 0h24v24H0V0z\" fill=\"none\"/>\n",
              "    <path d=\"M18.56 5.44l.94 2.06.94-2.06 2.06-.94-2.06-.94-.94-2.06-.94 2.06-2.06.94zm-11 1L8.5 8.5l.94-2.06 2.06-.94-2.06-.94L8.5 2.5l-.94 2.06-2.06.94zm10 10l.94 2.06.94-2.06 2.06-.94-2.06-.94-.94-2.06-.94 2.06-2.06.94z\"/><path d=\"M17.41 7.96l-1.37-1.37c-.4-.4-.92-.59-1.43-.59-.52 0-1.04.2-1.43.59L10.3 9.45l-7.72 7.72c-.78.78-.78 2.05 0 2.83L4 21.41c.39.39.9.59 1.41.59.51 0 1.02-.2 1.41-.59l7.78-7.78 2.81-2.81c.8-.78.8-2.07 0-2.86zM5.41 20L4 18.59l7.72-7.72 1.47 1.35L5.41 20z\"/>\n",
              "  </svg>\n",
              "      </button>\n",
              "      \n",
              "  <style>\n",
              "    .colab-df-container {\n",
              "      display:flex;\n",
              "      flex-wrap:wrap;\n",
              "      gap: 12px;\n",
              "    }\n",
              "\n",
              "    .colab-df-convert {\n",
              "      background-color: #E8F0FE;\n",
              "      border: none;\n",
              "      border-radius: 50%;\n",
              "      cursor: pointer;\n",
              "      display: none;\n",
              "      fill: #1967D2;\n",
              "      height: 32px;\n",
              "      padding: 0 0 0 0;\n",
              "      width: 32px;\n",
              "    }\n",
              "\n",
              "    .colab-df-convert:hover {\n",
              "      background-color: #E2EBFA;\n",
              "      box-shadow: 0px 1px 2px rgba(60, 64, 67, 0.3), 0px 1px 3px 1px rgba(60, 64, 67, 0.15);\n",
              "      fill: #174EA6;\n",
              "    }\n",
              "\n",
              "    [theme=dark] .colab-df-convert {\n",
              "      background-color: #3B4455;\n",
              "      fill: #D2E3FC;\n",
              "    }\n",
              "\n",
              "    [theme=dark] .colab-df-convert:hover {\n",
              "      background-color: #434B5C;\n",
              "      box-shadow: 0px 1px 3px 1px rgba(0, 0, 0, 0.15);\n",
              "      filter: drop-shadow(0px 1px 2px rgba(0, 0, 0, 0.3));\n",
              "      fill: #FFFFFF;\n",
              "    }\n",
              "  </style>\n",
              "\n",
              "      <script>\n",
              "        const buttonEl =\n",
              "          document.querySelector('#df-1408c70c-be9b-49e0-81b7-9f4e99e7c18d button.colab-df-convert');\n",
              "        buttonEl.style.display =\n",
              "          google.colab.kernel.accessAllowed ? 'block' : 'none';\n",
              "\n",
              "        async function convertToInteractive(key) {\n",
              "          const element = document.querySelector('#df-1408c70c-be9b-49e0-81b7-9f4e99e7c18d');\n",
              "          const dataTable =\n",
              "            await google.colab.kernel.invokeFunction('convertToInteractive',\n",
              "                                                     [key], {});\n",
              "          if (!dataTable) return;\n",
              "\n",
              "          const docLinkHtml = 'Like what you see? Visit the ' +\n",
              "            '<a target=\"_blank\" href=https://colab.research.google.com/notebooks/data_table.ipynb>data table notebook</a>'\n",
              "            + ' to learn more about interactive tables.';\n",
              "          element.innerHTML = '';\n",
              "          dataTable['output_type'] = 'display_data';\n",
              "          await google.colab.output.renderOutput(dataTable, element);\n",
              "          const docLink = document.createElement('div');\n",
              "          docLink.innerHTML = docLinkHtml;\n",
              "          element.appendChild(docLink);\n",
              "        }\n",
              "      </script>\n",
              "    </div>\n",
              "  </div>\n",
              "  "
            ]
          },
          "metadata": {},
          "execution_count": 143
        }
      ]
    },
    {
      "cell_type": "code",
      "source": [
        "import re\n",
        "import nltk\n",
        "nltk.download('stopwords')\n",
        "from nltk.corpus import stopwords\n",
        "from nltk.stem.porter import PorterStemmer"
      ],
      "metadata": {
        "colab": {
          "base_uri": "https://localhost:8080/"
        },
        "id": "AoLA-uvm9J-p",
        "outputId": "bda85f12-b1b4-4f76-f286-0378b58265a4"
      },
      "execution_count": null,
      "outputs": [
        {
          "output_type": "stream",
          "name": "stdout",
          "text": [
            "[nltk_data] Downloading package stopwords to /root/nltk_data...\n",
            "[nltk_data]   Package stopwords is already up-to-date!\n"
          ]
        }
      ]
    },
    {
      "cell_type": "code",
      "source": [
        "corpus=[]"
      ],
      "metadata": {
        "id": "BhiDo0ER9flW"
      },
      "execution_count": null,
      "outputs": []
    },
    {
      "cell_type": "code",
      "source": [
        "for i in range(0,1000):\n",
        "  review=re.sub('[^a-zA-z]',' ',df['Review'][i])\n",
        "  review=review.lower()\n",
        "  review=review.split()\n",
        "  ps=PorterStemmer()\n",
        "  review=[ps.stem(word) for word in review if not word in set(stopwords.words('english'))]\n",
        "  review=' '.join(review)\n",
        "  corpus.append(review)\n",
        "  "
      ],
      "metadata": {
        "id": "3wjUO32V9oVo"
      },
      "execution_count": null,
      "outputs": []
    },
    {
      "cell_type": "code",
      "source": [
        "#create the bag of words model\n",
        "from sklearn.feature_extraction.text import CountVectorizer\n",
        "cv=CountVectorizer(max_features=1500)"
      ],
      "metadata": {
        "id": "zTkpzkXvAXX_"
      },
      "execution_count": null,
      "outputs": []
    },
    {
      "cell_type": "code",
      "source": [
        "x=cv.fit_transform(corpus).toarray()\n",
        "y=df['Liked'].values"
      ],
      "metadata": {
        "id": "cCXj3Ss-AuZI"
      },
      "execution_count": null,
      "outputs": []
    },
    {
      "cell_type": "code",
      "source": [
        "# Splitting the dataset into the Training set and Test set\n",
        "from sklearn.model_selection import train_test_split\n",
        "x_train, x_test, y_train, y_test = train_test_split(x, y, test_size = 0.25, random_state = 0)"
      ],
      "metadata": {
        "id": "kooH_QncBFlJ"
      },
      "execution_count": null,
      "outputs": []
    },
    {
      "cell_type": "code",
      "source": [
        "#scaling\n",
        "from sklearn.preprocessing import StandardScaler\n",
        "sc=StandardScaler()\n",
        "x_train=sc.fit_transform(x_train)\n",
        "x_test=sc.transform(x_test)"
      ],
      "metadata": {
        "id": "AxgR_miOBfvx"
      },
      "execution_count": null,
      "outputs": []
    },
    {
      "cell_type": "code",
      "source": [
        "#LogisticRegression\n",
        "\n",
        "# Fitting Logistic Regression to the Training set\n",
        "\n",
        "from sklearn.linear_model import LogisticRegression\n",
        "model=LogisticRegression()\n",
        "model.fit(x_train,y_train)"
      ],
      "metadata": {
        "colab": {
          "base_uri": "https://localhost:8080/"
        },
        "id": "XM9W2WQeBiH7",
        "outputId": "3104fec1-32c6-4ed5-9669-6f6b26d4222e"
      },
      "execution_count": null,
      "outputs": [
        {
          "output_type": "execute_result",
          "data": {
            "text/plain": [
              "LogisticRegression()"
            ]
          },
          "metadata": {},
          "execution_count": 151
        }
      ]
    },
    {
      "cell_type": "code",
      "source": [
        "#prediction\n",
        "y_pred=model.predict(x_test)"
      ],
      "metadata": {
        "id": "lxt0IfmhBkSF"
      },
      "execution_count": null,
      "outputs": []
    },
    {
      "cell_type": "code",
      "source": [
        "#predicting the occurances of  probabilitiess for the data\n",
        "model.predict_proba(x_test)"
      ],
      "metadata": {
        "colab": {
          "base_uri": "https://localhost:8080/"
        },
        "id": "i_RgqwgVBmzp",
        "outputId": "36f81659-1fbe-4f13-a360-c4a4652d6b56"
      },
      "execution_count": null,
      "outputs": [
        {
          "output_type": "execute_result",
          "data": {
            "text/plain": [
              "array([[9.94572260e-01, 5.42773953e-03],\n",
              "       [9.66104830e-01, 3.38951704e-02],\n",
              "       [9.81640723e-01, 1.83592771e-02],\n",
              "       [9.99775211e-01, 2.24788510e-04],\n",
              "       [9.58333617e-01, 4.16663829e-02],\n",
              "       [7.94623183e-01, 2.05376817e-01],\n",
              "       [1.14335864e-05, 9.99988566e-01],\n",
              "       [9.30264062e-01, 6.97359380e-02],\n",
              "       [9.93498006e-01, 6.50199352e-03],\n",
              "       [1.13880230e-02, 9.88611977e-01],\n",
              "       [6.59340721e-01, 3.40659279e-01],\n",
              "       [1.57871778e-02, 9.84212822e-01],\n",
              "       [5.62806955e-01, 4.37193045e-01],\n",
              "       [1.45625649e-02, 9.85437435e-01],\n",
              "       [1.34189174e-02, 9.86581083e-01],\n",
              "       [5.66102337e-06, 9.99994339e-01],\n",
              "       [1.49529878e-01, 8.50470122e-01],\n",
              "       [6.86894073e-01, 3.13105927e-01],\n",
              "       [9.99626990e-01, 3.73010075e-04],\n",
              "       [4.49887206e-02, 9.55011279e-01],\n",
              "       [9.46073109e-01, 5.39268906e-02],\n",
              "       [6.95289970e-01, 3.04710030e-01],\n",
              "       [3.24158750e-02, 9.67584125e-01],\n",
              "       [4.97585686e-01, 5.02414314e-01],\n",
              "       [4.86208755e-01, 5.13791245e-01],\n",
              "       [1.11751277e-03, 9.98882487e-01],\n",
              "       [9.50635394e-01, 4.93646063e-02],\n",
              "       [1.60482990e-05, 9.99983952e-01],\n",
              "       [5.51327221e-03, 9.94486728e-01],\n",
              "       [5.65949567e-01, 4.34050433e-01],\n",
              "       [5.06413569e-01, 4.93586431e-01],\n",
              "       [3.43795513e-01, 6.56204487e-01],\n",
              "       [9.57397334e-01, 4.26026661e-02],\n",
              "       [2.63777447e-02, 9.73622255e-01],\n",
              "       [2.11279564e-02, 9.78872044e-01],\n",
              "       [9.76126057e-01, 2.38739425e-02],\n",
              "       [9.42385534e-01, 5.76144658e-02],\n",
              "       [8.77419494e-01, 1.22580506e-01],\n",
              "       [9.86173357e-01, 1.38266427e-02],\n",
              "       [6.74378415e-06, 9.99993256e-01],\n",
              "       [4.52602163e-01, 5.47397837e-01],\n",
              "       [2.84520327e-02, 9.71547967e-01],\n",
              "       [1.75126410e-01, 8.24873590e-01],\n",
              "       [9.94540668e-01, 5.45933182e-03],\n",
              "       [9.99255761e-01, 7.44239001e-04],\n",
              "       [9.99996979e-01, 3.02057887e-06],\n",
              "       [3.11169432e-01, 6.88830568e-01],\n",
              "       [1.02235120e-02, 9.89776488e-01],\n",
              "       [7.26336780e-01, 2.73663220e-01],\n",
              "       [9.99570053e-01, 4.29946702e-04],\n",
              "       [6.59806117e-05, 9.99934019e-01],\n",
              "       [3.19586987e-03, 9.96804130e-01],\n",
              "       [6.93410613e-01, 3.06589387e-01],\n",
              "       [1.29867489e-04, 9.99870133e-01],\n",
              "       [2.21859372e-01, 7.78140628e-01],\n",
              "       [9.88128193e-01, 1.18718075e-02],\n",
              "       [7.26579951e-01, 2.73420049e-01],\n",
              "       [4.67420867e-01, 5.32579133e-01],\n",
              "       [9.99959711e-01, 4.02889410e-05],\n",
              "       [2.81560311e-01, 7.18439689e-01],\n",
              "       [7.89426208e-01, 2.10573792e-01],\n",
              "       [9.99991899e-01, 8.10121546e-06],\n",
              "       [1.09487447e-02, 9.89051255e-01],\n",
              "       [6.73679528e-02, 9.32632047e-01],\n",
              "       [6.41052378e-03, 9.93589476e-01],\n",
              "       [9.70614950e-01, 2.93850497e-02],\n",
              "       [6.82331349e-01, 3.17668651e-01],\n",
              "       [4.93207142e-01, 5.06792858e-01],\n",
              "       [6.84541763e-01, 3.15458237e-01],\n",
              "       [9.84247737e-01, 1.57522629e-02],\n",
              "       [2.41461009e-05, 9.99975854e-01],\n",
              "       [1.60445183e-01, 8.39554817e-01],\n",
              "       [2.98442300e-01, 7.01557700e-01],\n",
              "       [7.45845255e-02, 9.25415474e-01],\n",
              "       [9.99320736e-01, 6.79263550e-04],\n",
              "       [9.88492833e-01, 1.15071665e-02],\n",
              "       [7.59424669e-03, 9.92405753e-01],\n",
              "       [4.26081635e-01, 5.73918365e-01],\n",
              "       [9.99998001e-01, 1.99946011e-06],\n",
              "       [4.27344389e-02, 9.57265561e-01],\n",
              "       [2.84137694e-02, 9.71586231e-01],\n",
              "       [6.62736790e-02, 9.33726321e-01],\n",
              "       [4.60332831e-02, 9.53966717e-01],\n",
              "       [9.88036960e-01, 1.19630397e-02],\n",
              "       [1.39723279e-03, 9.98602767e-01],\n",
              "       [1.32101638e-02, 9.86789836e-01],\n",
              "       [5.49229121e-02, 9.45077088e-01],\n",
              "       [9.88434571e-01, 1.15654293e-02],\n",
              "       [2.41003230e-02, 9.75899677e-01],\n",
              "       [4.72702358e-01, 5.27297642e-01],\n",
              "       [9.23103571e-01, 7.68964295e-02],\n",
              "       [8.52305277e-02, 9.14769472e-01],\n",
              "       [9.75502134e-01, 2.44978657e-02],\n",
              "       [9.19712032e-01, 8.02879684e-02],\n",
              "       [1.49853427e-01, 8.50146573e-01],\n",
              "       [9.99428904e-01, 5.71095675e-04],\n",
              "       [7.25984056e-01, 2.74015944e-01],\n",
              "       [8.94068945e-02, 9.10593105e-01],\n",
              "       [7.28298741e-01, 2.71701259e-01],\n",
              "       [1.21846296e-01, 8.78153704e-01],\n",
              "       [9.96190630e-01, 3.80936984e-03],\n",
              "       [1.33969262e-02, 9.86603074e-01],\n",
              "       [2.17091617e-01, 7.82908383e-01],\n",
              "       [2.05467200e-03, 9.97945328e-01],\n",
              "       [9.99776142e-01, 2.23857539e-04],\n",
              "       [6.50080262e-02, 9.34991974e-01],\n",
              "       [1.63077745e-01, 8.36922255e-01],\n",
              "       [8.21428336e-04, 9.99178572e-01],\n",
              "       [6.11548681e-01, 3.88451319e-01],\n",
              "       [7.33240982e-01, 2.66759018e-01],\n",
              "       [9.99995375e-01, 4.62478899e-06],\n",
              "       [5.50161076e-01, 4.49838924e-01],\n",
              "       [9.97744349e-01, 2.25565088e-03],\n",
              "       [6.60546357e-01, 3.39453643e-01],\n",
              "       [3.62399913e-01, 6.37600087e-01],\n",
              "       [9.64514073e-01, 3.54859267e-02],\n",
              "       [1.29182616e-02, 9.87081738e-01],\n",
              "       [1.61903482e-02, 9.83809652e-01],\n",
              "       [2.82602777e-02, 9.71739722e-01],\n",
              "       [9.12275900e-02, 9.08772410e-01],\n",
              "       [8.36487890e-01, 1.63512110e-01],\n",
              "       [7.14586977e-01, 2.85413023e-01],\n",
              "       [5.48061048e-03, 9.94519390e-01],\n",
              "       [2.65364077e-01, 7.34635923e-01],\n",
              "       [9.99651098e-01, 3.48901524e-04],\n",
              "       [9.90406133e-01, 9.59386748e-03],\n",
              "       [9.68448622e-02, 9.03155138e-01],\n",
              "       [6.34420033e-02, 9.36557997e-01],\n",
              "       [9.58879154e-01, 4.11208460e-02],\n",
              "       [5.88150506e-01, 4.11849494e-01],\n",
              "       [7.24073744e-01, 2.75926256e-01],\n",
              "       [7.87631159e-01, 2.12368841e-01],\n",
              "       [8.91905487e-01, 1.08094513e-01],\n",
              "       [8.43192133e-01, 1.56807867e-01],\n",
              "       [1.04660121e-03, 9.98953399e-01],\n",
              "       [8.26290924e-03, 9.91737091e-01],\n",
              "       [4.31711400e-01, 5.68288600e-01],\n",
              "       [9.24199854e-02, 9.07580015e-01],\n",
              "       [3.17384580e-02, 9.68261542e-01],\n",
              "       [8.35518315e-01, 1.64481685e-01],\n",
              "       [9.98830478e-01, 1.16952250e-03],\n",
              "       [2.08784396e-03, 9.97912156e-01],\n",
              "       [9.77011056e-01, 2.29889443e-02],\n",
              "       [9.98420563e-01, 1.57943691e-03],\n",
              "       [9.61731354e-01, 3.82686463e-02],\n",
              "       [9.94390030e-01, 5.60997035e-03],\n",
              "       [9.45962530e-01, 5.40374700e-02],\n",
              "       [9.61207890e-01, 3.87921096e-02],\n",
              "       [1.93519378e-01, 8.06480622e-01],\n",
              "       [9.39279142e-02, 9.06072086e-01],\n",
              "       [8.47871043e-03, 9.91521290e-01],\n",
              "       [9.95270264e-01, 4.72973641e-03],\n",
              "       [8.76938774e-01, 1.23061226e-01],\n",
              "       [2.37300396e-01, 7.62699604e-01],\n",
              "       [6.47686987e-02, 9.35231301e-01],\n",
              "       [9.89004358e-01, 1.09956422e-02],\n",
              "       [3.26689659e-01, 6.73310341e-01],\n",
              "       [8.60735723e-01, 1.39264277e-01],\n",
              "       [7.00938593e-03, 9.92990614e-01],\n",
              "       [4.19554144e-01, 5.80445856e-01],\n",
              "       [7.35719433e-01, 2.64280567e-01],\n",
              "       [9.92036959e-01, 7.96304126e-03],\n",
              "       [7.92775393e-01, 2.07224607e-01],\n",
              "       [3.75724591e-01, 6.24275409e-01],\n",
              "       [2.73101354e-01, 7.26898646e-01],\n",
              "       [9.91589684e-01, 8.41031640e-03],\n",
              "       [6.43023462e-01, 3.56976538e-01],\n",
              "       [9.00042729e-01, 9.99572713e-02],\n",
              "       [9.97474879e-01, 2.52512130e-03],\n",
              "       [9.97748510e-01, 2.25148965e-03],\n",
              "       [9.83064508e-01, 1.69354921e-02],\n",
              "       [8.11904389e-03, 9.91880956e-01],\n",
              "       [3.92668218e-03, 9.96073318e-01],\n",
              "       [9.75431521e-01, 2.45684793e-02],\n",
              "       [9.99994032e-01, 5.96795134e-06],\n",
              "       [9.37340293e-01, 6.26597070e-02],\n",
              "       [9.99968403e-01, 3.15968623e-05],\n",
              "       [5.12155206e-02, 9.48784479e-01],\n",
              "       [9.98991537e-01, 1.00846346e-03],\n",
              "       [6.79036981e-01, 3.20963019e-01],\n",
              "       [3.16625893e-02, 9.68337411e-01],\n",
              "       [1.28461787e-03, 9.98715382e-01],\n",
              "       [9.99988230e-01, 1.17703781e-05],\n",
              "       [3.76224334e-01, 6.23775666e-01],\n",
              "       [9.99452079e-01, 5.47921437e-04],\n",
              "       [4.79281236e-02, 9.52071876e-01],\n",
              "       [9.82097291e-01, 1.79027085e-02],\n",
              "       [7.30364842e-01, 2.69635158e-01],\n",
              "       [9.99630664e-01, 3.69336435e-04],\n",
              "       [4.12817042e-02, 9.58718296e-01],\n",
              "       [4.90241415e-01, 5.09758585e-01],\n",
              "       [9.74590238e-01, 2.54097619e-02],\n",
              "       [6.06945005e-01, 3.93054995e-01],\n",
              "       [4.97977325e-02, 9.50202268e-01],\n",
              "       [1.81873012e-01, 8.18126988e-01],\n",
              "       [9.48783305e-01, 5.12166953e-02],\n",
              "       [1.41348666e-03, 9.98586513e-01],\n",
              "       [1.35366620e-02, 9.86463338e-01],\n",
              "       [9.27163496e-01, 7.28365037e-02],\n",
              "       [7.65639874e-02, 9.23436013e-01],\n",
              "       [1.97313934e-04, 9.99802686e-01],\n",
              "       [4.37437031e-03, 9.95625630e-01],\n",
              "       [5.85733176e-02, 9.41426682e-01],\n",
              "       [9.98046707e-01, 1.95329267e-03],\n",
              "       [6.40266675e-02, 9.35973332e-01],\n",
              "       [8.96958846e-01, 1.03041154e-01],\n",
              "       [2.14437101e-02, 9.78556290e-01],\n",
              "       [6.21174797e-03, 9.93788252e-01],\n",
              "       [9.99805584e-01, 1.94416055e-04],\n",
              "       [9.36345692e-01, 6.36543081e-02],\n",
              "       [1.54866751e-02, 9.84513325e-01],\n",
              "       [9.99305210e-01, 6.94789752e-04],\n",
              "       [9.04751902e-01, 9.52480984e-02],\n",
              "       [9.67962239e-01, 3.20377607e-02],\n",
              "       [1.90037958e-04, 9.99809962e-01],\n",
              "       [9.81425741e-01, 1.85742593e-02],\n",
              "       [2.70839719e-01, 7.29160281e-01],\n",
              "       [2.12287043e-02, 9.78771296e-01],\n",
              "       [7.47907678e-01, 2.52092322e-01],\n",
              "       [5.14031901e-05, 9.99948597e-01],\n",
              "       [9.99776162e-01, 2.23838166e-04],\n",
              "       [4.66876870e-01, 5.33123130e-01],\n",
              "       [9.74169719e-01, 2.58302814e-02],\n",
              "       [9.96145296e-01, 3.85470371e-03],\n",
              "       [1.49069335e-02, 9.85093066e-01],\n",
              "       [3.85452045e-03, 9.96145480e-01],\n",
              "       [8.13120789e-01, 1.86879211e-01],\n",
              "       [6.75297580e-01, 3.24702420e-01],\n",
              "       [3.65847033e-01, 6.34152967e-01],\n",
              "       [9.59995195e-01, 4.00048048e-02],\n",
              "       [3.04481341e-01, 6.95518659e-01],\n",
              "       [4.66385818e-02, 9.53361418e-01],\n",
              "       [7.60987669e-01, 2.39012331e-01],\n",
              "       [6.21771228e-01, 3.78228772e-01],\n",
              "       [1.74325894e-02, 9.82567411e-01],\n",
              "       [4.34923437e-01, 5.65076563e-01],\n",
              "       [9.94694373e-01, 5.30562664e-03],\n",
              "       [4.14795084e-04, 9.99585205e-01],\n",
              "       [9.82065840e-01, 1.79341602e-02],\n",
              "       [6.33220692e-01, 3.66779308e-01],\n",
              "       [9.07386007e-01, 9.26139931e-02],\n",
              "       [1.17927291e-02, 9.88207271e-01],\n",
              "       [4.48028167e-01, 5.51971833e-01],\n",
              "       [7.85915449e-02, 9.21408455e-01],\n",
              "       [9.99925663e-01, 7.43370406e-05],\n",
              "       [5.18726683e-01, 4.81273317e-01],\n",
              "       [3.93364138e-02, 9.60663586e-01],\n",
              "       [9.26813535e-01, 7.31864653e-02],\n",
              "       [9.85415339e-01, 1.45846607e-02],\n",
              "       [8.61974302e-01, 1.38025698e-01]])"
            ]
          },
          "metadata": {},
          "execution_count": 153
        }
      ]
    },
    {
      "cell_type": "code",
      "source": [
        "#to measure the accuracy of model\n",
        "from sklearn.metrics import accuracy_score,confusion_matrix,classification_report\n",
        "accuracy_score(y_test,y_pred)"
      ],
      "metadata": {
        "colab": {
          "base_uri": "https://localhost:8080/"
        },
        "id": "5CWcY204BpZ1",
        "outputId": "47dcea56-50d6-4e92-c753-3ff423e348c7"
      },
      "execution_count": null,
      "outputs": [
        {
          "output_type": "execute_result",
          "data": {
            "text/plain": [
              "0.728"
            ]
          },
          "metadata": {},
          "execution_count": 154
        }
      ]
    },
    {
      "cell_type": "code",
      "source": [
        "#Confusion matrix\n",
        "confusion_matrix(y_test,y_pred)"
      ],
      "metadata": {
        "colab": {
          "base_uri": "https://localhost:8080/"
        },
        "id": "DR_BOw2DBs23",
        "outputId": "ccc8dfb2-63e3-4f9e-baf6-c74de20a570a"
      },
      "execution_count": null,
      "outputs": [
        {
          "output_type": "execute_result",
          "data": {
            "text/plain": [
              "array([[89, 28],\n",
              "       [40, 93]])"
            ]
          },
          "metadata": {},
          "execution_count": 155
        }
      ]
    },
    {
      "cell_type": "code",
      "source": [
        "#Classification Report\n",
        "z=classification_report(y_test,y_pred)\n",
        "print(z)"
      ],
      "metadata": {
        "colab": {
          "base_uri": "https://localhost:8080/"
        },
        "id": "ZjeDpZbCBu_N",
        "outputId": "9086592e-58be-4bef-a8bd-1dd0a34c7ec7"
      },
      "execution_count": null,
      "outputs": [
        {
          "output_type": "stream",
          "name": "stdout",
          "text": [
            "              precision    recall  f1-score   support\n",
            "\n",
            "           0       0.69      0.76      0.72       117\n",
            "           1       0.77      0.70      0.73       133\n",
            "\n",
            "    accuracy                           0.73       250\n",
            "   macro avg       0.73      0.73      0.73       250\n",
            "weighted avg       0.73      0.73      0.73       250\n",
            "\n"
          ]
        }
      ]
    },
    {
      "cell_type": "code",
      "source": [
        "#Unsupervised learning \n",
        "# Importing Libraries\n",
        "from sklearn.cluster import KMeans\n",
        "from sklearn.metrics import silhouette_score, silhouette_samples\n"
      ],
      "metadata": {
        "id": "HYt38HGMb_aX"
      },
      "execution_count": null,
      "outputs": []
    },
    {
      "cell_type": "code",
      "source": [
        "#K-Means Clustering\n",
        "# Instantiate the KMeans models\n",
        "km = KMeans(n_clusters=3, random_state=42)"
      ],
      "metadata": {
        "id": "JLjoWEfgdtDr"
      },
      "execution_count": null,
      "outputs": []
    },
    {
      "cell_type": "code",
      "source": [
        "#fit the k-means model\n",
        "km.fit_predict(x)"
      ],
      "metadata": {
        "colab": {
          "base_uri": "https://localhost:8080/"
        },
        "id": "a-eUuU2CduiX",
        "outputId": "219fd6cf-b0b8-4a68-f89b-e44c58d193f0"
      },
      "execution_count": null,
      "outputs": [
        {
          "output_type": "execute_result",
          "data": {
            "text/plain": [
              "array([0, 0, 0, 0, 2, 0, 0, 0, 2, 2, 0, 1, 0, 0, 0, 0, 0, 0, 0, 0, 0, 0,\n",
              "       0, 0, 0, 0, 0, 2, 0, 0, 0, 0, 0, 0, 0, 0, 0, 0, 0, 0, 0, 0, 0, 2,\n",
              "       0, 0, 0, 0, 1, 0, 0, 0, 0, 0, 0, 2, 0, 0, 0, 0, 0, 0, 0, 1, 0, 2,\n",
              "       2, 1, 0, 2, 0, 0, 0, 0, 0, 0, 0, 0, 0, 1, 0, 0, 0, 0, 0, 0, 0, 0,\n",
              "       0, 0, 0, 0, 0, 0, 0, 1, 1, 0, 0, 0, 1, 0, 0, 0, 0, 0, 2, 0, 1, 0,\n",
              "       0, 0, 0, 0, 0, 0, 0, 0, 0, 0, 0, 0, 0, 0, 0, 0, 0, 0, 0, 0, 0, 0,\n",
              "       0, 0, 0, 2, 0, 0, 0, 2, 0, 0, 0, 0, 0, 0, 1, 0, 0, 0, 0, 2, 0, 0,\n",
              "       2, 0, 0, 1, 0, 0, 1, 0, 0, 0, 0, 0, 0, 1, 0, 0, 0, 0, 0, 0, 0, 1,\n",
              "       0, 0, 1, 0, 0, 1, 0, 0, 0, 0, 0, 0, 0, 0, 0, 0, 0, 0, 0, 1, 0, 0,\n",
              "       0, 0, 0, 2, 0, 2, 0, 0, 0, 0, 0, 0, 0, 0, 0, 1, 0, 0, 0, 0, 0, 0,\n",
              "       0, 0, 0, 1, 0, 0, 0, 0, 0, 0, 0, 0, 0, 0, 2, 0, 0, 0, 1, 0, 0, 0,\n",
              "       0, 0, 0, 0, 0, 0, 0, 1, 2, 0, 0, 0, 0, 0, 0, 0, 0, 0, 0, 0, 0, 0,\n",
              "       0, 0, 0, 0, 0, 0, 0, 1, 0, 0, 0, 0, 0, 0, 0, 0, 0, 0, 0, 0, 0, 2,\n",
              "       0, 0, 0, 0, 0, 0, 2, 1, 0, 0, 1, 0, 0, 0, 0, 0, 0, 0, 0, 0, 1, 1,\n",
              "       0, 0, 0, 0, 0, 1, 2, 0, 0, 1, 1, 0, 0, 0, 0, 0, 0, 0, 0, 0, 1, 0,\n",
              "       0, 1, 0, 0, 0, 2, 0, 0, 0, 0, 0, 2, 0, 0, 0, 0, 0, 0, 0, 0, 0, 0,\n",
              "       0, 0, 0, 0, 0, 0, 0, 0, 0, 0, 0, 1, 2, 0, 0, 1, 2, 0, 0, 0, 0, 0,\n",
              "       0, 0, 1, 0, 0, 0, 1, 2, 0, 0, 1, 0, 1, 0, 0, 1, 0, 0, 2, 0, 0, 0,\n",
              "       1, 2, 0, 0, 0, 0, 0, 2, 0, 0, 0, 0, 0, 0, 0, 0, 0, 0, 0, 0, 0, 0,\n",
              "       1, 0, 0, 0, 0, 0, 0, 0, 0, 0, 0, 0, 0, 0, 0, 0, 0, 0, 1, 0, 0, 0,\n",
              "       0, 1, 0, 0, 0, 0, 1, 0, 0, 2, 1, 0, 0, 0, 0, 0, 0, 2, 0, 0, 0, 0,\n",
              "       0, 0, 0, 0, 1, 0, 0, 0, 0, 0, 2, 0, 1, 0, 0, 0, 0, 0, 0, 0, 0, 0,\n",
              "       1, 0, 0, 1, 0, 0, 1, 0, 0, 0, 0, 0, 0, 0, 0, 0, 0, 0, 0, 0, 0, 0,\n",
              "       0, 0, 0, 0, 0, 0, 0, 0, 0, 0, 0, 0, 1, 0, 0, 1, 0, 0, 0, 0, 0, 1,\n",
              "       0, 0, 0, 0, 0, 0, 0, 0, 0, 2, 0, 0, 0, 0, 0, 1, 1, 0, 1, 0, 0, 0,\n",
              "       1, 0, 0, 0, 0, 0, 0, 0, 0, 0, 0, 0, 0, 2, 2, 1, 1, 0, 0, 0, 0, 0,\n",
              "       0, 1, 0, 0, 0, 0, 0, 0, 0, 0, 1, 0, 0, 2, 1, 0, 2, 0, 2, 0, 0, 0,\n",
              "       0, 0, 0, 0, 0, 0, 0, 0, 0, 2, 0, 0, 0, 0, 0, 0, 0, 0, 0, 0, 0, 0,\n",
              "       0, 0, 0, 0, 0, 0, 0, 1, 0, 0, 0, 0, 0, 0, 2, 0, 0, 0, 0, 0, 1, 2,\n",
              "       0, 0, 0, 0, 0, 0, 0, 0, 0, 0, 2, 1, 0, 2, 0, 0, 0, 0, 0, 0, 0, 2,\n",
              "       0, 0, 0, 2, 0, 0, 0, 0, 0, 0, 1, 0, 0, 2, 0, 0, 1, 0, 2, 0, 0, 0,\n",
              "       0, 2, 0, 0, 0, 0, 0, 0, 0, 1, 1, 0, 0, 0, 0, 0, 1, 0, 0, 0, 1, 0,\n",
              "       0, 0, 0, 0, 1, 0, 0, 0, 0, 1, 0, 2, 0, 0, 0, 1, 0, 0, 2, 0, 0, 2,\n",
              "       0, 0, 0, 0, 0, 0, 0, 0, 0, 1, 0, 0, 0, 0, 0, 0, 0, 0, 1, 0, 0, 0,\n",
              "       0, 0, 0, 0, 0, 1, 0, 0, 0, 2, 0, 0, 0, 0, 0, 0, 0, 0, 1, 0, 0, 0,\n",
              "       0, 2, 0, 0, 0, 0, 0, 0, 0, 0, 0, 0, 0, 0, 0, 0, 1, 0, 0, 2, 0, 0,\n",
              "       0, 0, 0, 1, 0, 2, 0, 0, 0, 0, 0, 0, 0, 0, 0, 0, 0, 0, 0, 0, 0, 0,\n",
              "       0, 0, 0, 0, 0, 0, 0, 0, 0, 0, 0, 1, 0, 0, 0, 0, 0, 0, 0, 0, 0, 0,\n",
              "       2, 0, 0, 1, 0, 0, 0, 1, 0, 0, 0, 1, 0, 0, 2, 1, 0, 2, 0, 0, 2, 0,\n",
              "       1, 0, 0, 2, 0, 0, 0, 0, 0, 1, 2, 0, 0, 0, 2, 0, 0, 0, 0, 1, 0, 0,\n",
              "       0, 0, 0, 0, 0, 0, 0, 0, 0, 0, 0, 0, 0, 0, 0, 2, 0, 0, 0, 2, 0, 0,\n",
              "       0, 0, 0, 0, 0, 0, 0, 0, 0, 0, 0, 0, 0, 0, 0, 0, 0, 0, 1, 0, 0, 0,\n",
              "       0, 0, 0, 0, 0, 0, 0, 0, 0, 1, 0, 0, 0, 0, 0, 0, 0, 1, 0, 0, 0, 0,\n",
              "       0, 0, 0, 0, 0, 0, 0, 0, 0, 1, 0, 0, 0, 0, 1, 0, 0, 0, 0, 0, 0, 1,\n",
              "       0, 1, 0, 0, 0, 0, 0, 0, 0, 0, 0, 0, 0, 0, 0, 0, 0, 0, 0, 0, 0, 0,\n",
              "       0, 0, 0, 0, 0, 0, 0, 1, 1, 0], dtype=int32)"
            ]
          },
          "metadata": {},
          "execution_count": 159
        }
      ]
    },
    {
      "cell_type": "code",
      "source": [
        "# Calculate Silhoutte Score\n",
        "score = silhouette_score(x, km.labels_, metric='euclidean')"
      ],
      "metadata": {
        "id": "VGvgJhGZdxa0"
      },
      "execution_count": null,
      "outputs": []
    },
    {
      "cell_type": "code",
      "source": [
        "# Print the score\n",
        "print('Silhouetter Score: %.3f' % score)"
      ],
      "metadata": {
        "colab": {
          "base_uri": "https://localhost:8080/"
        },
        "id": "RX5LWFxgd0Or",
        "outputId": "af0a5a07-5083-467d-e3ab-642c82990fdb"
      },
      "execution_count": null,
      "outputs": [
        {
          "output_type": "stream",
          "name": "stdout",
          "text": [
            "Silhouetter Score: 0.030\n"
          ]
        }
      ]
    },
    {
      "cell_type": "code",
      "source": [
        "import matplotlib.pyplot as plt\n",
        "from yellowbrick.cluster import SilhouetteVisualizer\n",
        "\n",
        "fig, ax = plt.subplots(2, 2, figsize=(15,8))\n",
        "for i in [2, 3, 4, 5]:\n",
        "    '''\n",
        "    Create KMeans instance for different number of clusters\n",
        "    '''\n",
        "    km = KMeans(n_clusters=i, init='k-means++', n_init=10, max_iter=100, random_state=42)\n",
        "    q, mod = divmod(i, 2)\n",
        "    '''\n",
        "    Create SilhouetteVisualizer instance with KMeans instance\n",
        "    Fit the visualizer\n",
        "    '''\n",
        "    visualizer = SilhouetteVisualizer(km, colors='yellowbrick', ax=ax[q-1][mod])\n",
        "    visualizer.fit(x)"
      ],
      "metadata": {
        "colab": {
          "base_uri": "https://localhost:8080/",
          "height": 483
        },
        "id": "nBmE4PiiCzw2",
        "outputId": "02cc8a3d-c63f-4daf-a611-48b743309f77"
      },
      "execution_count": null,
      "outputs": [
        {
          "output_type": "display_data",
          "data": {
            "text/plain": [
              "<Figure size 1080x576 with 4 Axes>"
            ],
            "image/png": "[encoded data removed]"
          },
          "metadata": {}
        }
      ]
    },
    {
      "cell_type": "code",
      "source": [
        ""
      ],
      "metadata": {
        "id": "_wT9SA3VC3WS"
      },
      "execution_count": null,
      "outputs": []
    },
    {
      "cell_type": "code",
      "source": [
        "# SVM Classifier\n",
        "#fiting svm to the training set\n",
        "from sklearn.svm import SVC\n",
        "classifier=SVC(kernel='rbf',probability= True, random_state=0)\n",
        "classifier.fit(x_train,y_train)"
      ],
      "metadata": {
        "colab": {
          "base_uri": "https://localhost:8080/"
        },
        "id": "7twhq9p_Zy9x",
        "outputId": "f1773072-41bd-4df3-b6c0-da762cfb1c2b"
      },
      "execution_count": null,
      "outputs": [
        {
          "output_type": "execute_result",
          "data": {
            "text/plain": [
              "SVC(probability=True, random_state=0)"
            ]
          },
          "metadata": {},
          "execution_count": 163
        }
      ]
    },
    {
      "cell_type": "code",
      "source": [
        "#predicting the test set results\n",
        "y_pred=classifier.predict(x_test)"
      ],
      "metadata": {
        "id": "y19IGiPUZyz4"
      },
      "execution_count": null,
      "outputs": []
    },
    {
      "cell_type": "code",
      "source": [
        "#to measure the accuracy of model\n",
        "from sklearn.metrics import accuracy_score,confusion_matrix,classification_report\n",
        "accuracy_score(y_test,y_pred)"
      ],
      "metadata": {
        "colab": {
          "base_uri": "https://localhost:8080/"
        },
        "id": "rMaE_QHmawDB",
        "outputId": "847bebc6-f860-4c2b-ed70-4e90236039a9"
      },
      "execution_count": null,
      "outputs": [
        {
          "output_type": "execute_result",
          "data": {
            "text/plain": [
              "0.728"
            ]
          },
          "metadata": {},
          "execution_count": 165
        }
      ]
    },
    {
      "cell_type": "code",
      "source": [
        "#making confusion matrix\n",
        "confusion_matrix(y_test,y_pred)"
      ],
      "metadata": {
        "colab": {
          "base_uri": "https://localhost:8080/"
        },
        "id": "e8Ztu2iBa0q_",
        "outputId": "4bcc4940-ec0e-46e7-ec8b-e70c5cfbd8f0"
      },
      "execution_count": null,
      "outputs": [
        {
          "output_type": "execute_result",
          "data": {
            "text/plain": [
              "array([[ 79,  38],\n",
              "       [ 30, 103]])"
            ]
          },
          "metadata": {},
          "execution_count": 166
        }
      ]
    },
    {
      "cell_type": "code",
      "source": [
        "#classification report\n",
        "z=classification_report(y_test,y_pred)\n",
        "print(z) "
      ],
      "metadata": {
        "colab": {
          "base_uri": "https://localhost:8080/"
        },
        "id": "Bntgn0MNa33z",
        "outputId": "dcf3c00d-86ed-451e-a154-b27cd45102b8"
      },
      "execution_count": null,
      "outputs": [
        {
          "output_type": "stream",
          "name": "stdout",
          "text": [
            "              precision    recall  f1-score   support\n",
            "\n",
            "           0       0.72      0.68      0.70       117\n",
            "           1       0.73      0.77      0.75       133\n",
            "\n",
            "    accuracy                           0.73       250\n",
            "   macro avg       0.73      0.72      0.73       250\n",
            "weighted avg       0.73      0.73      0.73       250\n",
            "\n"
          ]
        }
      ]
    },
    {
      "cell_type": "code",
      "source": [
        "#for computing Receiver operating characteristics\n",
        "from sklearn.metrics import roc_curve\n",
        "#for computing area under curve\n",
        "from sklearn.metrics import roc_auc_score"
      ],
      "metadata": {
        "id": "t7S2e26pa75Z"
      },
      "execution_count": null,
      "outputs": []
    },
    {
      "cell_type": "code",
      "source": [
        "#visualizing the ROC-AUC curve\n",
        "y_proba=classifier.predict_proba(x_test)\n",
        "\n",
        "#we take the predicted values of class 1\n",
        "y_predicted=y_proba[:,1]\n",
        "\n",
        "#we check to see if the right values have been considered from the predicted values\n",
        "print(y_predicted)"
      ],
      "metadata": {
        "colab": {
          "base_uri": "https://localhost:8080/"
        },
        "id": "ZXWgINqWbCxE",
        "outputId": "6df0101a-d10e-4975-9c77-f473e52cb648"
      },
      "execution_count": null,
      "outputs": [
        {
          "output_type": "stream",
          "name": "stdout",
          "text": [
            "[0.14449043 0.31531822 0.43290671 0.19647259 0.11290079 0.76077522\n",
            " 0.77451847 0.1954897  0.09572283 0.93655594 0.33970079 0.80392473\n",
            " 0.74838336 0.8746828  0.94858237 0.95280941 0.57315616 0.2183381\n",
            " 0.14525034 0.79583878 0.43832127 0.21123639 0.93548158 0.60340258\n",
            " 0.32118801 0.45649081 0.64821731 0.94337253 0.98897844 0.52245699\n",
            " 0.66087443 0.543503   0.62130386 0.44134731 0.94413146 0.45167041\n",
            " 0.24916802 0.30918004 0.31310865 0.97311168 0.79940932 0.72506957\n",
            " 0.77458228 0.09737385 0.19483533 0.09222757 0.61676853 0.77725568\n",
            " 0.28617597 0.30463614 0.83904548 0.66671139 0.79913678 0.95959637\n",
            " 0.37526969 0.32098198 0.71814672 0.58270867 0.14516896 0.81061651\n",
            " 0.67422668 0.11949017 0.58162577 0.83511314 0.86105662 0.37779583\n",
            " 0.71625152 0.31000588 0.41363452 0.24469703 0.67933599 0.93738881\n",
            " 0.81570665 0.76294027 0.40228993 0.3925639  0.75662256 0.29271924\n",
            " 0.12173597 0.87980441 0.41006129 0.58906746 0.76186623 0.1888574\n",
            " 0.82441124 0.6731336  0.26864619 0.40694827 0.9691974  0.85920362\n",
            " 0.25311045 0.86873541 0.20232241 0.40680133 0.59302902 0.31655853\n",
            " 0.74885402 0.72058696 0.2355154  0.67959666 0.19872128 0.52694258\n",
            " 0.7511072  0.89459955 0.18232397 0.65041254 0.89848701 0.97155839\n",
            " 0.27045587 0.51313415 0.07996096 0.73748349 0.05289265 0.72274794\n",
            " 0.75793183 0.27913069 0.72800254 0.81347753 0.92357202 0.91356748\n",
            " 0.75762194 0.33476448 0.89673014 0.36761704 0.14596145 0.45783193\n",
            " 0.85889793 0.78152894 0.29370963 0.31654155 0.70319823 0.51374544\n",
            " 0.1964178  0.35030719 0.76495568 0.93748325 0.88256296 0.85964083\n",
            " 0.93978985 0.49187394 0.17221422 0.93970395 0.46538478 0.2063649\n",
            " 0.3999598  0.07620957 0.25574317 0.41268454 0.71560063 0.61967252\n",
            " 0.8635178  0.2811662  0.2897502  0.84220912 0.65341954 0.20782893\n",
            " 0.74397419 0.55836696 0.92583029 0.90735548 0.33244158 0.16153244\n",
            " 0.52395761 0.79703369 0.48784419 0.15586589 0.7413894  0.44131127\n",
            " 0.11098229 0.24294746 0.35630048 0.6134761  0.84539664 0.2614741\n",
            " 0.2137396  0.29484138 0.00988219 0.91993319 0.11136715 0.38004072\n",
            " 0.9189984  0.40401621 0.10128476 0.52225431 0.06121752 0.58030511\n",
            " 0.36193131 0.79042711 0.04714147 0.91872611 0.82192043 0.21264073\n",
            " 0.61327371 0.68573283 0.42738884 0.59237048 0.98052116 0.91325267\n",
            " 0.55957606 0.73844129 0.76739834 0.37029171 0.90867858 0.19248472\n",
            " 0.482467   0.60989182 0.9221141  0.8666416  0.13184764 0.20351832\n",
            " 0.88824243 0.09620694 0.43411457 0.2289348  0.98688668 0.31870582\n",
            " 0.89802817 0.92098465 0.62664802 0.98646726 0.26750688 0.5\n",
            " 0.12525979 0.14812446 0.58327046 0.63291677 0.51735755 0.73530846\n",
            " 0.65752308 0.38023488 0.33283478 0.75507068 0.6476541  0.3597914\n",
            " 0.82298914 0.5        0.18077547 0.55184899 0.22333926 0.54937405\n",
            " 0.3708346  0.9053191  0.52815754 0.65122291 0.08927438 0.58451346\n",
            " 0.59858988 0.20941768 0.5        0.57997342]\n"
          ]
        }
      ]
    },
    {
      "cell_type": "code",
      "source": [
        "#using roc_curve() to generate fpr & tpr values\n",
        "fpr,tpr,thresholds=roc_curve(y_test,y_predicted)"
      ],
      "metadata": {
        "id": "jLrIssevbIKz"
      },
      "execution_count": null,
      "outputs": []
    },
    {
      "cell_type": "code",
      "source": [
        "#passing the fpr&tpr values to auc()to calculate the area under curve\n",
        "from sklearn.metrics import auc\n",
        "roc_auc=auc(fpr,tpr)\n",
        "print(\"Area under the curve for first model\",roc_auc)"
      ],
      "metadata": {
        "colab": {
          "base_uri": "https://localhost:8080/"
        },
        "id": "pvB9nFGVbKpf",
        "outputId": "00b622bd-5545-4e47-8bce-da4d2b58d5e4"
      },
      "execution_count": null,
      "outputs": [
        {
          "output_type": "stream",
          "name": "stdout",
          "text": [
            "Area under the curve for first model 0.8088169140800721\n"
          ]
        }
      ]
    },
    {
      "cell_type": "code",
      "source": [
        "#plotting the ROC curve\n",
        "import matplotlib.pyplot as plt\n",
        "plt.figure()\n",
        "plt.plot(fpr,tpr,color='orange',lw=2,label='ROC curve(area under curve=%0.2f)'%roc_auc)\n",
        "plt.plot([0,1],[0,1],color='darkgrey',lw=2,linestyle='--')\n",
        "plt.xlim([0.0,1.0])\n",
        "plt.ylim([0.0,1.0])\n",
        "plt.xlabel('False Positive Rate(1-Specificity)')\n",
        "plt.ylabel('True Positive Rate(Sensitivity)')\n"
      ],
      "metadata": {
        "colab": {
          "base_uri": "https://localhost:8080/",
          "height": 382
        },
        "id": "J1DeGDJbbM9n",
        "outputId": "65a100f5-8d61-47c4-b977-cfac4967f272"
      },
      "execution_count": null,
      "outputs": [
        {
          "output_type": "execute_result",
          "data": {
            "text/plain": [
              "Text(0, 0.5, 'True Positive Rate(Sensitivity)')"
            ]
          },
          "metadata": {},
          "execution_count": 172
        },
        {
          "output_type": "display_data",
          "data": {
            "text/plain": [
              "<Figure size 576x396 with 1 Axes>"
            ],
            "image/png": "[encoded data removed]"
          },
          "metadata": {}
        }
      ]
    },
    {
      "cell_type": "code",
      "source": [
        ""
      ],
      "metadata": {
        "id": "yM81lzdrDLzP"
      },
      "execution_count": null,
      "outputs": []
    },
    {
      "cell_type": "code",
      "source": [
        "#K-NN classifier\n",
        "#Fitting K-NN to the Training set\n",
        "from sklearn.neighbors import KNeighborsClassifier\n",
        "classifier=KNeighborsClassifier(n_neighbors=5,metric='minkowski',p=2)\n",
        "classifier.fit(x_train,y_train)"
      ],
      "metadata": {
        "colab": {
          "base_uri": "https://localhost:8080/"
        },
        "id": "ig7g6q6CZWA-",
        "outputId": "0dcc21e4-707a-435f-9f86-ec824cde6564"
      },
      "execution_count": null,
      "outputs": [
        {
          "output_type": "execute_result",
          "data": {
            "text/plain": [
              "KNeighborsClassifier()"
            ]
          },
          "metadata": {},
          "execution_count": 173
        }
      ]
    },
    {
      "cell_type": "code",
      "source": [
        "#predicting the test set results\n",
        "y_pred=classifier.predict(x_test)"
      ],
      "metadata": {
        "id": "DH2Q_1S4Zomz"
      },
      "execution_count": null,
      "outputs": []
    },
    {
      "cell_type": "code",
      "source": [
        "#to measure the accuracy of model\n",
        "from sklearn.metrics import accuracy_score,confusion_matrix,classification_report\n",
        "accuracy_score(y_test,y_pred)"
      ],
      "metadata": {
        "colab": {
          "base_uri": "https://localhost:8080/"
        },
        "id": "G6EAZ4opZrf9",
        "outputId": "ccb09f99-d62f-4b40-a166-81bea5c80b06"
      },
      "execution_count": null,
      "outputs": [
        {
          "output_type": "execute_result",
          "data": {
            "text/plain": [
              "0.616"
            ]
          },
          "metadata": {},
          "execution_count": 175
        }
      ]
    },
    {
      "cell_type": "code",
      "source": [
        "#making confusion matrix\n",
        "confusion_matrix(y_test,y_pred)"
      ],
      "metadata": {
        "colab": {
          "base_uri": "https://localhost:8080/"
        },
        "id": "TSo6RBTqZuPv",
        "outputId": "259dcc26-051d-4549-f446-a92ae0b577b3"
      },
      "execution_count": null,
      "outputs": [
        {
          "output_type": "execute_result",
          "data": {
            "text/plain": [
              "array([[88, 29],\n",
              "       [67, 66]])"
            ]
          },
          "metadata": {},
          "execution_count": 176
        }
      ]
    },
    {
      "cell_type": "code",
      "source": [
        "#classification report\n",
        "z=classification_report(y_test,y_pred)\n",
        "print(z) "
      ],
      "metadata": {
        "colab": {
          "base_uri": "https://localhost:8080/"
        },
        "id": "rWq4-gmnZwtC",
        "outputId": "e07ba5a5-1fda-497e-e773-806747cda2fd"
      },
      "execution_count": null,
      "outputs": [
        {
          "output_type": "stream",
          "name": "stdout",
          "text": [
            "              precision    recall  f1-score   support\n",
            "\n",
            "           0       0.57      0.75      0.65       117\n",
            "           1       0.69      0.50      0.58       133\n",
            "\n",
            "    accuracy                           0.62       250\n",
            "   macro avg       0.63      0.62      0.61       250\n",
            "weighted avg       0.64      0.62      0.61       250\n",
            "\n"
          ]
        }
      ]
    },
    {
      "cell_type": "code",
      "source": [
        ""
      ],
      "metadata": {
        "id": "lPwS7iqaDVG6"
      },
      "execution_count": null,
      "outputs": []
    },
    {
      "cell_type": "code",
      "source": [
        "#DecisionTreeClassifier\n",
        "from sklearn.tree import DecisionTreeClassifier\n",
        "model=DecisionTreeClassifier()"
      ],
      "metadata": {
        "id": "D3gWn9xcX2aB"
      },
      "execution_count": null,
      "outputs": []
    },
    {
      "cell_type": "code",
      "source": [
        "#Fitting\n",
        "model.fit(x_train,y_train)"
      ],
      "metadata": {
        "colab": {
          "base_uri": "https://localhost:8080/"
        },
        "id": "lLE7-1gMY45t",
        "outputId": "b8106cd3-cfc9-47ad-d7b6-50fe29ac5f1f"
      },
      "execution_count": null,
      "outputs": [
        {
          "output_type": "execute_result",
          "data": {
            "text/plain": [
              "DecisionTreeClassifier()"
            ]
          },
          "metadata": {},
          "execution_count": 179
        }
      ]
    },
    {
      "cell_type": "code",
      "source": [
        "#prediction\n",
        "y_pred=model.predict(x_test)"
      ],
      "metadata": {
        "id": "k2We1RV4ZBi8"
      },
      "execution_count": null,
      "outputs": []
    },
    {
      "cell_type": "code",
      "source": [
        "#to measure the accuracy of model\n",
        "from sklearn.metrics import accuracy_score,confusion_matrix,classification_report\n",
        "accuracy_score(y_test,y_pred)"
      ],
      "metadata": {
        "colab": {
          "base_uri": "https://localhost:8080/"
        },
        "id": "QTFR0pPvZEox",
        "outputId": "58a3d095-b498-4b42-ff3b-98ffe4415b14"
      },
      "execution_count": null,
      "outputs": [
        {
          "output_type": "execute_result",
          "data": {
            "text/plain": [
              "0.672"
            ]
          },
          "metadata": {},
          "execution_count": 181
        }
      ]
    },
    {
      "cell_type": "code",
      "source": [
        "#Confusion Matrix\n",
        "confusion_matrix(y_test,y_pred)"
      ],
      "metadata": {
        "colab": {
          "base_uri": "https://localhost:8080/"
        },
        "id": "zTyAKxqtZHnK",
        "outputId": "8857902a-45b8-4471-d6a7-8e403092b8cf"
      },
      "execution_count": null,
      "outputs": [
        {
          "output_type": "execute_result",
          "data": {
            "text/plain": [
              "array([[87, 30],\n",
              "       [52, 81]])"
            ]
          },
          "metadata": {},
          "execution_count": 182
        }
      ]
    },
    {
      "cell_type": "code",
      "source": [
        "#Classification Report\n",
        "z=classification_report(y_test,y_pred)\n",
        "print(z)"
      ],
      "metadata": {
        "colab": {
          "base_uri": "https://localhost:8080/"
        },
        "id": "DJoqQPKjZNuX",
        "outputId": "6cab5582-03cc-48b1-bda2-d23768669870"
      },
      "execution_count": null,
      "outputs": [
        {
          "output_type": "stream",
          "name": "stdout",
          "text": [
            "              precision    recall  f1-score   support\n",
            "\n",
            "           0       0.63      0.74      0.68       117\n",
            "           1       0.73      0.61      0.66       133\n",
            "\n",
            "    accuracy                           0.67       250\n",
            "   macro avg       0.68      0.68      0.67       250\n",
            "weighted avg       0.68      0.67      0.67       250\n",
            "\n"
          ]
        }
      ]
    },
    {
      "cell_type": "code",
      "source": [
        "#for computing Receiver operating characteristics\n",
        "from sklearn.metrics import roc_curve\n",
        "#for computing area under curve\n",
        "from sklearn.metrics import roc_auc_score"
      ],
      "metadata": {
        "id": "XfsiOP2ZZ-c8"
      },
      "execution_count": null,
      "outputs": []
    },
    {
      "cell_type": "code",
      "source": [
        "#visualizing the ROC-AUC curve\n",
        "y_proba=classifier.predict_proba(x_test)\n",
        "\n",
        "#we take the predicted values of class 1\n",
        "y_predicted=y_proba[:,1]\n",
        "\n",
        "#we check to see if the right values have been considered from the predicted values\n",
        "print(y_predicted)"
      ],
      "metadata": {
        "colab": {
          "base_uri": "https://localhost:8080/"
        },
        "id": "rs0YOR9jaEKp",
        "outputId": "de8ad9ed-5405-4806-d49a-8dc0f62854ec"
      },
      "execution_count": null,
      "outputs": [
        {
          "output_type": "stream",
          "name": "stdout",
          "text": [
            "[0.4 0.6 0.4 0.4 0.4 0.6 0.8 0.4 0.  0.8 0.2 0.8 0.6 0.4 0.6 1.  0.4 0.2\n",
            " 0.2 0.4 0.2 0.6 0.6 0.4 0.4 0.8 0.2 1.  0.6 0.4 0.4 0.4 0.4 0.6 0.6 0.4\n",
            " 0.4 0.4 0.2 1.  0.4 0.6 0.4 0.2 0.  0.2 0.6 0.6 0.6 0.4 0.2 0.6 0.6 0.6\n",
            " 0.4 0.  0.4 0.4 0.2 0.4 0.4 0.2 0.6 0.4 0.4 0.6 0.6 0.4 0.4 0.4 1.  0.6\n",
            " 0.4 0.6 0.6 0.6 0.4 0.4 0.2 0.6 0.4 0.6 0.2 0.4 0.6 0.6 0.4 0.2 0.6 0.4\n",
            " 0.2 0.4 0.4 0.6 0.4 0.4 0.4 0.4 0.2 0.6 0.4 0.2 0.6 0.6 0.4 0.4 0.6 0.8\n",
            " 0.4 0.6 0.4 0.2 0.4 0.4 0.6 0.2 0.4 0.4 0.8 0.6 0.4 0.4 0.8 0.4 0.4 0.4\n",
            " 0.6 0.6 0.2 0.4 0.4 0.6 0.4 0.2 0.4 0.8 0.4 0.8 0.4 0.4 0.  0.8 0.4 0.4\n",
            " 0.4 0.4 0.  0.2 0.4 0.6 0.4 0.4 0.6 0.6 0.6 0.4 0.8 0.4 0.4 0.4 0.4 0.4\n",
            " 0.4 0.4 0.6 0.2 0.6 0.4 0.  0.2 0.4 0.6 0.6 0.4 0.4 0.4 0.  0.6 0.4 0.2\n",
            " 0.8 0.6 0.2 0.4 0.4 0.4 0.4 0.4 0.4 0.6 0.4 0.2 0.4 0.6 0.6 0.4 0.6 0.6\n",
            " 0.4 0.4 0.6 0.8 0.6 0.6 0.4 0.6 0.8 0.6 0.  0.4 0.4 0.4 0.2 0.4 0.8 0.6\n",
            " 0.4 0.8 0.4 0.6 0.4 0.2 0.2 0.6 0.8 0.8 0.4 0.4 0.6 0.4 0.2 0.6 0.4 0.4\n",
            " 0.8 0.4 0.4 0.6 0.6 0.6 0.4 1.  0.4 0.8 0.2 0.6 0.6 0.4 0.4 0.6]\n"
          ]
        }
      ]
    },
    {
      "cell_type": "code",
      "source": [
        "#using roc_curve() to generate fpr & tpr values\n",
        "fpr,tpr,thresholds=roc_curve(y_test,y_predicted)"
      ],
      "metadata": {
        "id": "xRQwOT7kZ_vX"
      },
      "execution_count": null,
      "outputs": []
    },
    {
      "cell_type": "code",
      "source": [
        "#passing the fpr&tpr values to auc()to calculate the area under curve\n",
        "from sklearn.metrics import auc\n",
        "roc_auc=auc(fpr,tpr)\n",
        "print(\"Area under the curve for first model\",roc_auc)"
      ],
      "metadata": {
        "colab": {
          "base_uri": "https://localhost:8080/"
        },
        "id": "8RIbG7RlaJkK",
        "outputId": "39be3a9b-94e2-4088-e5f0-c2ab6f2626d1"
      },
      "execution_count": null,
      "outputs": [
        {
          "output_type": "stream",
          "name": "stdout",
          "text": [
            "Area under the curve for first model 0.670908039329092\n"
          ]
        }
      ]
    },
    {
      "cell_type": "code",
      "source": [
        "#plotting the ROC curve\n",
        "import matplotlib.pyplot as plt\n",
        "plt.figure()\n",
        "plt.plot(fpr,tpr,color='orange',lw=2,label='ROC curve(area under curve=%0.2f)'%roc_auc)\n",
        "plt.plot([0,1],[0,1],color='darkgrey',lw=2,linestyle='--')\n",
        "plt.xlim([0.0,1.0])\n",
        "plt.ylim([0.0,1.0])\n",
        "plt.xlabel('False Positive Rate(1-Specificity)')\n",
        "plt.ylabel('True Positive Rate(Sensitivity)')\n"
      ],
      "metadata": {
        "colab": {
          "base_uri": "https://localhost:8080/",
          "height": 382
        },
        "id": "jKm_pJPKaMVd",
        "outputId": "1f3e3dc4-11d0-49a7-ad5e-9fb2d2964e92"
      },
      "execution_count": null,
      "outputs": [
        {
          "output_type": "execute_result",
          "data": {
            "text/plain": [
              "Text(0, 0.5, 'True Positive Rate(Sensitivity)')"
            ]
          },
          "metadata": {},
          "execution_count": 188
        },
        {
          "output_type": "display_data",
          "data": {
            "text/plain": [
              "<Figure size 576x396 with 1 Axes>"
            ],
            "image/png": "[encoded data removed]"
          },
          "metadata": {}
        }
      ]
    },
    {
      "cell_type": "code",
      "source": [
        ""
      ],
      "metadata": {
        "id": "2FdvJ_CEDbXA"
      },
      "execution_count": null,
      "outputs": []
    },
    {
      "cell_type": "code",
      "source": [
        "#fitting random forest classification to the training set\n",
        "from sklearn.ensemble import RandomForestClassifier\n",
        "classifier=RandomForestClassifier(n_estimators=10,criterion='entropy',random_state=0)\n",
        "classifier.fit(x_train,y_train)"
      ],
      "metadata": {
        "colab": {
          "base_uri": "https://localhost:8080/"
        },
        "id": "7ErvKTl0Wsy7",
        "outputId": "98110243-a326-4a5a-aa99-d990e360add7"
      },
      "execution_count": null,
      "outputs": [
        {
          "output_type": "execute_result",
          "data": {
            "text/plain": [
              "RandomForestClassifier(criterion='entropy', n_estimators=10, random_state=0)"
            ]
          },
          "metadata": {},
          "execution_count": 189
        }
      ]
    },
    {
      "cell_type": "code",
      "source": [
        "#predicting the test set results\n",
        "y_pred=classifier.predict(x_test)"
      ],
      "metadata": {
        "id": "nHTLvfNxWx_r"
      },
      "execution_count": null,
      "outputs": []
    },
    {
      "cell_type": "code",
      "source": [
        "#to measure the accuracy of model\n",
        "from sklearn.metrics import accuracy_score,confusion_matrix,classification_report\n",
        "accuracy_score(y_test,y_pred)"
      ],
      "metadata": {
        "colab": {
          "base_uri": "https://localhost:8080/"
        },
        "id": "15v9qSZFW1Fm",
        "outputId": "870e6196-947a-49ed-bcd1-4df8a231dd4d"
      },
      "execution_count": null,
      "outputs": [
        {
          "output_type": "execute_result",
          "data": {
            "text/plain": [
              "0.68"
            ]
          },
          "metadata": {},
          "execution_count": 191
        }
      ]
    },
    {
      "cell_type": "code",
      "source": [
        "#making confusion matrix\n",
        "confusion_matrix(y_test,y_pred)"
      ],
      "metadata": {
        "colab": {
          "base_uri": "https://localhost:8080/"
        },
        "id": "3cGtIk6-W3yK",
        "outputId": "48320474-dc99-482e-e9e1-56eb639170bb"
      },
      "execution_count": null,
      "outputs": [
        {
          "output_type": "execute_result",
          "data": {
            "text/plain": [
              "array([[103,  14],\n",
              "       [ 66,  67]])"
            ]
          },
          "metadata": {},
          "execution_count": 192
        }
      ]
    },
    {
      "cell_type": "code",
      "source": [
        "#classification report\n",
        "z=classification_report(y_test,y_pred)\n",
        "print(z) "
      ],
      "metadata": {
        "colab": {
          "base_uri": "https://localhost:8080/"
        },
        "id": "XDf3qRpWW7AJ",
        "outputId": "1135228f-99ca-4ad2-c3f6-b0c665f8c9ec"
      },
      "execution_count": null,
      "outputs": [
        {
          "output_type": "stream",
          "name": "stdout",
          "text": [
            "              precision    recall  f1-score   support\n",
            "\n",
            "           0       0.61      0.88      0.72       117\n",
            "           1       0.83      0.50      0.63       133\n",
            "\n",
            "    accuracy                           0.68       250\n",
            "   macro avg       0.72      0.69      0.67       250\n",
            "weighted avg       0.73      0.68      0.67       250\n",
            "\n"
          ]
        }
      ]
    },
    {
      "cell_type": "code",
      "source": [
        ""
      ],
      "metadata": {
        "id": "8H3FferdDgqW"
      },
      "execution_count": null,
      "outputs": []
    }
  ]
}