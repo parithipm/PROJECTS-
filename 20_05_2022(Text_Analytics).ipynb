{
  "nbformat": 4,
  "nbformat_minor": 0,
  "metadata": {
    "colab": {
      "name": "20.05.2022(Text_Analytics).ipynb",
      "provenance": []
    },
    "kernelspec": {
      "name": "python3",
      "display_name": "Python 3"
    },
    "language_info": {
      "name": "python"
    }
  },
  "cells": [
    {
      "cell_type": "code",
      "execution_count": null,
      "metadata": {
        "id": "NZX5mG6B_alT"
      },
      "outputs": [],
      "source": [
        "paragraph=''' The lawyers representing the Hindu devotees yesterday urged the Supreme Court to dismiss the petition filed by the Varanasi's Gyanvapi mosque committee, challenging the filming inside the mosque.\n",
        "The Supreme Court had earlier issued a notice to the Hindu side and the Uttar Pradesh government on the plea filed by the mosque committee, which also accused the Varanasi court-appointed commissioner of partiality.\n",
        "Rajinikanth’s ‘Chandramukhi’ was one of his best and the film ran in theatres for more than 2.5 years (800 and odd days) when it was released in 2005. Directed by P Vasu, the film is a remake of a Malayalam film. The film was a blockbuster hit and it featured Rajinikanth, Prabhu, Jyothika, nayanthara, Nasser, Malavika, Vadivelu among others. The film won many state awards as well.\n",
        "RajaRam Singh was came to karur,because he is an IAS officier.Ronaldo was born on February 5, 1985 and was named Ronaldo after the then US President Ronald Reagan.\n",
        "He grew up in a poor family and had to share a bedroom and bathroom with his older brother and two older sisters.\n",
        "He started playing soccer at an early age when he was just eight. He was always running away from doing homework.\n",
        "He was nicknamed ‘cry baby’ because he felt bad when he used to pass the ball to his friends and they couldn’t score.\n",
        "A very popular student in school, Ronaldo was expelled at the age of 14 for throwing a chair at his teacher who Ronaldo thought disrespected him. He then turned his entire attention to soccer and went on to become the world’s greatest soccer player.\n",
        "But at the age of 15 Ronaldo was diagnosed with ‘racing heart’. His condition was serious and would have made him let go of football. But a surgery saved him and he went back for his training.'''"
      ]
    },
    {
      "cell_type": "code",
      "source": [
        "len(paragraph)"
      ],
      "metadata": {
        "colab": {
          "base_uri": "https://localhost:8080/"
        },
        "id": "mE8qzA83HPM3",
        "outputId": "6a4f593f-1a3a-4047-9653-3d4dc64691b1"
      },
      "execution_count": null,
      "outputs": [
        {
          "output_type": "execute_result",
          "data": {
            "text/plain": [
              "1749"
            ]
          },
          "metadata": {},
          "execution_count": 216
        }
      ]
    },
    {
      "cell_type": "code",
      "source": [
        ""
      ],
      "metadata": {
        "id": "aDxvCsI2HTKm"
      },
      "execution_count": null,
      "outputs": []
    },
    {
      "cell_type": "code",
      "source": [
        "paragraph.lower()"
      ],
      "metadata": {
        "colab": {
          "base_uri": "https://localhost:8080/",
          "height": 140
        },
        "id": "vfNZY4MeAV4W",
        "outputId": "08fae571-dff6-46a9-edc5-941684d38a95"
      },
      "execution_count": null,
      "outputs": [
        {
          "output_type": "execute_result",
          "data": {
            "text/plain": [
              "\" the lawyers representing the hindu devotees yesterday urged the supreme court to dismiss the petition filed by the varanasi's gyanvapi mosque committee, challenging the filming inside the mosque.\\nthe supreme court had earlier issued a notice to the hindu side and the uttar pradesh government on the plea filed by the mosque committee, which also accused the varanasi court-appointed commissioner of partiality.\\nrajinikanth’s ‘chandramukhi’ was one of his best and the film ran in theatres for more than 2.5 years (800 and odd days) when it was released in 2005. directed by p vasu, the film is a remake of a malayalam film. the film was a blockbuster hit and it featured rajinikanth, prabhu, jyothika, nayanthara, nasser, malavika, vadivelu among others. the film won many state awards as well.\\nrajaram singh was came to karur,because he is an ias officier.ronaldo was born on february 5, 1985 and was named ronaldo after the then us president ronald reagan.\\nhe grew up in a poor family and had to share a bedroom and bathroom with his older brother and two older sisters.\\nhe started playing soccer at an early age when he was just eight. he was always running away from doing homework.\\nhe was nicknamed ‘cry baby’ because he felt bad when he used to pass the ball to his friends and they couldn’t score.\\na very popular student in school, ronaldo was expelled at the age of 14 for throwing a chair at his teacher who ronaldo thought disrespected him. he then turned his entire attention to soccer and went on to become the world’s greatest soccer player.\\nbut at the age of 15 ronaldo was diagnosed with ‘racing heart’. his condition was serious and would have made him let go of football. but a surgery saved him and he went back for his training.\""
            ],
            "application/vnd.google.colaboratory.intrinsic+json": {
              "type": "string"
            }
          },
          "metadata": {},
          "execution_count": 217
        }
      ]
    },
    {
      "cell_type": "code",
      "source": [
        "pip install nltk"
      ],
      "metadata": {
        "colab": {
          "base_uri": "https://localhost:8080/"
        },
        "id": "ujpHoJy4HWyW",
        "outputId": "8ecaa901-92bf-444b-a561-f0d840ffc8c3"
      },
      "execution_count": null,
      "outputs": [
        {
          "output_type": "stream",
          "name": "stdout",
          "text": [
            "Requirement already satisfied: nltk in /usr/local/lib/python3.7/dist-packages (3.2.5)\n",
            "Requirement already satisfied: six in /usr/local/lib/python3.7/dist-packages (from nltk) (1.15.0)\n"
          ]
        }
      ]
    },
    {
      "cell_type": "code",
      "source": [
        "import nltk"
      ],
      "metadata": {
        "id": "4w8KRPbKHi5i"
      },
      "execution_count": null,
      "outputs": []
    },
    {
      "cell_type": "code",
      "source": [
        "nltk.download('punkt')"
      ],
      "metadata": {
        "colab": {
          "base_uri": "https://localhost:8080/"
        },
        "id": "qF6Rju0ZHlB1",
        "outputId": "b8f76d57-1d78-48bb-aa7a-d4e7313aec03"
      },
      "execution_count": null,
      "outputs": [
        {
          "output_type": "stream",
          "name": "stdout",
          "text": [
            "[nltk_data] Downloading package punkt to /root/nltk_data...\n",
            "[nltk_data]   Package punkt is already up-to-date!\n"
          ]
        },
        {
          "output_type": "execute_result",
          "data": {
            "text/plain": [
              "True"
            ]
          },
          "metadata": {},
          "execution_count": 220
        }
      ]
    },
    {
      "cell_type": "code",
      "source": [
        "new_paragraph = ''.join(x for x in paragraph if x.isalnum())\n",
        "print(new_paragraph)"
      ],
      "metadata": {
        "colab": {
          "base_uri": "https://localhost:8080/"
        },
        "id": "R6xi6HOFAZj4",
        "outputId": "492708cd-07cb-4d27-e52a-b86d92fa915d"
      },
      "execution_count": null,
      "outputs": [
        {
          "output_type": "stream",
          "name": "stdout",
          "text": [
            "ThelawyersrepresentingtheHindudevoteesyesterdayurgedtheSupremeCourttodismissthepetitionfiledbytheVaranasisGyanvapimosquecommitteechallengingthefilminginsidethemosqueTheSupremeCourthadearlierissuedanoticetotheHindusideandtheUttarPradeshgovernmentonthepleafiledbythemosquecommitteewhichalsoaccusedtheVaranasicourtappointedcommissionerofpartialityRajinikanthsChandramukhiwasoneofhisbestandthefilmranintheatresformorethan25years800andodddayswhenitwasreleasedin2005DirectedbyPVasuthefilmisaremakeofaMalayalamfilmThefilmwasablockbusterhitanditfeaturedRajinikanthPrabhuJyothikanayantharaNasserMalavikaVadiveluamongothersThefilmwonmanystateawardsaswellRajaRamSinghwascametokarurbecauseheisanIASofficierRonaldowasbornonFebruary51985andwasnamedRonaldoafterthethenUSPresidentRonaldReaganHegrewupinapoorfamilyandhadtoshareabedroomandbathroomwithhisolderbrotherandtwooldersistersHestartedplayingsocceratanearlyagewhenhewasjusteightHewasalwaysrunningawayfromdoinghomeworkHewasnicknamedcrybabybecausehefeltbadwhenheusedtopasstheballtohisfriendsandtheycouldntscoreAverypopularstudentinschoolRonaldowasexpelledattheageof14forthrowingachairathisteacherwhoRonaldothoughtdisrespectedhimHethenturnedhisentireattentiontosoccerandwentontobecometheworldsgreatestsoccerplayerButattheageof15RonaldowasdiagnosedwithracingheartHisconditionwasseriousandwouldhavemadehimletgooffootballButasurgerysavedhimandhewentbackforhistraining\n"
          ]
        }
      ]
    },
    {
      "cell_type": "code",
      "source": [
        "paragraph"
      ],
      "metadata": {
        "colab": {
          "base_uri": "https://localhost:8080/",
          "height": 140
        },
        "id": "BlT1PITIA6Xm",
        "outputId": "f1a5da0a-ed79-45b1-b400-8fdc10c1cead"
      },
      "execution_count": null,
      "outputs": [
        {
          "output_type": "execute_result",
          "data": {
            "text/plain": [
              "\" The lawyers representing the Hindu devotees yesterday urged the Supreme Court to dismiss the petition filed by the Varanasi's Gyanvapi mosque committee, challenging the filming inside the mosque.\\nThe Supreme Court had earlier issued a notice to the Hindu side and the Uttar Pradesh government on the plea filed by the mosque committee, which also accused the Varanasi court-appointed commissioner of partiality.\\nRajinikanth’s ‘Chandramukhi’ was one of his best and the film ran in theatres for more than 2.5 years (800 and odd days) when it was released in 2005. Directed by P Vasu, the film is a remake of a Malayalam film. The film was a blockbuster hit and it featured Rajinikanth, Prabhu, Jyothika, nayanthara, Nasser, Malavika, Vadivelu among others. The film won many state awards as well.\\nRajaRam Singh was came to karur,because he is an IAS officier.Ronaldo was born on February 5, 1985 and was named Ronaldo after the then US President Ronald Reagan.\\nHe grew up in a poor family and had to share a bedroom and bathroom with his older brother and two older sisters.\\nHe started playing soccer at an early age when he was just eight. He was always running away from doing homework.\\nHe was nicknamed ‘cry baby’ because he felt bad when he used to pass the ball to his friends and they couldn’t score.\\nA very popular student in school, Ronaldo was expelled at the age of 14 for throwing a chair at his teacher who Ronaldo thought disrespected him. He then turned his entire attention to soccer and went on to become the world’s greatest soccer player.\\nBut at the age of 15 Ronaldo was diagnosed with ‘racing heart’. His condition was serious and would have made him let go of football. But a surgery saved him and he went back for his training.\""
            ],
            "application/vnd.google.colaboratory.intrinsic+json": {
              "type": "string"
            }
          },
          "metadata": {},
          "execution_count": 222
        }
      ]
    },
    {
      "cell_type": "code",
      "source": [
        "n=paragraph.split()"
      ],
      "metadata": {
        "id": "XrOfVCGtA_1l"
      },
      "execution_count": null,
      "outputs": []
    },
    {
      "cell_type": "code",
      "source": [
        "print(n)"
      ],
      "metadata": {
        "colab": {
          "base_uri": "https://localhost:8080/"
        },
        "id": "PVPR0F9aJED7",
        "outputId": "6cfe3f8a-554c-49f5-e0d4-f9d7f33f6c08"
      },
      "execution_count": null,
      "outputs": [
        {
          "output_type": "stream",
          "name": "stdout",
          "text": [
            "['The', 'lawyers', 'representing', 'the', 'Hindu', 'devotees', 'yesterday', 'urged', 'the', 'Supreme', 'Court', 'to', 'dismiss', 'the', 'petition', 'filed', 'by', 'the', \"Varanasi's\", 'Gyanvapi', 'mosque', 'committee,', 'challenging', 'the', 'filming', 'inside', 'the', 'mosque.', 'The', 'Supreme', 'Court', 'had', 'earlier', 'issued', 'a', 'notice', 'to', 'the', 'Hindu', 'side', 'and', 'the', 'Uttar', 'Pradesh', 'government', 'on', 'the', 'plea', 'filed', 'by', 'the', 'mosque', 'committee,', 'which', 'also', 'accused', 'the', 'Varanasi', 'court-appointed', 'commissioner', 'of', 'partiality.', 'Rajinikanth’s', '‘Chandramukhi’', 'was', 'one', 'of', 'his', 'best', 'and', 'the', 'film', 'ran', 'in', 'theatres', 'for', 'more', 'than', '2.5', 'years', '(800', 'and', 'odd', 'days)', 'when', 'it', 'was', 'released', 'in', '2005.', 'Directed', 'by', 'P', 'Vasu,', 'the', 'film', 'is', 'a', 'remake', 'of', 'a', 'Malayalam', 'film.', 'The', 'film', 'was', 'a', 'blockbuster', 'hit', 'and', 'it', 'featured', 'Rajinikanth,', 'Prabhu,', 'Jyothika,', 'nayanthara,', 'Nasser,', 'Malavika,', 'Vadivelu', 'among', 'others.', 'The', 'film', 'won', 'many', 'state', 'awards', 'as', 'well.', 'RajaRam', 'Singh', 'was', 'came', 'to', 'karur,because', 'he', 'is', 'an', 'IAS', 'officier.Ronaldo', 'was', 'born', 'on', 'February', '5,', '1985', 'and', 'was', 'named', 'Ronaldo', 'after', 'the', 'then', 'US', 'President', 'Ronald', 'Reagan.', 'He', 'grew', 'up', 'in', 'a', 'poor', 'family', 'and', 'had', 'to', 'share', 'a', 'bedroom', 'and', 'bathroom', 'with', 'his', 'older', 'brother', 'and', 'two', 'older', 'sisters.', 'He', 'started', 'playing', 'soccer', 'at', 'an', 'early', 'age', 'when', 'he', 'was', 'just', 'eight.', 'He', 'was', 'always', 'running', 'away', 'from', 'doing', 'homework.', 'He', 'was', 'nicknamed', '‘cry', 'baby’', 'because', 'he', 'felt', 'bad', 'when', 'he', 'used', 'to', 'pass', 'the', 'ball', 'to', 'his', 'friends', 'and', 'they', 'couldn’t', 'score.', 'A', 'very', 'popular', 'student', 'in', 'school,', 'Ronaldo', 'was', 'expelled', 'at', 'the', 'age', 'of', '14', 'for', 'throwing', 'a', 'chair', 'at', 'his', 'teacher', 'who', 'Ronaldo', 'thought', 'disrespected', 'him.', 'He', 'then', 'turned', 'his', 'entire', 'attention', 'to', 'soccer', 'and', 'went', 'on', 'to', 'become', 'the', 'world’s', 'greatest', 'soccer', 'player.', 'But', 'at', 'the', 'age', 'of', '15', 'Ronaldo', 'was', 'diagnosed', 'with', '‘racing', 'heart’.', 'His', 'condition', 'was', 'serious', 'and', 'would', 'have', 'made', 'him', 'let', 'go', 'of', 'football.', 'But', 'a', 'surgery', 'saved', 'him', 'and', 'he', 'went', 'back', 'for', 'his', 'training.']\n"
          ]
        }
      ]
    },
    {
      "cell_type": "code",
      "source": [
        "import nltk"
      ],
      "metadata": {
        "id": "42j-FbAlHGco"
      },
      "execution_count": null,
      "outputs": []
    },
    {
      "cell_type": "code",
      "source": [
        "from nltk.tokenize import word_tokenize"
      ],
      "metadata": {
        "id": "F6U0_uVnBYwy"
      },
      "execution_count": null,
      "outputs": []
    },
    {
      "cell_type": "code",
      "source": [
        "token = word_tokenize(paragraph)"
      ],
      "metadata": {
        "id": "4UY0U_gJG8f_"
      },
      "execution_count": null,
      "outputs": []
    },
    {
      "cell_type": "code",
      "source": [
        "token"
      ],
      "metadata": {
        "colab": {
          "base_uri": "https://localhost:8080/"
        },
        "id": "Q8jZa9bwHBwd",
        "outputId": "ce2bee1f-58e0-4a16-9828-124ca38c581d"
      },
      "execution_count": null,
      "outputs": [
        {
          "output_type": "execute_result",
          "data": {
            "text/plain": [
              "['The',\n",
              " 'lawyers',\n",
              " 'representing',\n",
              " 'the',\n",
              " 'Hindu',\n",
              " 'devotees',\n",
              " 'yesterday',\n",
              " 'urged',\n",
              " 'the',\n",
              " 'Supreme',\n",
              " 'Court',\n",
              " 'to',\n",
              " 'dismiss',\n",
              " 'the',\n",
              " 'petition',\n",
              " 'filed',\n",
              " 'by',\n",
              " 'the',\n",
              " 'Varanasi',\n",
              " \"'s\",\n",
              " 'Gyanvapi',\n",
              " 'mosque',\n",
              " 'committee',\n",
              " ',',\n",
              " 'challenging',\n",
              " 'the',\n",
              " 'filming',\n",
              " 'inside',\n",
              " 'the',\n",
              " 'mosque',\n",
              " '.',\n",
              " 'The',\n",
              " 'Supreme',\n",
              " 'Court',\n",
              " 'had',\n",
              " 'earlier',\n",
              " 'issued',\n",
              " 'a',\n",
              " 'notice',\n",
              " 'to',\n",
              " 'the',\n",
              " 'Hindu',\n",
              " 'side',\n",
              " 'and',\n",
              " 'the',\n",
              " 'Uttar',\n",
              " 'Pradesh',\n",
              " 'government',\n",
              " 'on',\n",
              " 'the',\n",
              " 'plea',\n",
              " 'filed',\n",
              " 'by',\n",
              " 'the',\n",
              " 'mosque',\n",
              " 'committee',\n",
              " ',',\n",
              " 'which',\n",
              " 'also',\n",
              " 'accused',\n",
              " 'the',\n",
              " 'Varanasi',\n",
              " 'court-appointed',\n",
              " 'commissioner',\n",
              " 'of',\n",
              " 'partiality',\n",
              " '.',\n",
              " 'Rajinikanth',\n",
              " '’',\n",
              " 's',\n",
              " '‘',\n",
              " 'Chandramukhi',\n",
              " '’',\n",
              " 'was',\n",
              " 'one',\n",
              " 'of',\n",
              " 'his',\n",
              " 'best',\n",
              " 'and',\n",
              " 'the',\n",
              " 'film',\n",
              " 'ran',\n",
              " 'in',\n",
              " 'theatres',\n",
              " 'for',\n",
              " 'more',\n",
              " 'than',\n",
              " '2.5',\n",
              " 'years',\n",
              " '(',\n",
              " '800',\n",
              " 'and',\n",
              " 'odd',\n",
              " 'days',\n",
              " ')',\n",
              " 'when',\n",
              " 'it',\n",
              " 'was',\n",
              " 'released',\n",
              " 'in',\n",
              " '2005',\n",
              " '.',\n",
              " 'Directed',\n",
              " 'by',\n",
              " 'P',\n",
              " 'Vasu',\n",
              " ',',\n",
              " 'the',\n",
              " 'film',\n",
              " 'is',\n",
              " 'a',\n",
              " 'remake',\n",
              " 'of',\n",
              " 'a',\n",
              " 'Malayalam',\n",
              " 'film',\n",
              " '.',\n",
              " 'The',\n",
              " 'film',\n",
              " 'was',\n",
              " 'a',\n",
              " 'blockbuster',\n",
              " 'hit',\n",
              " 'and',\n",
              " 'it',\n",
              " 'featured',\n",
              " 'Rajinikanth',\n",
              " ',',\n",
              " 'Prabhu',\n",
              " ',',\n",
              " 'Jyothika',\n",
              " ',',\n",
              " 'nayanthara',\n",
              " ',',\n",
              " 'Nasser',\n",
              " ',',\n",
              " 'Malavika',\n",
              " ',',\n",
              " 'Vadivelu',\n",
              " 'among',\n",
              " 'others',\n",
              " '.',\n",
              " 'The',\n",
              " 'film',\n",
              " 'won',\n",
              " 'many',\n",
              " 'state',\n",
              " 'awards',\n",
              " 'as',\n",
              " 'well',\n",
              " '.',\n",
              " 'RajaRam',\n",
              " 'Singh',\n",
              " 'was',\n",
              " 'came',\n",
              " 'to',\n",
              " 'karur',\n",
              " ',',\n",
              " 'because',\n",
              " 'he',\n",
              " 'is',\n",
              " 'an',\n",
              " 'IAS',\n",
              " 'officier.Ronaldo',\n",
              " 'was',\n",
              " 'born',\n",
              " 'on',\n",
              " 'February',\n",
              " '5',\n",
              " ',',\n",
              " '1985',\n",
              " 'and',\n",
              " 'was',\n",
              " 'named',\n",
              " 'Ronaldo',\n",
              " 'after',\n",
              " 'the',\n",
              " 'then',\n",
              " 'US',\n",
              " 'President',\n",
              " 'Ronald',\n",
              " 'Reagan',\n",
              " '.',\n",
              " 'He',\n",
              " 'grew',\n",
              " 'up',\n",
              " 'in',\n",
              " 'a',\n",
              " 'poor',\n",
              " 'family',\n",
              " 'and',\n",
              " 'had',\n",
              " 'to',\n",
              " 'share',\n",
              " 'a',\n",
              " 'bedroom',\n",
              " 'and',\n",
              " 'bathroom',\n",
              " 'with',\n",
              " 'his',\n",
              " 'older',\n",
              " 'brother',\n",
              " 'and',\n",
              " 'two',\n",
              " 'older',\n",
              " 'sisters',\n",
              " '.',\n",
              " 'He',\n",
              " 'started',\n",
              " 'playing',\n",
              " 'soccer',\n",
              " 'at',\n",
              " 'an',\n",
              " 'early',\n",
              " 'age',\n",
              " 'when',\n",
              " 'he',\n",
              " 'was',\n",
              " 'just',\n",
              " 'eight',\n",
              " '.',\n",
              " 'He',\n",
              " 'was',\n",
              " 'always',\n",
              " 'running',\n",
              " 'away',\n",
              " 'from',\n",
              " 'doing',\n",
              " 'homework',\n",
              " '.',\n",
              " 'He',\n",
              " 'was',\n",
              " 'nicknamed',\n",
              " '‘',\n",
              " 'cry',\n",
              " 'baby',\n",
              " '’',\n",
              " 'because',\n",
              " 'he',\n",
              " 'felt',\n",
              " 'bad',\n",
              " 'when',\n",
              " 'he',\n",
              " 'used',\n",
              " 'to',\n",
              " 'pass',\n",
              " 'the',\n",
              " 'ball',\n",
              " 'to',\n",
              " 'his',\n",
              " 'friends',\n",
              " 'and',\n",
              " 'they',\n",
              " 'couldn',\n",
              " '’',\n",
              " 't',\n",
              " 'score',\n",
              " '.',\n",
              " 'A',\n",
              " 'very',\n",
              " 'popular',\n",
              " 'student',\n",
              " 'in',\n",
              " 'school',\n",
              " ',',\n",
              " 'Ronaldo',\n",
              " 'was',\n",
              " 'expelled',\n",
              " 'at',\n",
              " 'the',\n",
              " 'age',\n",
              " 'of',\n",
              " '14',\n",
              " 'for',\n",
              " 'throwing',\n",
              " 'a',\n",
              " 'chair',\n",
              " 'at',\n",
              " 'his',\n",
              " 'teacher',\n",
              " 'who',\n",
              " 'Ronaldo',\n",
              " 'thought',\n",
              " 'disrespected',\n",
              " 'him',\n",
              " '.',\n",
              " 'He',\n",
              " 'then',\n",
              " 'turned',\n",
              " 'his',\n",
              " 'entire',\n",
              " 'attention',\n",
              " 'to',\n",
              " 'soccer',\n",
              " 'and',\n",
              " 'went',\n",
              " 'on',\n",
              " 'to',\n",
              " 'become',\n",
              " 'the',\n",
              " 'world',\n",
              " '’',\n",
              " 's',\n",
              " 'greatest',\n",
              " 'soccer',\n",
              " 'player',\n",
              " '.',\n",
              " 'But',\n",
              " 'at',\n",
              " 'the',\n",
              " 'age',\n",
              " 'of',\n",
              " '15',\n",
              " 'Ronaldo',\n",
              " 'was',\n",
              " 'diagnosed',\n",
              " 'with',\n",
              " '‘',\n",
              " 'racing',\n",
              " 'heart',\n",
              " '’',\n",
              " '.',\n",
              " 'His',\n",
              " 'condition',\n",
              " 'was',\n",
              " 'serious',\n",
              " 'and',\n",
              " 'would',\n",
              " 'have',\n",
              " 'made',\n",
              " 'him',\n",
              " 'let',\n",
              " 'go',\n",
              " 'of',\n",
              " 'football',\n",
              " '.',\n",
              " 'But',\n",
              " 'a',\n",
              " 'surgery',\n",
              " 'saved',\n",
              " 'him',\n",
              " 'and',\n",
              " 'he',\n",
              " 'went',\n",
              " 'back',\n",
              " 'for',\n",
              " 'his',\n",
              " 'training',\n",
              " '.']"
            ]
          },
          "metadata": {},
          "execution_count": 228
        }
      ]
    },
    {
      "cell_type": "code",
      "source": [
        "print(token)"
      ],
      "metadata": {
        "colab": {
          "base_uri": "https://localhost:8080/"
        },
        "id": "HYgPwYuXHvX3",
        "outputId": "5adab1d0-1527-4408-ddc2-d6c9867551ec"
      },
      "execution_count": null,
      "outputs": [
        {
          "output_type": "stream",
          "name": "stdout",
          "text": [
            "['The', 'lawyers', 'representing', 'the', 'Hindu', 'devotees', 'yesterday', 'urged', 'the', 'Supreme', 'Court', 'to', 'dismiss', 'the', 'petition', 'filed', 'by', 'the', 'Varanasi', \"'s\", 'Gyanvapi', 'mosque', 'committee', ',', 'challenging', 'the', 'filming', 'inside', 'the', 'mosque', '.', 'The', 'Supreme', 'Court', 'had', 'earlier', 'issued', 'a', 'notice', 'to', 'the', 'Hindu', 'side', 'and', 'the', 'Uttar', 'Pradesh', 'government', 'on', 'the', 'plea', 'filed', 'by', 'the', 'mosque', 'committee', ',', 'which', 'also', 'accused', 'the', 'Varanasi', 'court-appointed', 'commissioner', 'of', 'partiality', '.', 'Rajinikanth', '’', 's', '‘', 'Chandramukhi', '’', 'was', 'one', 'of', 'his', 'best', 'and', 'the', 'film', 'ran', 'in', 'theatres', 'for', 'more', 'than', '2.5', 'years', '(', '800', 'and', 'odd', 'days', ')', 'when', 'it', 'was', 'released', 'in', '2005', '.', 'Directed', 'by', 'P', 'Vasu', ',', 'the', 'film', 'is', 'a', 'remake', 'of', 'a', 'Malayalam', 'film', '.', 'The', 'film', 'was', 'a', 'blockbuster', 'hit', 'and', 'it', 'featured', 'Rajinikanth', ',', 'Prabhu', ',', 'Jyothika', ',', 'nayanthara', ',', 'Nasser', ',', 'Malavika', ',', 'Vadivelu', 'among', 'others', '.', 'The', 'film', 'won', 'many', 'state', 'awards', 'as', 'well', '.', 'RajaRam', 'Singh', 'was', 'came', 'to', 'karur', ',', 'because', 'he', 'is', 'an', 'IAS', 'officier.Ronaldo', 'was', 'born', 'on', 'February', '5', ',', '1985', 'and', 'was', 'named', 'Ronaldo', 'after', 'the', 'then', 'US', 'President', 'Ronald', 'Reagan', '.', 'He', 'grew', 'up', 'in', 'a', 'poor', 'family', 'and', 'had', 'to', 'share', 'a', 'bedroom', 'and', 'bathroom', 'with', 'his', 'older', 'brother', 'and', 'two', 'older', 'sisters', '.', 'He', 'started', 'playing', 'soccer', 'at', 'an', 'early', 'age', 'when', 'he', 'was', 'just', 'eight', '.', 'He', 'was', 'always', 'running', 'away', 'from', 'doing', 'homework', '.', 'He', 'was', 'nicknamed', '‘', 'cry', 'baby', '’', 'because', 'he', 'felt', 'bad', 'when', 'he', 'used', 'to', 'pass', 'the', 'ball', 'to', 'his', 'friends', 'and', 'they', 'couldn', '’', 't', 'score', '.', 'A', 'very', 'popular', 'student', 'in', 'school', ',', 'Ronaldo', 'was', 'expelled', 'at', 'the', 'age', 'of', '14', 'for', 'throwing', 'a', 'chair', 'at', 'his', 'teacher', 'who', 'Ronaldo', 'thought', 'disrespected', 'him', '.', 'He', 'then', 'turned', 'his', 'entire', 'attention', 'to', 'soccer', 'and', 'went', 'on', 'to', 'become', 'the', 'world', '’', 's', 'greatest', 'soccer', 'player', '.', 'But', 'at', 'the', 'age', 'of', '15', 'Ronaldo', 'was', 'diagnosed', 'with', '‘', 'racing', 'heart', '’', '.', 'His', 'condition', 'was', 'serious', 'and', 'would', 'have', 'made', 'him', 'let', 'go', 'of', 'football', '.', 'But', 'a', 'surgery', 'saved', 'him', 'and', 'he', 'went', 'back', 'for', 'his', 'training', '.']\n"
          ]
        }
      ]
    },
    {
      "cell_type": "code",
      "source": [
        "from nltk.probability import FreqDist\n"
      ],
      "metadata": {
        "id": "0a5-MhKAI4BL"
      },
      "execution_count": null,
      "outputs": []
    },
    {
      "cell_type": "code",
      "source": [
        "fdist = FreqDist(token)"
      ],
      "metadata": {
        "id": "lCW242_qJOfm"
      },
      "execution_count": null,
      "outputs": []
    },
    {
      "cell_type": "code",
      "source": [
        "fdist"
      ],
      "metadata": {
        "colab": {
          "base_uri": "https://localhost:8080/"
        },
        "id": "a4ZqYuKyJS5Q",
        "outputId": "dae7fceb-cfa5-4301-9c3b-a31bad09f181"
      },
      "execution_count": null,
      "outputs": [
        {
          "output_type": "execute_result",
          "data": {
            "text/plain": [
              "FreqDist({\"'s\": 1,\n",
              "          '(': 1,\n",
              "          ')': 1,\n",
              "          ',': 12,\n",
              "          '.': 16,\n",
              "          '14': 1,\n",
              "          '15': 1,\n",
              "          '1985': 1,\n",
              "          '2.5': 1,\n",
              "          '2005': 1,\n",
              "          '5': 1,\n",
              "          '800': 1,\n",
              "          'A': 1,\n",
              "          'But': 2,\n",
              "          'Chandramukhi': 1,\n",
              "          'Court': 2,\n",
              "          'Directed': 1,\n",
              "          'February': 1,\n",
              "          'Gyanvapi': 1,\n",
              "          'He': 5,\n",
              "          'Hindu': 2,\n",
              "          'His': 1,\n",
              "          'IAS': 1,\n",
              "          'Jyothika': 1,\n",
              "          'Malavika': 1,\n",
              "          'Malayalam': 1,\n",
              "          'Nasser': 1,\n",
              "          'P': 1,\n",
              "          'Prabhu': 1,\n",
              "          'Pradesh': 1,\n",
              "          'President': 1,\n",
              "          'RajaRam': 1,\n",
              "          'Rajinikanth': 2,\n",
              "          'Reagan': 1,\n",
              "          'Ronald': 1,\n",
              "          'Ronaldo': 4,\n",
              "          'Singh': 1,\n",
              "          'Supreme': 2,\n",
              "          'The': 4,\n",
              "          'US': 1,\n",
              "          'Uttar': 1,\n",
              "          'Vadivelu': 1,\n",
              "          'Varanasi': 2,\n",
              "          'Vasu': 1,\n",
              "          'a': 8,\n",
              "          'accused': 1,\n",
              "          'after': 1,\n",
              "          'age': 3,\n",
              "          'also': 1,\n",
              "          'always': 1,\n",
              "          'among': 1,\n",
              "          'an': 2,\n",
              "          'and': 12,\n",
              "          'as': 1,\n",
              "          'at': 4,\n",
              "          'attention': 1,\n",
              "          'awards': 1,\n",
              "          'away': 1,\n",
              "          'baby': 1,\n",
              "          'back': 1,\n",
              "          'bad': 1,\n",
              "          'ball': 1,\n",
              "          'bathroom': 1,\n",
              "          'because': 2,\n",
              "          'become': 1,\n",
              "          'bedroom': 1,\n",
              "          'best': 1,\n",
              "          'blockbuster': 1,\n",
              "          'born': 1,\n",
              "          'brother': 1,\n",
              "          'by': 3,\n",
              "          'came': 1,\n",
              "          'chair': 1,\n",
              "          'challenging': 1,\n",
              "          'commissioner': 1,\n",
              "          'committee': 2,\n",
              "          'condition': 1,\n",
              "          'couldn': 1,\n",
              "          'court-appointed': 1,\n",
              "          'cry': 1,\n",
              "          'days': 1,\n",
              "          'devotees': 1,\n",
              "          'diagnosed': 1,\n",
              "          'dismiss': 1,\n",
              "          'disrespected': 1,\n",
              "          'doing': 1,\n",
              "          'earlier': 1,\n",
              "          'early': 1,\n",
              "          'eight': 1,\n",
              "          'entire': 1,\n",
              "          'expelled': 1,\n",
              "          'family': 1,\n",
              "          'featured': 1,\n",
              "          'felt': 1,\n",
              "          'filed': 2,\n",
              "          'film': 5,\n",
              "          'filming': 1,\n",
              "          'football': 1,\n",
              "          'for': 3,\n",
              "          'friends': 1,\n",
              "          'from': 1,\n",
              "          'go': 1,\n",
              "          'government': 1,\n",
              "          'greatest': 1,\n",
              "          'grew': 1,\n",
              "          'had': 2,\n",
              "          'have': 1,\n",
              "          'he': 5,\n",
              "          'heart': 1,\n",
              "          'him': 3,\n",
              "          'his': 6,\n",
              "          'hit': 1,\n",
              "          'homework': 1,\n",
              "          'in': 4,\n",
              "          'inside': 1,\n",
              "          'is': 2,\n",
              "          'issued': 1,\n",
              "          'it': 2,\n",
              "          'just': 1,\n",
              "          'karur': 1,\n",
              "          'lawyers': 1,\n",
              "          'let': 1,\n",
              "          'made': 1,\n",
              "          'many': 1,\n",
              "          'more': 1,\n",
              "          'mosque': 3,\n",
              "          'named': 1,\n",
              "          'nayanthara': 1,\n",
              "          'nicknamed': 1,\n",
              "          'notice': 1,\n",
              "          'odd': 1,\n",
              "          'of': 6,\n",
              "          'officier.Ronaldo': 1,\n",
              "          'older': 2,\n",
              "          'on': 3,\n",
              "          'one': 1,\n",
              "          'others': 1,\n",
              "          'partiality': 1,\n",
              "          'pass': 1,\n",
              "          'petition': 1,\n",
              "          'player': 1,\n",
              "          'playing': 1,\n",
              "          'plea': 1,\n",
              "          'poor': 1,\n",
              "          'popular': 1,\n",
              "          'racing': 1,\n",
              "          'ran': 1,\n",
              "          'released': 1,\n",
              "          'remake': 1,\n",
              "          'representing': 1,\n",
              "          'running': 1,\n",
              "          's': 2,\n",
              "          'saved': 1,\n",
              "          'school': 1,\n",
              "          'score': 1,\n",
              "          'serious': 1,\n",
              "          'share': 1,\n",
              "          'side': 1,\n",
              "          'sisters': 1,\n",
              "          'soccer': 3,\n",
              "          'started': 1,\n",
              "          'state': 1,\n",
              "          'student': 1,\n",
              "          'surgery': 1,\n",
              "          't': 1,\n",
              "          'teacher': 1,\n",
              "          'than': 1,\n",
              "          'the': 18,\n",
              "          'theatres': 1,\n",
              "          'then': 2,\n",
              "          'they': 1,\n",
              "          'thought': 1,\n",
              "          'throwing': 1,\n",
              "          'to': 8,\n",
              "          'training': 1,\n",
              "          'turned': 1,\n",
              "          'two': 1,\n",
              "          'up': 1,\n",
              "          'urged': 1,\n",
              "          'used': 1,\n",
              "          'very': 1,\n",
              "          'was': 12,\n",
              "          'well': 1,\n",
              "          'went': 2,\n",
              "          'when': 3,\n",
              "          'which': 1,\n",
              "          'who': 1,\n",
              "          'with': 2,\n",
              "          'won': 1,\n",
              "          'world': 1,\n",
              "          'would': 1,\n",
              "          'years': 1,\n",
              "          'yesterday': 1,\n",
              "          '‘': 3,\n",
              "          '’': 6})"
            ]
          },
          "metadata": {},
          "execution_count": 232
        }
      ]
    },
    {
      "cell_type": "code",
      "source": [
        "fdist1 = fdist.most_common(5)"
      ],
      "metadata": {
        "id": "MjHijfB8JUAl"
      },
      "execution_count": null,
      "outputs": []
    },
    {
      "cell_type": "code",
      "source": [
        "fdist1"
      ],
      "metadata": {
        "colab": {
          "base_uri": "https://localhost:8080/"
        },
        "id": "G6Cgb_81KJO3",
        "outputId": "052e85d0-7710-4fe7-aed4-e4cea13b7fd6"
      },
      "execution_count": null,
      "outputs": [
        {
          "output_type": "execute_result",
          "data": {
            "text/plain": [
              "[('the', 18), ('.', 16), (',', 12), ('and', 12), ('was', 12)]"
            ]
          },
          "metadata": {},
          "execution_count": 234
        }
      ]
    },
    {
      "cell_type": "code",
      "source": [
        "!pip install textblob\n",
        "import textblob\n",
        "from textblob import TextBlob"
      ],
      "metadata": {
        "id": "Bs4PICy8KLeF",
        "colab": {
          "base_uri": "https://localhost:8080/"
        },
        "outputId": "e8eb4b94-b621-4b3b-f066-4372a736345b"
      },
      "execution_count": null,
      "outputs": [
        {
          "output_type": "stream",
          "name": "stdout",
          "text": [
            "Requirement already satisfied: textblob in /usr/local/lib/python3.7/dist-packages (0.15.3)\n",
            "Requirement already satisfied: nltk>=3.1 in /usr/local/lib/python3.7/dist-packages (from textblob) (3.2.5)\n",
            "Requirement already satisfied: six in /usr/local/lib/python3.7/dist-packages (from nltk>=3.1->textblob) (1.15.0)\n"
          ]
        }
      ]
    },
    {
      "cell_type": "code",
      "source": [
        "TextBlob(paragraph).ngrams(3)"
      ],
      "metadata": {
        "colab": {
          "base_uri": "https://localhost:8080/"
        },
        "id": "8Sbola1kLw3l",
        "outputId": "4e899f77-59f6-4eba-dbc1-449a8ae4c6f2"
      },
      "execution_count": null,
      "outputs": [
        {
          "output_type": "execute_result",
          "data": {
            "text/plain": [
              "[WordList(['The', 'lawyers', 'representing']),\n",
              " WordList(['lawyers', 'representing', 'the']),\n",
              " WordList(['representing', 'the', 'Hindu']),\n",
              " WordList(['the', 'Hindu', 'devotees']),\n",
              " WordList(['Hindu', 'devotees', 'yesterday']),\n",
              " WordList(['devotees', 'yesterday', 'urged']),\n",
              " WordList(['yesterday', 'urged', 'the']),\n",
              " WordList(['urged', 'the', 'Supreme']),\n",
              " WordList(['the', 'Supreme', 'Court']),\n",
              " WordList(['Supreme', 'Court', 'to']),\n",
              " WordList(['Court', 'to', 'dismiss']),\n",
              " WordList(['to', 'dismiss', 'the']),\n",
              " WordList(['dismiss', 'the', 'petition']),\n",
              " WordList(['the', 'petition', 'filed']),\n",
              " WordList(['petition', 'filed', 'by']),\n",
              " WordList(['filed', 'by', 'the']),\n",
              " WordList(['by', 'the', 'Varanasi']),\n",
              " WordList(['the', 'Varanasi', \"'s\"]),\n",
              " WordList(['Varanasi', \"'s\", 'Gyanvapi']),\n",
              " WordList([\"'s\", 'Gyanvapi', 'mosque']),\n",
              " WordList(['Gyanvapi', 'mosque', 'committee']),\n",
              " WordList(['mosque', 'committee', 'challenging']),\n",
              " WordList(['committee', 'challenging', 'the']),\n",
              " WordList(['challenging', 'the', 'filming']),\n",
              " WordList(['the', 'filming', 'inside']),\n",
              " WordList(['filming', 'inside', 'the']),\n",
              " WordList(['inside', 'the', 'mosque']),\n",
              " WordList(['the', 'mosque', 'The']),\n",
              " WordList(['mosque', 'The', 'Supreme']),\n",
              " WordList(['The', 'Supreme', 'Court']),\n",
              " WordList(['Supreme', 'Court', 'had']),\n",
              " WordList(['Court', 'had', 'earlier']),\n",
              " WordList(['had', 'earlier', 'issued']),\n",
              " WordList(['earlier', 'issued', 'a']),\n",
              " WordList(['issued', 'a', 'notice']),\n",
              " WordList(['a', 'notice', 'to']),\n",
              " WordList(['notice', 'to', 'the']),\n",
              " WordList(['to', 'the', 'Hindu']),\n",
              " WordList(['the', 'Hindu', 'side']),\n",
              " WordList(['Hindu', 'side', 'and']),\n",
              " WordList(['side', 'and', 'the']),\n",
              " WordList(['and', 'the', 'Uttar']),\n",
              " WordList(['the', 'Uttar', 'Pradesh']),\n",
              " WordList(['Uttar', 'Pradesh', 'government']),\n",
              " WordList(['Pradesh', 'government', 'on']),\n",
              " WordList(['government', 'on', 'the']),\n",
              " WordList(['on', 'the', 'plea']),\n",
              " WordList(['the', 'plea', 'filed']),\n",
              " WordList(['plea', 'filed', 'by']),\n",
              " WordList(['filed', 'by', 'the']),\n",
              " WordList(['by', 'the', 'mosque']),\n",
              " WordList(['the', 'mosque', 'committee']),\n",
              " WordList(['mosque', 'committee', 'which']),\n",
              " WordList(['committee', 'which', 'also']),\n",
              " WordList(['which', 'also', 'accused']),\n",
              " WordList(['also', 'accused', 'the']),\n",
              " WordList(['accused', 'the', 'Varanasi']),\n",
              " WordList(['the', 'Varanasi', 'court-appointed']),\n",
              " WordList(['Varanasi', 'court-appointed', 'commissioner']),\n",
              " WordList(['court-appointed', 'commissioner', 'of']),\n",
              " WordList(['commissioner', 'of', 'partiality']),\n",
              " WordList(['of', 'partiality', 'Rajinikanth']),\n",
              " WordList(['partiality', 'Rajinikanth', '’']),\n",
              " WordList(['Rajinikanth', '’', 's']),\n",
              " WordList(['’', 's', '‘']),\n",
              " WordList(['s', '‘', 'Chandramukhi']),\n",
              " WordList(['‘', 'Chandramukhi', '’']),\n",
              " WordList(['Chandramukhi', '’', 'was']),\n",
              " WordList(['’', 'was', 'one']),\n",
              " WordList(['was', 'one', 'of']),\n",
              " WordList(['one', 'of', 'his']),\n",
              " WordList(['of', 'his', 'best']),\n",
              " WordList(['his', 'best', 'and']),\n",
              " WordList(['best', 'and', 'the']),\n",
              " WordList(['and', 'the', 'film']),\n",
              " WordList(['the', 'film', 'ran']),\n",
              " WordList(['film', 'ran', 'in']),\n",
              " WordList(['ran', 'in', 'theatres']),\n",
              " WordList(['in', 'theatres', 'for']),\n",
              " WordList(['theatres', 'for', 'more']),\n",
              " WordList(['for', 'more', 'than']),\n",
              " WordList(['more', 'than', '2.5']),\n",
              " WordList(['than', '2.5', 'years']),\n",
              " WordList(['2.5', 'years', '800']),\n",
              " WordList(['years', '800', 'and']),\n",
              " WordList(['800', 'and', 'odd']),\n",
              " WordList(['and', 'odd', 'days']),\n",
              " WordList(['odd', 'days', 'when']),\n",
              " WordList(['days', 'when', 'it']),\n",
              " WordList(['when', 'it', 'was']),\n",
              " WordList(['it', 'was', 'released']),\n",
              " WordList(['was', 'released', 'in']),\n",
              " WordList(['released', 'in', '2005']),\n",
              " WordList(['in', '2005', 'Directed']),\n",
              " WordList(['2005', 'Directed', 'by']),\n",
              " WordList(['Directed', 'by', 'P']),\n",
              " WordList(['by', 'P', 'Vasu']),\n",
              " WordList(['P', 'Vasu', 'the']),\n",
              " WordList(['Vasu', 'the', 'film']),\n",
              " WordList(['the', 'film', 'is']),\n",
              " WordList(['film', 'is', 'a']),\n",
              " WordList(['is', 'a', 'remake']),\n",
              " WordList(['a', 'remake', 'of']),\n",
              " WordList(['remake', 'of', 'a']),\n",
              " WordList(['of', 'a', 'Malayalam']),\n",
              " WordList(['a', 'Malayalam', 'film']),\n",
              " WordList(['Malayalam', 'film', 'The']),\n",
              " WordList(['film', 'The', 'film']),\n",
              " WordList(['The', 'film', 'was']),\n",
              " WordList(['film', 'was', 'a']),\n",
              " WordList(['was', 'a', 'blockbuster']),\n",
              " WordList(['a', 'blockbuster', 'hit']),\n",
              " WordList(['blockbuster', 'hit', 'and']),\n",
              " WordList(['hit', 'and', 'it']),\n",
              " WordList(['and', 'it', 'featured']),\n",
              " WordList(['it', 'featured', 'Rajinikanth']),\n",
              " WordList(['featured', 'Rajinikanth', 'Prabhu']),\n",
              " WordList(['Rajinikanth', 'Prabhu', 'Jyothika']),\n",
              " WordList(['Prabhu', 'Jyothika', 'nayanthara']),\n",
              " WordList(['Jyothika', 'nayanthara', 'Nasser']),\n",
              " WordList(['nayanthara', 'Nasser', 'Malavika']),\n",
              " WordList(['Nasser', 'Malavika', 'Vadivelu']),\n",
              " WordList(['Malavika', 'Vadivelu', 'among']),\n",
              " WordList(['Vadivelu', 'among', 'others']),\n",
              " WordList(['among', 'others', 'The']),\n",
              " WordList(['others', 'The', 'film']),\n",
              " WordList(['The', 'film', 'won']),\n",
              " WordList(['film', 'won', 'many']),\n",
              " WordList(['won', 'many', 'state']),\n",
              " WordList(['many', 'state', 'awards']),\n",
              " WordList(['state', 'awards', 'as']),\n",
              " WordList(['awards', 'as', 'well']),\n",
              " WordList(['as', 'well', 'RajaRam']),\n",
              " WordList(['well', 'RajaRam', 'Singh']),\n",
              " WordList(['RajaRam', 'Singh', 'was']),\n",
              " WordList(['Singh', 'was', 'came']),\n",
              " WordList(['was', 'came', 'to']),\n",
              " WordList(['came', 'to', 'karur']),\n",
              " WordList(['to', 'karur', 'because']),\n",
              " WordList(['karur', 'because', 'he']),\n",
              " WordList(['because', 'he', 'is']),\n",
              " WordList(['he', 'is', 'an']),\n",
              " WordList(['is', 'an', 'IAS']),\n",
              " WordList(['an', 'IAS', 'officier.Ronaldo']),\n",
              " WordList(['IAS', 'officier.Ronaldo', 'was']),\n",
              " WordList(['officier.Ronaldo', 'was', 'born']),\n",
              " WordList(['was', 'born', 'on']),\n",
              " WordList(['born', 'on', 'February']),\n",
              " WordList(['on', 'February', '5']),\n",
              " WordList(['February', '5', '1985']),\n",
              " WordList(['5', '1985', 'and']),\n",
              " WordList(['1985', 'and', 'was']),\n",
              " WordList(['and', 'was', 'named']),\n",
              " WordList(['was', 'named', 'Ronaldo']),\n",
              " WordList(['named', 'Ronaldo', 'after']),\n",
              " WordList(['Ronaldo', 'after', 'the']),\n",
              " WordList(['after', 'the', 'then']),\n",
              " WordList(['the', 'then', 'US']),\n",
              " WordList(['then', 'US', 'President']),\n",
              " WordList(['US', 'President', 'Ronald']),\n",
              " WordList(['President', 'Ronald', 'Reagan']),\n",
              " WordList(['Ronald', 'Reagan', 'He']),\n",
              " WordList(['Reagan', 'He', 'grew']),\n",
              " WordList(['He', 'grew', 'up']),\n",
              " WordList(['grew', 'up', 'in']),\n",
              " WordList(['up', 'in', 'a']),\n",
              " WordList(['in', 'a', 'poor']),\n",
              " WordList(['a', 'poor', 'family']),\n",
              " WordList(['poor', 'family', 'and']),\n",
              " WordList(['family', 'and', 'had']),\n",
              " WordList(['and', 'had', 'to']),\n",
              " WordList(['had', 'to', 'share']),\n",
              " WordList(['to', 'share', 'a']),\n",
              " WordList(['share', 'a', 'bedroom']),\n",
              " WordList(['a', 'bedroom', 'and']),\n",
              " WordList(['bedroom', 'and', 'bathroom']),\n",
              " WordList(['and', 'bathroom', 'with']),\n",
              " WordList(['bathroom', 'with', 'his']),\n",
              " WordList(['with', 'his', 'older']),\n",
              " WordList(['his', 'older', 'brother']),\n",
              " WordList(['older', 'brother', 'and']),\n",
              " WordList(['brother', 'and', 'two']),\n",
              " WordList(['and', 'two', 'older']),\n",
              " WordList(['two', 'older', 'sisters']),\n",
              " WordList(['older', 'sisters', 'He']),\n",
              " WordList(['sisters', 'He', 'started']),\n",
              " WordList(['He', 'started', 'playing']),\n",
              " WordList(['started', 'playing', 'soccer']),\n",
              " WordList(['playing', 'soccer', 'at']),\n",
              " WordList(['soccer', 'at', 'an']),\n",
              " WordList(['at', 'an', 'early']),\n",
              " WordList(['an', 'early', 'age']),\n",
              " WordList(['early', 'age', 'when']),\n",
              " WordList(['age', 'when', 'he']),\n",
              " WordList(['when', 'he', 'was']),\n",
              " WordList(['he', 'was', 'just']),\n",
              " WordList(['was', 'just', 'eight']),\n",
              " WordList(['just', 'eight', 'He']),\n",
              " WordList(['eight', 'He', 'was']),\n",
              " WordList(['He', 'was', 'always']),\n",
              " WordList(['was', 'always', 'running']),\n",
              " WordList(['always', 'running', 'away']),\n",
              " WordList(['running', 'away', 'from']),\n",
              " WordList(['away', 'from', 'doing']),\n",
              " WordList(['from', 'doing', 'homework']),\n",
              " WordList(['doing', 'homework', 'He']),\n",
              " WordList(['homework', 'He', 'was']),\n",
              " WordList(['He', 'was', 'nicknamed']),\n",
              " WordList(['was', 'nicknamed', '‘']),\n",
              " WordList(['nicknamed', '‘', 'cry']),\n",
              " WordList(['‘', 'cry', 'baby']),\n",
              " WordList(['cry', 'baby', '’']),\n",
              " WordList(['baby', '’', 'because']),\n",
              " WordList(['’', 'because', 'he']),\n",
              " WordList(['because', 'he', 'felt']),\n",
              " WordList(['he', 'felt', 'bad']),\n",
              " WordList(['felt', 'bad', 'when']),\n",
              " WordList(['bad', 'when', 'he']),\n",
              " WordList(['when', 'he', 'used']),\n",
              " WordList(['he', 'used', 'to']),\n",
              " WordList(['used', 'to', 'pass']),\n",
              " WordList(['to', 'pass', 'the']),\n",
              " WordList(['pass', 'the', 'ball']),\n",
              " WordList(['the', 'ball', 'to']),\n",
              " WordList(['ball', 'to', 'his']),\n",
              " WordList(['to', 'his', 'friends']),\n",
              " WordList(['his', 'friends', 'and']),\n",
              " WordList(['friends', 'and', 'they']),\n",
              " WordList(['and', 'they', 'couldn']),\n",
              " WordList(['they', 'couldn', '’']),\n",
              " WordList(['couldn', '’', 't']),\n",
              " WordList(['’', 't', 'score']),\n",
              " WordList(['t', 'score', 'A']),\n",
              " WordList(['score', 'A', 'very']),\n",
              " WordList(['A', 'very', 'popular']),\n",
              " WordList(['very', 'popular', 'student']),\n",
              " WordList(['popular', 'student', 'in']),\n",
              " WordList(['student', 'in', 'school']),\n",
              " WordList(['in', 'school', 'Ronaldo']),\n",
              " WordList(['school', 'Ronaldo', 'was']),\n",
              " WordList(['Ronaldo', 'was', 'expelled']),\n",
              " WordList(['was', 'expelled', 'at']),\n",
              " WordList(['expelled', 'at', 'the']),\n",
              " WordList(['at', 'the', 'age']),\n",
              " WordList(['the', 'age', 'of']),\n",
              " WordList(['age', 'of', '14']),\n",
              " WordList(['of', '14', 'for']),\n",
              " WordList(['14', 'for', 'throwing']),\n",
              " WordList(['for', 'throwing', 'a']),\n",
              " WordList(['throwing', 'a', 'chair']),\n",
              " WordList(['a', 'chair', 'at']),\n",
              " WordList(['chair', 'at', 'his']),\n",
              " WordList(['at', 'his', 'teacher']),\n",
              " WordList(['his', 'teacher', 'who']),\n",
              " WordList(['teacher', 'who', 'Ronaldo']),\n",
              " WordList(['who', 'Ronaldo', 'thought']),\n",
              " WordList(['Ronaldo', 'thought', 'disrespected']),\n",
              " WordList(['thought', 'disrespected', 'him']),\n",
              " WordList(['disrespected', 'him', 'He']),\n",
              " WordList(['him', 'He', 'then']),\n",
              " WordList(['He', 'then', 'turned']),\n",
              " WordList(['then', 'turned', 'his']),\n",
              " WordList(['turned', 'his', 'entire']),\n",
              " WordList(['his', 'entire', 'attention']),\n",
              " WordList(['entire', 'attention', 'to']),\n",
              " WordList(['attention', 'to', 'soccer']),\n",
              " WordList(['to', 'soccer', 'and']),\n",
              " WordList(['soccer', 'and', 'went']),\n",
              " WordList(['and', 'went', 'on']),\n",
              " WordList(['went', 'on', 'to']),\n",
              " WordList(['on', 'to', 'become']),\n",
              " WordList(['to', 'become', 'the']),\n",
              " WordList(['become', 'the', 'world']),\n",
              " WordList(['the', 'world', '’']),\n",
              " WordList(['world', '’', 's']),\n",
              " WordList(['’', 's', 'greatest']),\n",
              " WordList(['s', 'greatest', 'soccer']),\n",
              " WordList(['greatest', 'soccer', 'player']),\n",
              " WordList(['soccer', 'player', 'But']),\n",
              " WordList(['player', 'But', 'at']),\n",
              " WordList(['But', 'at', 'the']),\n",
              " WordList(['at', 'the', 'age']),\n",
              " WordList(['the', 'age', 'of']),\n",
              " WordList(['age', 'of', '15']),\n",
              " WordList(['of', '15', 'Ronaldo']),\n",
              " WordList(['15', 'Ronaldo', 'was']),\n",
              " WordList(['Ronaldo', 'was', 'diagnosed']),\n",
              " WordList(['was', 'diagnosed', 'with']),\n",
              " WordList(['diagnosed', 'with', '‘']),\n",
              " WordList(['with', '‘', 'racing']),\n",
              " WordList(['‘', 'racing', 'heart']),\n",
              " WordList(['racing', 'heart', '’']),\n",
              " WordList(['heart', '’', 'His']),\n",
              " WordList(['’', 'His', 'condition']),\n",
              " WordList(['His', 'condition', 'was']),\n",
              " WordList(['condition', 'was', 'serious']),\n",
              " WordList(['was', 'serious', 'and']),\n",
              " WordList(['serious', 'and', 'would']),\n",
              " WordList(['and', 'would', 'have']),\n",
              " WordList(['would', 'have', 'made']),\n",
              " WordList(['have', 'made', 'him']),\n",
              " WordList(['made', 'him', 'let']),\n",
              " WordList(['him', 'let', 'go']),\n",
              " WordList(['let', 'go', 'of']),\n",
              " WordList(['go', 'of', 'football']),\n",
              " WordList(['of', 'football', 'But']),\n",
              " WordList(['football', 'But', 'a']),\n",
              " WordList(['But', 'a', 'surgery']),\n",
              " WordList(['a', 'surgery', 'saved']),\n",
              " WordList(['surgery', 'saved', 'him']),\n",
              " WordList(['saved', 'him', 'and']),\n",
              " WordList(['him', 'and', 'he']),\n",
              " WordList(['and', 'he', 'went']),\n",
              " WordList(['he', 'went', 'back']),\n",
              " WordList(['went', 'back', 'for']),\n",
              " WordList(['back', 'for', 'his']),\n",
              " WordList(['for', 'his', 'training'])]"
            ]
          },
          "metadata": {},
          "execution_count": 236
        }
      ]
    },
    {
      "cell_type": "code",
      "source": [
        "TextBlob(paragraph).ngrams(4)"
      ],
      "metadata": {
        "colab": {
          "base_uri": "https://localhost:8080/"
        },
        "id": "-rRcrsMSMLZZ",
        "outputId": "9f9e677c-36e7-4495-b306-d3db4664ae8c"
      },
      "execution_count": null,
      "outputs": [
        {
          "output_type": "execute_result",
          "data": {
            "text/plain": [
              "[WordList(['The', 'lawyers', 'representing', 'the']),\n",
              " WordList(['lawyers', 'representing', 'the', 'Hindu']),\n",
              " WordList(['representing', 'the', 'Hindu', 'devotees']),\n",
              " WordList(['the', 'Hindu', 'devotees', 'yesterday']),\n",
              " WordList(['Hindu', 'devotees', 'yesterday', 'urged']),\n",
              " WordList(['devotees', 'yesterday', 'urged', 'the']),\n",
              " WordList(['yesterday', 'urged', 'the', 'Supreme']),\n",
              " WordList(['urged', 'the', 'Supreme', 'Court']),\n",
              " WordList(['the', 'Supreme', 'Court', 'to']),\n",
              " WordList(['Supreme', 'Court', 'to', 'dismiss']),\n",
              " WordList(['Court', 'to', 'dismiss', 'the']),\n",
              " WordList(['to', 'dismiss', 'the', 'petition']),\n",
              " WordList(['dismiss', 'the', 'petition', 'filed']),\n",
              " WordList(['the', 'petition', 'filed', 'by']),\n",
              " WordList(['petition', 'filed', 'by', 'the']),\n",
              " WordList(['filed', 'by', 'the', 'Varanasi']),\n",
              " WordList(['by', 'the', 'Varanasi', \"'s\"]),\n",
              " WordList(['the', 'Varanasi', \"'s\", 'Gyanvapi']),\n",
              " WordList(['Varanasi', \"'s\", 'Gyanvapi', 'mosque']),\n",
              " WordList([\"'s\", 'Gyanvapi', 'mosque', 'committee']),\n",
              " WordList(['Gyanvapi', 'mosque', 'committee', 'challenging']),\n",
              " WordList(['mosque', 'committee', 'challenging', 'the']),\n",
              " WordList(['committee', 'challenging', 'the', 'filming']),\n",
              " WordList(['challenging', 'the', 'filming', 'inside']),\n",
              " WordList(['the', 'filming', 'inside', 'the']),\n",
              " WordList(['filming', 'inside', 'the', 'mosque']),\n",
              " WordList(['inside', 'the', 'mosque', 'The']),\n",
              " WordList(['the', 'mosque', 'The', 'Supreme']),\n",
              " WordList(['mosque', 'The', 'Supreme', 'Court']),\n",
              " WordList(['The', 'Supreme', 'Court', 'had']),\n",
              " WordList(['Supreme', 'Court', 'had', 'earlier']),\n",
              " WordList(['Court', 'had', 'earlier', 'issued']),\n",
              " WordList(['had', 'earlier', 'issued', 'a']),\n",
              " WordList(['earlier', 'issued', 'a', 'notice']),\n",
              " WordList(['issued', 'a', 'notice', 'to']),\n",
              " WordList(['a', 'notice', 'to', 'the']),\n",
              " WordList(['notice', 'to', 'the', 'Hindu']),\n",
              " WordList(['to', 'the', 'Hindu', 'side']),\n",
              " WordList(['the', 'Hindu', 'side', 'and']),\n",
              " WordList(['Hindu', 'side', 'and', 'the']),\n",
              " WordList(['side', 'and', 'the', 'Uttar']),\n",
              " WordList(['and', 'the', 'Uttar', 'Pradesh']),\n",
              " WordList(['the', 'Uttar', 'Pradesh', 'government']),\n",
              " WordList(['Uttar', 'Pradesh', 'government', 'on']),\n",
              " WordList(['Pradesh', 'government', 'on', 'the']),\n",
              " WordList(['government', 'on', 'the', 'plea']),\n",
              " WordList(['on', 'the', 'plea', 'filed']),\n",
              " WordList(['the', 'plea', 'filed', 'by']),\n",
              " WordList(['plea', 'filed', 'by', 'the']),\n",
              " WordList(['filed', 'by', 'the', 'mosque']),\n",
              " WordList(['by', 'the', 'mosque', 'committee']),\n",
              " WordList(['the', 'mosque', 'committee', 'which']),\n",
              " WordList(['mosque', 'committee', 'which', 'also']),\n",
              " WordList(['committee', 'which', 'also', 'accused']),\n",
              " WordList(['which', 'also', 'accused', 'the']),\n",
              " WordList(['also', 'accused', 'the', 'Varanasi']),\n",
              " WordList(['accused', 'the', 'Varanasi', 'court-appointed']),\n",
              " WordList(['the', 'Varanasi', 'court-appointed', 'commissioner']),\n",
              " WordList(['Varanasi', 'court-appointed', 'commissioner', 'of']),\n",
              " WordList(['court-appointed', 'commissioner', 'of', 'partiality']),\n",
              " WordList(['commissioner', 'of', 'partiality', 'Rajinikanth']),\n",
              " WordList(['of', 'partiality', 'Rajinikanth', '’']),\n",
              " WordList(['partiality', 'Rajinikanth', '’', 's']),\n",
              " WordList(['Rajinikanth', '’', 's', '‘']),\n",
              " WordList(['’', 's', '‘', 'Chandramukhi']),\n",
              " WordList(['s', '‘', 'Chandramukhi', '’']),\n",
              " WordList(['‘', 'Chandramukhi', '’', 'was']),\n",
              " WordList(['Chandramukhi', '’', 'was', 'one']),\n",
              " WordList(['’', 'was', 'one', 'of']),\n",
              " WordList(['was', 'one', 'of', 'his']),\n",
              " WordList(['one', 'of', 'his', 'best']),\n",
              " WordList(['of', 'his', 'best', 'and']),\n",
              " WordList(['his', 'best', 'and', 'the']),\n",
              " WordList(['best', 'and', 'the', 'film']),\n",
              " WordList(['and', 'the', 'film', 'ran']),\n",
              " WordList(['the', 'film', 'ran', 'in']),\n",
              " WordList(['film', 'ran', 'in', 'theatres']),\n",
              " WordList(['ran', 'in', 'theatres', 'for']),\n",
              " WordList(['in', 'theatres', 'for', 'more']),\n",
              " WordList(['theatres', 'for', 'more', 'than']),\n",
              " WordList(['for', 'more', 'than', '2.5']),\n",
              " WordList(['more', 'than', '2.5', 'years']),\n",
              " WordList(['than', '2.5', 'years', '800']),\n",
              " WordList(['2.5', 'years', '800', 'and']),\n",
              " WordList(['years', '800', 'and', 'odd']),\n",
              " WordList(['800', 'and', 'odd', 'days']),\n",
              " WordList(['and', 'odd', 'days', 'when']),\n",
              " WordList(['odd', 'days', 'when', 'it']),\n",
              " WordList(['days', 'when', 'it', 'was']),\n",
              " WordList(['when', 'it', 'was', 'released']),\n",
              " WordList(['it', 'was', 'released', 'in']),\n",
              " WordList(['was', 'released', 'in', '2005']),\n",
              " WordList(['released', 'in', '2005', 'Directed']),\n",
              " WordList(['in', '2005', 'Directed', 'by']),\n",
              " WordList(['2005', 'Directed', 'by', 'P']),\n",
              " WordList(['Directed', 'by', 'P', 'Vasu']),\n",
              " WordList(['by', 'P', 'Vasu', 'the']),\n",
              " WordList(['P', 'Vasu', 'the', 'film']),\n",
              " WordList(['Vasu', 'the', 'film', 'is']),\n",
              " WordList(['the', 'film', 'is', 'a']),\n",
              " WordList(['film', 'is', 'a', 'remake']),\n",
              " WordList(['is', 'a', 'remake', 'of']),\n",
              " WordList(['a', 'remake', 'of', 'a']),\n",
              " WordList(['remake', 'of', 'a', 'Malayalam']),\n",
              " WordList(['of', 'a', 'Malayalam', 'film']),\n",
              " WordList(['a', 'Malayalam', 'film', 'The']),\n",
              " WordList(['Malayalam', 'film', 'The', 'film']),\n",
              " WordList(['film', 'The', 'film', 'was']),\n",
              " WordList(['The', 'film', 'was', 'a']),\n",
              " WordList(['film', 'was', 'a', 'blockbuster']),\n",
              " WordList(['was', 'a', 'blockbuster', 'hit']),\n",
              " WordList(['a', 'blockbuster', 'hit', 'and']),\n",
              " WordList(['blockbuster', 'hit', 'and', 'it']),\n",
              " WordList(['hit', 'and', 'it', 'featured']),\n",
              " WordList(['and', 'it', 'featured', 'Rajinikanth']),\n",
              " WordList(['it', 'featured', 'Rajinikanth', 'Prabhu']),\n",
              " WordList(['featured', 'Rajinikanth', 'Prabhu', 'Jyothika']),\n",
              " WordList(['Rajinikanth', 'Prabhu', 'Jyothika', 'nayanthara']),\n",
              " WordList(['Prabhu', 'Jyothika', 'nayanthara', 'Nasser']),\n",
              " WordList(['Jyothika', 'nayanthara', 'Nasser', 'Malavika']),\n",
              " WordList(['nayanthara', 'Nasser', 'Malavika', 'Vadivelu']),\n",
              " WordList(['Nasser', 'Malavika', 'Vadivelu', 'among']),\n",
              " WordList(['Malavika', 'Vadivelu', 'among', 'others']),\n",
              " WordList(['Vadivelu', 'among', 'others', 'The']),\n",
              " WordList(['among', 'others', 'The', 'film']),\n",
              " WordList(['others', 'The', 'film', 'won']),\n",
              " WordList(['The', 'film', 'won', 'many']),\n",
              " WordList(['film', 'won', 'many', 'state']),\n",
              " WordList(['won', 'many', 'state', 'awards']),\n",
              " WordList(['many', 'state', 'awards', 'as']),\n",
              " WordList(['state', 'awards', 'as', 'well']),\n",
              " WordList(['awards', 'as', 'well', 'RajaRam']),\n",
              " WordList(['as', 'well', 'RajaRam', 'Singh']),\n",
              " WordList(['well', 'RajaRam', 'Singh', 'was']),\n",
              " WordList(['RajaRam', 'Singh', 'was', 'came']),\n",
              " WordList(['Singh', 'was', 'came', 'to']),\n",
              " WordList(['was', 'came', 'to', 'karur']),\n",
              " WordList(['came', 'to', 'karur', 'because']),\n",
              " WordList(['to', 'karur', 'because', 'he']),\n",
              " WordList(['karur', 'because', 'he', 'is']),\n",
              " WordList(['because', 'he', 'is', 'an']),\n",
              " WordList(['he', 'is', 'an', 'IAS']),\n",
              " WordList(['is', 'an', 'IAS', 'officier.Ronaldo']),\n",
              " WordList(['an', 'IAS', 'officier.Ronaldo', 'was']),\n",
              " WordList(['IAS', 'officier.Ronaldo', 'was', 'born']),\n",
              " WordList(['officier.Ronaldo', 'was', 'born', 'on']),\n",
              " WordList(['was', 'born', 'on', 'February']),\n",
              " WordList(['born', 'on', 'February', '5']),\n",
              " WordList(['on', 'February', '5', '1985']),\n",
              " WordList(['February', '5', '1985', 'and']),\n",
              " WordList(['5', '1985', 'and', 'was']),\n",
              " WordList(['1985', 'and', 'was', 'named']),\n",
              " WordList(['and', 'was', 'named', 'Ronaldo']),\n",
              " WordList(['was', 'named', 'Ronaldo', 'after']),\n",
              " WordList(['named', 'Ronaldo', 'after', 'the']),\n",
              " WordList(['Ronaldo', 'after', 'the', 'then']),\n",
              " WordList(['after', 'the', 'then', 'US']),\n",
              " WordList(['the', 'then', 'US', 'President']),\n",
              " WordList(['then', 'US', 'President', 'Ronald']),\n",
              " WordList(['US', 'President', 'Ronald', 'Reagan']),\n",
              " WordList(['President', 'Ronald', 'Reagan', 'He']),\n",
              " WordList(['Ronald', 'Reagan', 'He', 'grew']),\n",
              " WordList(['Reagan', 'He', 'grew', 'up']),\n",
              " WordList(['He', 'grew', 'up', 'in']),\n",
              " WordList(['grew', 'up', 'in', 'a']),\n",
              " WordList(['up', 'in', 'a', 'poor']),\n",
              " WordList(['in', 'a', 'poor', 'family']),\n",
              " WordList(['a', 'poor', 'family', 'and']),\n",
              " WordList(['poor', 'family', 'and', 'had']),\n",
              " WordList(['family', 'and', 'had', 'to']),\n",
              " WordList(['and', 'had', 'to', 'share']),\n",
              " WordList(['had', 'to', 'share', 'a']),\n",
              " WordList(['to', 'share', 'a', 'bedroom']),\n",
              " WordList(['share', 'a', 'bedroom', 'and']),\n",
              " WordList(['a', 'bedroom', 'and', 'bathroom']),\n",
              " WordList(['bedroom', 'and', 'bathroom', 'with']),\n",
              " WordList(['and', 'bathroom', 'with', 'his']),\n",
              " WordList(['bathroom', 'with', 'his', 'older']),\n",
              " WordList(['with', 'his', 'older', 'brother']),\n",
              " WordList(['his', 'older', 'brother', 'and']),\n",
              " WordList(['older', 'brother', 'and', 'two']),\n",
              " WordList(['brother', 'and', 'two', 'older']),\n",
              " WordList(['and', 'two', 'older', 'sisters']),\n",
              " WordList(['two', 'older', 'sisters', 'He']),\n",
              " WordList(['older', 'sisters', 'He', 'started']),\n",
              " WordList(['sisters', 'He', 'started', 'playing']),\n",
              " WordList(['He', 'started', 'playing', 'soccer']),\n",
              " WordList(['started', 'playing', 'soccer', 'at']),\n",
              " WordList(['playing', 'soccer', 'at', 'an']),\n",
              " WordList(['soccer', 'at', 'an', 'early']),\n",
              " WordList(['at', 'an', 'early', 'age']),\n",
              " WordList(['an', 'early', 'age', 'when']),\n",
              " WordList(['early', 'age', 'when', 'he']),\n",
              " WordList(['age', 'when', 'he', 'was']),\n",
              " WordList(['when', 'he', 'was', 'just']),\n",
              " WordList(['he', 'was', 'just', 'eight']),\n",
              " WordList(['was', 'just', 'eight', 'He']),\n",
              " WordList(['just', 'eight', 'He', 'was']),\n",
              " WordList(['eight', 'He', 'was', 'always']),\n",
              " WordList(['He', 'was', 'always', 'running']),\n",
              " WordList(['was', 'always', 'running', 'away']),\n",
              " WordList(['always', 'running', 'away', 'from']),\n",
              " WordList(['running', 'away', 'from', 'doing']),\n",
              " WordList(['away', 'from', 'doing', 'homework']),\n",
              " WordList(['from', 'doing', 'homework', 'He']),\n",
              " WordList(['doing', 'homework', 'He', 'was']),\n",
              " WordList(['homework', 'He', 'was', 'nicknamed']),\n",
              " WordList(['He', 'was', 'nicknamed', '‘']),\n",
              " WordList(['was', 'nicknamed', '‘', 'cry']),\n",
              " WordList(['nicknamed', '‘', 'cry', 'baby']),\n",
              " WordList(['‘', 'cry', 'baby', '’']),\n",
              " WordList(['cry', 'baby', '’', 'because']),\n",
              " WordList(['baby', '’', 'because', 'he']),\n",
              " WordList(['’', 'because', 'he', 'felt']),\n",
              " WordList(['because', 'he', 'felt', 'bad']),\n",
              " WordList(['he', 'felt', 'bad', 'when']),\n",
              " WordList(['felt', 'bad', 'when', 'he']),\n",
              " WordList(['bad', 'when', 'he', 'used']),\n",
              " WordList(['when', 'he', 'used', 'to']),\n",
              " WordList(['he', 'used', 'to', 'pass']),\n",
              " WordList(['used', 'to', 'pass', 'the']),\n",
              " WordList(['to', 'pass', 'the', 'ball']),\n",
              " WordList(['pass', 'the', 'ball', 'to']),\n",
              " WordList(['the', 'ball', 'to', 'his']),\n",
              " WordList(['ball', 'to', 'his', 'friends']),\n",
              " WordList(['to', 'his', 'friends', 'and']),\n",
              " WordList(['his', 'friends', 'and', 'they']),\n",
              " WordList(['friends', 'and', 'they', 'couldn']),\n",
              " WordList(['and', 'they', 'couldn', '’']),\n",
              " WordList(['they', 'couldn', '’', 't']),\n",
              " WordList(['couldn', '’', 't', 'score']),\n",
              " WordList(['’', 't', 'score', 'A']),\n",
              " WordList(['t', 'score', 'A', 'very']),\n",
              " WordList(['score', 'A', 'very', 'popular']),\n",
              " WordList(['A', 'very', 'popular', 'student']),\n",
              " WordList(['very', 'popular', 'student', 'in']),\n",
              " WordList(['popular', 'student', 'in', 'school']),\n",
              " WordList(['student', 'in', 'school', 'Ronaldo']),\n",
              " WordList(['in', 'school', 'Ronaldo', 'was']),\n",
              " WordList(['school', 'Ronaldo', 'was', 'expelled']),\n",
              " WordList(['Ronaldo', 'was', 'expelled', 'at']),\n",
              " WordList(['was', 'expelled', 'at', 'the']),\n",
              " WordList(['expelled', 'at', 'the', 'age']),\n",
              " WordList(['at', 'the', 'age', 'of']),\n",
              " WordList(['the', 'age', 'of', '14']),\n",
              " WordList(['age', 'of', '14', 'for']),\n",
              " WordList(['of', '14', 'for', 'throwing']),\n",
              " WordList(['14', 'for', 'throwing', 'a']),\n",
              " WordList(['for', 'throwing', 'a', 'chair']),\n",
              " WordList(['throwing', 'a', 'chair', 'at']),\n",
              " WordList(['a', 'chair', 'at', 'his']),\n",
              " WordList(['chair', 'at', 'his', 'teacher']),\n",
              " WordList(['at', 'his', 'teacher', 'who']),\n",
              " WordList(['his', 'teacher', 'who', 'Ronaldo']),\n",
              " WordList(['teacher', 'who', 'Ronaldo', 'thought']),\n",
              " WordList(['who', 'Ronaldo', 'thought', 'disrespected']),\n",
              " WordList(['Ronaldo', 'thought', 'disrespected', 'him']),\n",
              " WordList(['thought', 'disrespected', 'him', 'He']),\n",
              " WordList(['disrespected', 'him', 'He', 'then']),\n",
              " WordList(['him', 'He', 'then', 'turned']),\n",
              " WordList(['He', 'then', 'turned', 'his']),\n",
              " WordList(['then', 'turned', 'his', 'entire']),\n",
              " WordList(['turned', 'his', 'entire', 'attention']),\n",
              " WordList(['his', 'entire', 'attention', 'to']),\n",
              " WordList(['entire', 'attention', 'to', 'soccer']),\n",
              " WordList(['attention', 'to', 'soccer', 'and']),\n",
              " WordList(['to', 'soccer', 'and', 'went']),\n",
              " WordList(['soccer', 'and', 'went', 'on']),\n",
              " WordList(['and', 'went', 'on', 'to']),\n",
              " WordList(['went', 'on', 'to', 'become']),\n",
              " WordList(['on', 'to', 'become', 'the']),\n",
              " WordList(['to', 'become', 'the', 'world']),\n",
              " WordList(['become', 'the', 'world', '’']),\n",
              " WordList(['the', 'world', '’', 's']),\n",
              " WordList(['world', '’', 's', 'greatest']),\n",
              " WordList(['’', 's', 'greatest', 'soccer']),\n",
              " WordList(['s', 'greatest', 'soccer', 'player']),\n",
              " WordList(['greatest', 'soccer', 'player', 'But']),\n",
              " WordList(['soccer', 'player', 'But', 'at']),\n",
              " WordList(['player', 'But', 'at', 'the']),\n",
              " WordList(['But', 'at', 'the', 'age']),\n",
              " WordList(['at', 'the', 'age', 'of']),\n",
              " WordList(['the', 'age', 'of', '15']),\n",
              " WordList(['age', 'of', '15', 'Ronaldo']),\n",
              " WordList(['of', '15', 'Ronaldo', 'was']),\n",
              " WordList(['15', 'Ronaldo', 'was', 'diagnosed']),\n",
              " WordList(['Ronaldo', 'was', 'diagnosed', 'with']),\n",
              " WordList(['was', 'diagnosed', 'with', '‘']),\n",
              " WordList(['diagnosed', 'with', '‘', 'racing']),\n",
              " WordList(['with', '‘', 'racing', 'heart']),\n",
              " WordList(['‘', 'racing', 'heart', '’']),\n",
              " WordList(['racing', 'heart', '’', 'His']),\n",
              " WordList(['heart', '’', 'His', 'condition']),\n",
              " WordList(['’', 'His', 'condition', 'was']),\n",
              " WordList(['His', 'condition', 'was', 'serious']),\n",
              " WordList(['condition', 'was', 'serious', 'and']),\n",
              " WordList(['was', 'serious', 'and', 'would']),\n",
              " WordList(['serious', 'and', 'would', 'have']),\n",
              " WordList(['and', 'would', 'have', 'made']),\n",
              " WordList(['would', 'have', 'made', 'him']),\n",
              " WordList(['have', 'made', 'him', 'let']),\n",
              " WordList(['made', 'him', 'let', 'go']),\n",
              " WordList(['him', 'let', 'go', 'of']),\n",
              " WordList(['let', 'go', 'of', 'football']),\n",
              " WordList(['go', 'of', 'football', 'But']),\n",
              " WordList(['of', 'football', 'But', 'a']),\n",
              " WordList(['football', 'But', 'a', 'surgery']),\n",
              " WordList(['But', 'a', 'surgery', 'saved']),\n",
              " WordList(['a', 'surgery', 'saved', 'him']),\n",
              " WordList(['surgery', 'saved', 'him', 'and']),\n",
              " WordList(['saved', 'him', 'and', 'he']),\n",
              " WordList(['him', 'and', 'he', 'went']),\n",
              " WordList(['and', 'he', 'went', 'back']),\n",
              " WordList(['he', 'went', 'back', 'for']),\n",
              " WordList(['went', 'back', 'for', 'his']),\n",
              " WordList(['back', 'for', 'his', 'training'])]"
            ]
          },
          "metadata": {},
          "execution_count": 237
        }
      ]
    },
    {
      "cell_type": "code",
      "source": [
        "from nltk.stem import PorterStemmer\n",
        "pst=PorterStemmer()\n",
        "pst.stem('')"
      ],
      "metadata": {
        "colab": {
          "base_uri": "https://localhost:8080/",
          "height": 35
        },
        "id": "wey8EYVrMaxD",
        "outputId": "db41f5fd-0bf6-4a3c-8467-b971e0f3104f"
      },
      "execution_count": null,
      "outputs": [
        {
          "output_type": "execute_result",
          "data": {
            "text/plain": [
              "''"
            ],
            "application/vnd.google.colaboratory.intrinsic+json": {
              "type": "string"
            }
          },
          "metadata": {},
          "execution_count": 238
        }
      ]
    },
    {
      "cell_type": "code",
      "source": [
        "from nltk.stem import LancasterStemmer\n",
        "lst=LancasterStemmer()\n",
        "lst.stem('football')"
      ],
      "metadata": {
        "colab": {
          "base_uri": "https://localhost:8080/",
          "height": 35
        },
        "id": "NlDj6ZluOuEB",
        "outputId": "78763367-ed08-4b04-a96f-f61c3398fa5b"
      },
      "execution_count": null,
      "outputs": [
        {
          "output_type": "execute_result",
          "data": {
            "text/plain": [
              "'footbal'"
            ],
            "application/vnd.google.colaboratory.intrinsic+json": {
              "type": "string"
            }
          },
          "metadata": {},
          "execution_count": 239
        }
      ]
    },
    {
      "cell_type": "code",
      "source": [
        "from nltk.stem import WordNetLemmatizer\n",
        "nltk.download('wordnet')\n",
        "lemmatizer=WordNetLemmatizer()\n",
        "lemmatizer.lemmatize('football')"
      ],
      "metadata": {
        "colab": {
          "base_uri": "https://localhost:8080/",
          "height": 70
        },
        "id": "Y8W-8zYkPPvS",
        "outputId": "f34c3e1d-d67b-4b03-f40d-657a2e96836b"
      },
      "execution_count": null,
      "outputs": [
        {
          "output_type": "stream",
          "name": "stdout",
          "text": [
            "[nltk_data] Downloading package wordnet to /root/nltk_data...\n",
            "[nltk_data]   Package wordnet is already up-to-date!\n"
          ]
        },
        {
          "output_type": "execute_result",
          "data": {
            "text/plain": [
              "'football'"
            ],
            "application/vnd.google.colaboratory.intrinsic+json": {
              "type": "string"
            }
          },
          "metadata": {},
          "execution_count": 240
        }
      ]
    },
    {
      "cell_type": "markdown",
      "source": [
        "STOP WORDS"
      ],
      "metadata": {
        "id": "rC-MMLoSfUTc"
      }
    },
    {
      "cell_type": "code",
      "source": [
        "from nltk import word_tokenize\n",
        "from nltk.corpus import stopwords\n",
        "import nltk"
      ],
      "metadata": {
        "id": "9_17thZsfTV_"
      },
      "execution_count": null,
      "outputs": []
    },
    {
      "cell_type": "code",
      "source": [
        "nltk.download('stopwords')"
      ],
      "metadata": {
        "colab": {
          "base_uri": "https://localhost:8080/"
        },
        "id": "kfzyzW9jf1VI",
        "outputId": "d42b0175-b4e4-4096-bc29-4464554636d3"
      },
      "execution_count": null,
      "outputs": [
        {
          "output_type": "stream",
          "name": "stdout",
          "text": [
            "[nltk_data] Downloading package stopwords to /root/nltk_data...\n",
            "[nltk_data]   Package stopwords is already up-to-date!\n"
          ]
        },
        {
          "output_type": "execute_result",
          "data": {
            "text/plain": [
              "True"
            ]
          },
          "metadata": {},
          "execution_count": 242
        }
      ]
    },
    {
      "cell_type": "code",
      "source": [
        "a=set(stopwords.words('english'))"
      ],
      "metadata": {
        "id": "-4XBxkDegETB"
      },
      "execution_count": null,
      "outputs": []
    },
    {
      "cell_type": "code",
      "source": [
        "text1=word_tokenize(paragraph.lower())"
      ],
      "metadata": {
        "id": "bYnDeJPdgYR9"
      },
      "execution_count": null,
      "outputs": []
    },
    {
      "cell_type": "code",
      "source": [
        "print(text1)"
      ],
      "metadata": {
        "colab": {
          "base_uri": "https://localhost:8080/"
        },
        "id": "nWal2114hNIn",
        "outputId": "77674e35-58f8-4565-c959-7afce151705c"
      },
      "execution_count": null,
      "outputs": [
        {
          "output_type": "stream",
          "name": "stdout",
          "text": [
            "['the', 'lawyers', 'representing', 'the', 'hindu', 'devotees', 'yesterday', 'urged', 'the', 'supreme', 'court', 'to', 'dismiss', 'the', 'petition', 'filed', 'by', 'the', 'varanasi', \"'s\", 'gyanvapi', 'mosque', 'committee', ',', 'challenging', 'the', 'filming', 'inside', 'the', 'mosque', '.', 'the', 'supreme', 'court', 'had', 'earlier', 'issued', 'a', 'notice', 'to', 'the', 'hindu', 'side', 'and', 'the', 'uttar', 'pradesh', 'government', 'on', 'the', 'plea', 'filed', 'by', 'the', 'mosque', 'committee', ',', 'which', 'also', 'accused', 'the', 'varanasi', 'court-appointed', 'commissioner', 'of', 'partiality', '.', 'rajinikanth', '’', 's', '‘', 'chandramukhi', '’', 'was', 'one', 'of', 'his', 'best', 'and', 'the', 'film', 'ran', 'in', 'theatres', 'for', 'more', 'than', '2.5', 'years', '(', '800', 'and', 'odd', 'days', ')', 'when', 'it', 'was', 'released', 'in', '2005.', 'directed', 'by', 'p', 'vasu', ',', 'the', 'film', 'is', 'a', 'remake', 'of', 'a', 'malayalam', 'film', '.', 'the', 'film', 'was', 'a', 'blockbuster', 'hit', 'and', 'it', 'featured', 'rajinikanth', ',', 'prabhu', ',', 'jyothika', ',', 'nayanthara', ',', 'nasser', ',', 'malavika', ',', 'vadivelu', 'among', 'others', '.', 'the', 'film', 'won', 'many', 'state', 'awards', 'as', 'well', '.', 'rajaram', 'singh', 'was', 'came', 'to', 'karur', ',', 'because', 'he', 'is', 'an', 'ias', 'officier.ronaldo', 'was', 'born', 'on', 'february', '5', ',', '1985', 'and', 'was', 'named', 'ronaldo', 'after', 'the', 'then', 'us', 'president', 'ronald', 'reagan', '.', 'he', 'grew', 'up', 'in', 'a', 'poor', 'family', 'and', 'had', 'to', 'share', 'a', 'bedroom', 'and', 'bathroom', 'with', 'his', 'older', 'brother', 'and', 'two', 'older', 'sisters', '.', 'he', 'started', 'playing', 'soccer', 'at', 'an', 'early', 'age', 'when', 'he', 'was', 'just', 'eight', '.', 'he', 'was', 'always', 'running', 'away', 'from', 'doing', 'homework', '.', 'he', 'was', 'nicknamed', '‘', 'cry', 'baby', '’', 'because', 'he', 'felt', 'bad', 'when', 'he', 'used', 'to', 'pass', 'the', 'ball', 'to', 'his', 'friends', 'and', 'they', 'couldn', '’', 't', 'score', '.', 'a', 'very', 'popular', 'student', 'in', 'school', ',', 'ronaldo', 'was', 'expelled', 'at', 'the', 'age', 'of', '14', 'for', 'throwing', 'a', 'chair', 'at', 'his', 'teacher', 'who', 'ronaldo', 'thought', 'disrespected', 'him', '.', 'he', 'then', 'turned', 'his', 'entire', 'attention', 'to', 'soccer', 'and', 'went', 'on', 'to', 'become', 'the', 'world', '’', 's', 'greatest', 'soccer', 'player', '.', 'but', 'at', 'the', 'age', 'of', '15', 'ronaldo', 'was', 'diagnosed', 'with', '‘', 'racing', 'heart', '’', '.', 'his', 'condition', 'was', 'serious', 'and', 'would', 'have', 'made', 'him', 'let', 'go', 'of', 'football', '.', 'but', 'a', 'surgery', 'saved', 'him', 'and', 'he', 'went', 'back', 'for', 'his', 'training', '.']\n"
          ]
        }
      ]
    },
    {
      "cell_type": "code",
      "source": [
        "stopwords=[x for x in text1 if x not in a]"
      ],
      "metadata": {
        "id": "LzWEY-UkhQTU"
      },
      "execution_count": null,
      "outputs": []
    },
    {
      "cell_type": "code",
      "source": [
        "print(stopwords)"
      ],
      "metadata": {
        "colab": {
          "base_uri": "https://localhost:8080/"
        },
        "id": "zQhIghnMh8Ik",
        "outputId": "cdebbda6-8d59-4d3c-83f5-61524cc551bd"
      },
      "execution_count": null,
      "outputs": [
        {
          "output_type": "stream",
          "name": "stdout",
          "text": [
            "['lawyers', 'representing', 'hindu', 'devotees', 'yesterday', 'urged', 'supreme', 'court', 'dismiss', 'petition', 'filed', 'varanasi', \"'s\", 'gyanvapi', 'mosque', 'committee', ',', 'challenging', 'filming', 'inside', 'mosque', '.', 'supreme', 'court', 'earlier', 'issued', 'notice', 'hindu', 'side', 'uttar', 'pradesh', 'government', 'plea', 'filed', 'mosque', 'committee', ',', 'also', 'accused', 'varanasi', 'court-appointed', 'commissioner', 'partiality', '.', 'rajinikanth', '’', '‘', 'chandramukhi', '’', 'one', 'best', 'film', 'ran', 'theatres', '2.5', 'years', '(', '800', 'odd', 'days', ')', 'released', '2005.', 'directed', 'p', 'vasu', ',', 'film', 'remake', 'malayalam', 'film', '.', 'film', 'blockbuster', 'hit', 'featured', 'rajinikanth', ',', 'prabhu', ',', 'jyothika', ',', 'nayanthara', ',', 'nasser', ',', 'malavika', ',', 'vadivelu', 'among', 'others', '.', 'film', 'many', 'state', 'awards', 'well', '.', 'rajaram', 'singh', 'came', 'karur', ',', 'ias', 'officier.ronaldo', 'born', 'february', '5', ',', '1985', 'named', 'ronaldo', 'us', 'president', 'ronald', 'reagan', '.', 'grew', 'poor', 'family', 'share', 'bedroom', 'bathroom', 'older', 'brother', 'two', 'older', 'sisters', '.', 'started', 'playing', 'soccer', 'early', 'age', 'eight', '.', 'always', 'running', 'away', 'homework', '.', 'nicknamed', '‘', 'cry', 'baby', '’', 'felt', 'bad', 'used', 'pass', 'ball', 'friends', '’', 'score', '.', 'popular', 'student', 'school', ',', 'ronaldo', 'expelled', 'age', '14', 'throwing', 'chair', 'teacher', 'ronaldo', 'thought', 'disrespected', '.', 'turned', 'entire', 'attention', 'soccer', 'went', 'become', 'world', '’', 'greatest', 'soccer', 'player', '.', 'age', '15', 'ronaldo', 'diagnosed', '‘', 'racing', 'heart', '’', '.', 'condition', 'serious', 'would', 'made', 'let', 'go', 'football', '.', 'surgery', 'saved', 'went', 'back', 'training', '.']\n"
          ]
        }
      ]
    },
    {
      "cell_type": "code",
      "source": [
        "from wordcloud import WordCloud\n",
        "import matplotlib.pyplot as plt"
      ],
      "metadata": {
        "id": "5Xm49KP7iO2D"
      },
      "execution_count": null,
      "outputs": []
    },
    {
      "cell_type": "code",
      "source": [
        "all_words=' '.join([t for t in stopwords])\n",
        "wordcloud=WordCloud(width=800,height=500,random_state=21,max_font_size=110).generate(all_words)\n",
        "plt.figure(figsize=(12,8))\n",
        "plt.imshow(wordcloud,interpolation=\"bilinear\")\n",
        "plt.axis('off')\n",
        "plt.show()"
      ],
      "metadata": {
        "colab": {
          "base_uri": "https://localhost:8080/",
          "height": 449
        },
        "id": "FdJ9GdXIihps",
        "outputId": "a2677f9e-220f-4c83-97ce-7674cf213336"
      },
      "execution_count": null,
      "outputs": [
        {
          "output_type": "display_data",
          "data": {
            "text/plain": [
              "<Figure size 864x576 with 1 Axes>"
            ],
            "image/png": "[encoded data removed]"
          },
          "metadata": {
            "needs_background": "light"
          }
        }
      ]
    },
    {
      "cell_type": "markdown",
      "source": [
        "POS Tagging"
      ],
      "metadata": {
        "id": "sbQdlFGVkyp_"
      }
    },
    {
      "cell_type": "code",
      "source": [
        "nltk.download('averaged_perceptron_tagger')"
      ],
      "metadata": {
        "colab": {
          "base_uri": "https://localhost:8080/"
        },
        "id": "gN3yKUEdkQVF",
        "outputId": "07667280-5f8e-444d-bf56-b74919a3a84c"
      },
      "execution_count": null,
      "outputs": [
        {
          "output_type": "stream",
          "name": "stdout",
          "text": [
            "[nltk_data] Downloading package averaged_perceptron_tagger to\n",
            "[nltk_data]     /root/nltk_data...\n",
            "[nltk_data]   Package averaged_perceptron_tagger is already up-to-\n",
            "[nltk_data]       date!\n"
          ]
        },
        {
          "output_type": "execute_result",
          "data": {
            "text/plain": [
              "True"
            ]
          },
          "metadata": {},
          "execution_count": 250
        }
      ]
    },
    {
      "cell_type": "code",
      "source": [
        "for token in text1:\n",
        "  print(nltk.pos_tag([token]))"
      ],
      "metadata": {
        "colab": {
          "base_uri": "https://localhost:8080/"
        },
        "id": "VNDA-J9dlAud",
        "outputId": "87f6197e-3d14-444a-c0da-e6189006ba1c"
      },
      "execution_count": null,
      "outputs": [
        {
          "output_type": "stream",
          "name": "stdout",
          "text": [
            "[('the', 'DT')]\n",
            "[('lawyers', 'NNS')]\n",
            "[('representing', 'VBG')]\n",
            "[('the', 'DT')]\n",
            "[('hindu', 'NN')]\n",
            "[('devotees', 'NNS')]\n",
            "[('yesterday', 'NN')]\n",
            "[('urged', 'VBD')]\n",
            "[('the', 'DT')]\n",
            "[('supreme', 'NN')]\n",
            "[('court', 'NN')]\n",
            "[('to', 'TO')]\n",
            "[('dismiss', 'NN')]\n",
            "[('the', 'DT')]\n",
            "[('petition', 'NN')]\n",
            "[('filed', 'VBN')]\n",
            "[('by', 'IN')]\n",
            "[('the', 'DT')]\n",
            "[('varanasi', 'NN')]\n",
            "[(\"'s\", 'POS')]\n",
            "[('gyanvapi', 'NN')]\n",
            "[('mosque', 'NN')]\n",
            "[('committee', 'NN')]\n",
            "[(',', ',')]\n",
            "[('challenging', 'VBG')]\n",
            "[('the', 'DT')]\n",
            "[('filming', 'VBG')]\n",
            "[('inside', 'IN')]\n",
            "[('the', 'DT')]\n",
            "[('mosque', 'NN')]\n",
            "[('.', '.')]\n",
            "[('the', 'DT')]\n",
            "[('supreme', 'NN')]\n",
            "[('court', 'NN')]\n",
            "[('had', 'VBD')]\n",
            "[('earlier', 'RBR')]\n",
            "[('issued', 'VBN')]\n",
            "[('a', 'DT')]\n",
            "[('notice', 'NN')]\n",
            "[('to', 'TO')]\n",
            "[('the', 'DT')]\n",
            "[('hindu', 'NN')]\n",
            "[('side', 'NN')]\n",
            "[('and', 'CC')]\n",
            "[('the', 'DT')]\n",
            "[('uttar', 'NN')]\n",
            "[('pradesh', 'NN')]\n",
            "[('government', 'NN')]\n",
            "[('on', 'IN')]\n",
            "[('the', 'DT')]\n",
            "[('plea', 'NN')]\n",
            "[('filed', 'VBN')]\n",
            "[('by', 'IN')]\n",
            "[('the', 'DT')]\n",
            "[('mosque', 'NN')]\n",
            "[('committee', 'NN')]\n",
            "[(',', ',')]\n",
            "[('which', 'WDT')]\n",
            "[('also', 'RB')]\n",
            "[('accused', 'VBN')]\n",
            "[('the', 'DT')]\n",
            "[('varanasi', 'NN')]\n",
            "[('court-appointed', 'JJ')]\n",
            "[('commissioner', 'NN')]\n",
            "[('of', 'IN')]\n",
            "[('partiality', 'NN')]\n",
            "[('.', '.')]\n",
            "[('rajinikanth', 'NN')]\n",
            "[('’', 'NN')]\n",
            "[('s', 'NN')]\n",
            "[('‘', 'NN')]\n",
            "[('chandramukhi', 'NN')]\n",
            "[('’', 'NN')]\n",
            "[('was', 'VBD')]\n",
            "[('one', 'CD')]\n",
            "[('of', 'IN')]\n",
            "[('his', 'PRP$')]\n",
            "[('best', 'JJS')]\n",
            "[('and', 'CC')]\n",
            "[('the', 'DT')]\n",
            "[('film', 'NN')]\n",
            "[('ran', 'NN')]\n",
            "[('in', 'IN')]\n",
            "[('theatres', 'NNS')]\n",
            "[('for', 'IN')]\n",
            "[('more', 'RBR')]\n",
            "[('than', 'IN')]\n",
            "[('2.5', 'CD')]\n",
            "[('years', 'NNS')]\n",
            "[('(', '(')]\n",
            "[('800', 'CD')]\n",
            "[('and', 'CC')]\n",
            "[('odd', 'NN')]\n",
            "[('days', 'NNS')]\n",
            "[(')', ')')]\n",
            "[('when', 'WRB')]\n",
            "[('it', 'PRP')]\n",
            "[('was', 'VBD')]\n",
            "[('released', 'VBN')]\n",
            "[('in', 'IN')]\n",
            "[('2005.', 'CD')]\n",
            "[('directed', 'VBN')]\n",
            "[('by', 'IN')]\n",
            "[('p', 'NN')]\n",
            "[('vasu', 'NN')]\n",
            "[(',', ',')]\n",
            "[('the', 'DT')]\n",
            "[('film', 'NN')]\n",
            "[('is', 'VBZ')]\n",
            "[('a', 'DT')]\n",
            "[('remake', 'NN')]\n",
            "[('of', 'IN')]\n",
            "[('a', 'DT')]\n",
            "[('malayalam', 'NN')]\n",
            "[('film', 'NN')]\n",
            "[('.', '.')]\n",
            "[('the', 'DT')]\n",
            "[('film', 'NN')]\n",
            "[('was', 'VBD')]\n",
            "[('a', 'DT')]\n",
            "[('blockbuster', 'NN')]\n",
            "[('hit', 'NN')]\n",
            "[('and', 'CC')]\n",
            "[('it', 'PRP')]\n",
            "[('featured', 'VBN')]\n",
            "[('rajinikanth', 'NN')]\n",
            "[(',', ',')]\n",
            "[('prabhu', 'NN')]\n",
            "[(',', ',')]\n",
            "[('jyothika', 'NN')]\n",
            "[(',', ',')]\n",
            "[('nayanthara', 'NN')]\n",
            "[(',', ',')]\n",
            "[('nasser', 'NN')]\n",
            "[(',', ',')]\n",
            "[('malavika', 'NN')]\n",
            "[(',', ',')]\n",
            "[('vadivelu', 'NN')]\n",
            "[('among', 'IN')]\n",
            "[('others', 'NNS')]\n",
            "[('.', '.')]\n",
            "[('the', 'DT')]\n",
            "[('film', 'NN')]\n",
            "[('won', 'NN')]\n",
            "[('many', 'JJ')]\n",
            "[('state', 'NN')]\n",
            "[('awards', 'NNS')]\n",
            "[('as', 'IN')]\n",
            "[('well', 'RB')]\n",
            "[('.', '.')]\n",
            "[('rajaram', 'NN')]\n",
            "[('singh', 'NN')]\n",
            "[('was', 'VBD')]\n",
            "[('came', 'VBD')]\n",
            "[('to', 'TO')]\n",
            "[('karur', 'NN')]\n",
            "[(',', ',')]\n",
            "[('because', 'IN')]\n",
            "[('he', 'PRP')]\n",
            "[('is', 'VBZ')]\n",
            "[('an', 'DT')]\n",
            "[('ias', 'NN')]\n",
            "[('officier.ronaldo', 'NN')]\n",
            "[('was', 'VBD')]\n",
            "[('born', 'NN')]\n",
            "[('on', 'IN')]\n",
            "[('february', 'JJ')]\n",
            "[('5', 'CD')]\n",
            "[(',', ',')]\n",
            "[('1985', 'CD')]\n",
            "[('and', 'CC')]\n",
            "[('was', 'VBD')]\n",
            "[('named', 'VBN')]\n",
            "[('ronaldo', 'NN')]\n",
            "[('after', 'IN')]\n",
            "[('the', 'DT')]\n",
            "[('then', 'RB')]\n",
            "[('us', 'PRP')]\n",
            "[('president', 'NN')]\n",
            "[('ronald', 'NN')]\n",
            "[('reagan', 'NN')]\n",
            "[('.', '.')]\n",
            "[('he', 'PRP')]\n",
            "[('grew', 'VBD')]\n",
            "[('up', 'RB')]\n",
            "[('in', 'IN')]\n",
            "[('a', 'DT')]\n",
            "[('poor', 'JJ')]\n",
            "[('family', 'NN')]\n",
            "[('and', 'CC')]\n",
            "[('had', 'VBD')]\n",
            "[('to', 'TO')]\n",
            "[('share', 'NN')]\n",
            "[('a', 'DT')]\n",
            "[('bedroom', 'NN')]\n",
            "[('and', 'CC')]\n",
            "[('bathroom', 'NN')]\n",
            "[('with', 'IN')]\n",
            "[('his', 'PRP$')]\n",
            "[('older', 'JJR')]\n",
            "[('brother', 'NN')]\n",
            "[('and', 'CC')]\n",
            "[('two', 'CD')]\n",
            "[('older', 'JJR')]\n",
            "[('sisters', 'NNS')]\n",
            "[('.', '.')]\n",
            "[('he', 'PRP')]\n",
            "[('started', 'VBN')]\n",
            "[('playing', 'VBG')]\n",
            "[('soccer', 'NN')]\n",
            "[('at', 'IN')]\n",
            "[('an', 'DT')]\n",
            "[('early', 'RB')]\n",
            "[('age', 'NN')]\n",
            "[('when', 'WRB')]\n",
            "[('he', 'PRP')]\n",
            "[('was', 'VBD')]\n",
            "[('just', 'RB')]\n",
            "[('eight', 'CD')]\n",
            "[('.', '.')]\n",
            "[('he', 'PRP')]\n",
            "[('was', 'VBD')]\n",
            "[('always', 'RB')]\n",
            "[('running', 'VBG')]\n",
            "[('away', 'RB')]\n",
            "[('from', 'IN')]\n",
            "[('doing', 'VBG')]\n",
            "[('homework', 'NN')]\n",
            "[('.', '.')]\n",
            "[('he', 'PRP')]\n",
            "[('was', 'VBD')]\n",
            "[('nicknamed', 'VBN')]\n",
            "[('‘', 'NN')]\n",
            "[('cry', 'NN')]\n",
            "[('baby', 'NN')]\n",
            "[('’', 'NN')]\n",
            "[('because', 'IN')]\n",
            "[('he', 'PRP')]\n",
            "[('felt', 'NN')]\n",
            "[('bad', 'JJ')]\n",
            "[('when', 'WRB')]\n",
            "[('he', 'PRP')]\n",
            "[('used', 'VBN')]\n",
            "[('to', 'TO')]\n",
            "[('pass', 'NN')]\n",
            "[('the', 'DT')]\n",
            "[('ball', 'NN')]\n",
            "[('to', 'TO')]\n",
            "[('his', 'PRP$')]\n",
            "[('friends', 'NNS')]\n",
            "[('and', 'CC')]\n",
            "[('they', 'PRP')]\n",
            "[('couldn', 'NN')]\n",
            "[('’', 'NN')]\n",
            "[('t', 'NN')]\n",
            "[('score', 'NN')]\n",
            "[('.', '.')]\n",
            "[('a', 'DT')]\n",
            "[('very', 'RB')]\n",
            "[('popular', 'JJ')]\n",
            "[('student', 'NN')]\n",
            "[('in', 'IN')]\n",
            "[('school', 'NN')]\n",
            "[(',', ',')]\n",
            "[('ronaldo', 'NN')]\n",
            "[('was', 'VBD')]\n",
            "[('expelled', 'VBN')]\n",
            "[('at', 'IN')]\n",
            "[('the', 'DT')]\n",
            "[('age', 'NN')]\n",
            "[('of', 'IN')]\n",
            "[('14', 'CD')]\n",
            "[('for', 'IN')]\n",
            "[('throwing', 'VBG')]\n",
            "[('a', 'DT')]\n",
            "[('chair', 'NN')]\n",
            "[('at', 'IN')]\n",
            "[('his', 'PRP$')]\n",
            "[('teacher', 'NN')]\n",
            "[('who', 'WP')]\n",
            "[('ronaldo', 'NN')]\n",
            "[('thought', 'NN')]\n",
            "[('disrespected', 'VBN')]\n",
            "[('him', 'PRP')]\n",
            "[('.', '.')]\n",
            "[('he', 'PRP')]\n",
            "[('then', 'RB')]\n",
            "[('turned', 'VBD')]\n",
            "[('his', 'PRP$')]\n",
            "[('entire', 'JJ')]\n",
            "[('attention', 'NN')]\n",
            "[('to', 'TO')]\n",
            "[('soccer', 'NN')]\n",
            "[('and', 'CC')]\n",
            "[('went', 'VBD')]\n",
            "[('on', 'IN')]\n",
            "[('to', 'TO')]\n",
            "[('become', 'NN')]\n",
            "[('the', 'DT')]\n",
            "[('world', 'NN')]\n",
            "[('’', 'NN')]\n",
            "[('s', 'NN')]\n",
            "[('greatest', 'JJS')]\n",
            "[('soccer', 'NN')]\n",
            "[('player', 'NN')]\n",
            "[('.', '.')]\n",
            "[('but', 'CC')]\n",
            "[('at', 'IN')]\n",
            "[('the', 'DT')]\n",
            "[('age', 'NN')]\n",
            "[('of', 'IN')]\n",
            "[('15', 'CD')]\n",
            "[('ronaldo', 'NN')]\n",
            "[('was', 'VBD')]\n",
            "[('diagnosed', 'VBN')]\n",
            "[('with', 'IN')]\n",
            "[('‘', 'NN')]\n",
            "[('racing', 'VBG')]\n",
            "[('heart', 'NN')]\n",
            "[('’', 'NN')]\n",
            "[('.', '.')]\n",
            "[('his', 'PRP$')]\n",
            "[('condition', 'NN')]\n",
            "[('was', 'VBD')]\n",
            "[('serious', 'JJ')]\n",
            "[('and', 'CC')]\n",
            "[('would', 'MD')]\n",
            "[('have', 'VB')]\n",
            "[('made', 'VBN')]\n",
            "[('him', 'PRP')]\n",
            "[('let', 'VB')]\n",
            "[('go', 'VB')]\n",
            "[('of', 'IN')]\n",
            "[('football', 'NN')]\n",
            "[('.', '.')]\n",
            "[('but', 'CC')]\n",
            "[('a', 'DT')]\n",
            "[('surgery', 'NN')]\n",
            "[('saved', 'VBN')]\n",
            "[('him', 'PRP')]\n",
            "[('and', 'CC')]\n",
            "[('he', 'PRP')]\n",
            "[('went', 'VBD')]\n",
            "[('back', 'RB')]\n",
            "[('for', 'IN')]\n",
            "[('his', 'PRP$')]\n",
            "[('training', 'NN')]\n",
            "[('.', '.')]\n"
          ]
        }
      ]
    },
    {
      "cell_type": "markdown",
      "source": [
        "TF-IDf\n",
        "\n"
      ],
      "metadata": {
        "id": "kdLrbZQ_oVYS"
      }
    },
    {
      "cell_type": "code",
      "source": [
        "from sklearn.feature_extraction.text import TfidfVectorizer"
      ],
      "metadata": {
        "id": "_JM9Oe-NlmuS"
      },
      "execution_count": null,
      "outputs": []
    },
    {
      "cell_type": "code",
      "source": [
        "vectorizer=TfidfVectorizer()"
      ],
      "metadata": {
        "id": "M3qPPZjGpDIX"
      },
      "execution_count": null,
      "outputs": []
    },
    {
      "cell_type": "code",
      "source": [
        "x=vectorizer.fit_transform(stopwords)"
      ],
      "metadata": {
        "id": "8wYZkM-xpKYJ"
      },
      "execution_count": null,
      "outputs": []
    },
    {
      "cell_type": "code",
      "source": [
        "print(vectorizer.get_feature_names())"
      ],
      "metadata": {
        "colab": {
          "base_uri": "https://localhost:8080/"
        },
        "id": "9sr5J2yJqq74",
        "outputId": "3000ef1c-0879-4c36-f12d-8ff80c7251c5"
      },
      "execution_count": null,
      "outputs": [
        {
          "output_type": "stream",
          "name": "stdout",
          "text": [
            "['14', '15', '1985', '2005', '800', 'accused', 'age', 'also', 'always', 'among', 'appointed', 'attention', 'awards', 'away', 'baby', 'back', 'bad', 'ball', 'bathroom', 'become', 'bedroom', 'best', 'blockbuster', 'born', 'brother', 'came', 'chair', 'challenging', 'chandramukhi', 'commissioner', 'committee', 'condition', 'court', 'cry', 'days', 'devotees', 'diagnosed', 'directed', 'dismiss', 'disrespected', 'earlier', 'early', 'eight', 'entire', 'expelled', 'family', 'featured', 'february', 'felt', 'filed', 'film', 'filming', 'football', 'friends', 'go', 'government', 'greatest', 'grew', 'gyanvapi', 'heart', 'hindu', 'hit', 'homework', 'ias', 'inside', 'issued', 'jyothika', 'karur', 'lawyers', 'let', 'made', 'malavika', 'malayalam', 'many', 'mosque', 'named', 'nasser', 'nayanthara', 'nicknamed', 'notice', 'odd', 'officier', 'older', 'one', 'others', 'partiality', 'pass', 'petition', 'player', 'playing', 'plea', 'poor', 'popular', 'prabhu', 'pradesh', 'president', 'racing', 'rajaram', 'rajinikanth', 'ran', 'reagan', 'released', 'remake', 'representing', 'ronald', 'ronaldo', 'running', 'saved', 'school', 'score', 'serious', 'share', 'side', 'singh', 'sisters', 'soccer', 'started', 'state', 'student', 'supreme', 'surgery', 'teacher', 'theatres', 'thought', 'throwing', 'training', 'turned', 'two', 'urged', 'us', 'used', 'uttar', 'vadivelu', 'varanasi', 'vasu', 'well', 'went', 'world', 'would', 'years', 'yesterday']\n"
          ]
        },
        {
          "output_type": "stream",
          "name": "stderr",
          "text": [
            "/usr/local/lib/python3.7/dist-packages/sklearn/utils/deprecation.py:87: FutureWarning: Function get_feature_names is deprecated; get_feature_names is deprecated in 1.0 and will be removed in 1.2. Please use get_feature_names_out instead.\n",
            "  warnings.warn(msg, category=FutureWarning)\n"
          ]
        }
      ]
    },
    {
      "cell_type": "markdown",
      "source": [
        "COUNTER"
      ],
      "metadata": {
        "id": "hfZdgiWJsVkd"
      }
    },
    {
      "cell_type": "code",
      "source": [
        "from collections import Counter\n",
        "Counter=Counter(stopwords)\n",
        "most_occur=Counter.most_common(10)\n",
        "most_occur"
      ],
      "metadata": {
        "colab": {
          "base_uri": "https://localhost:8080/"
        },
        "id": "gvNAzXKlr3YH",
        "outputId": "75520723-e735-4b95-8e33-e6c557662d5d"
      },
      "execution_count": null,
      "outputs": [
        {
          "output_type": "execute_result",
          "data": {
            "text/plain": [
              "[('.', 15),\n",
              " (',', 12),\n",
              " ('’', 6),\n",
              " ('film', 5),\n",
              " ('ronaldo', 4),\n",
              " ('mosque', 3),\n",
              " ('‘', 3),\n",
              " ('soccer', 3),\n",
              " ('age', 3),\n",
              " ('hindu', 2)]"
            ]
          },
          "metadata": {},
          "execution_count": 256
        }
      ]
    },
    {
      "cell_type": "markdown",
      "source": [
        "Named Entity Recogniton (Chunking)"
      ],
      "metadata": {
        "id": "ocTPLoAcs1V2"
      }
    },
    {
      "cell_type": "code",
      "source": [
        "from nltk import ne_chunk\n",
        "tags=nltk.pos_tag(token)\n"
      ],
      "metadata": {
        "id": "vIbX36FRssne"
      },
      "execution_count": null,
      "outputs": []
    },
    {
      "cell_type": "code",
      "source": [
        "nltk.download('maxent_ne_chunker')\n",
        "nltk.download('words')"
      ],
      "metadata": {
        "colab": {
          "base_uri": "https://localhost:8080/"
        },
        "id": "6-OsT8netbQk",
        "outputId": "052d4ffd-2db1-48b6-d06a-c10085f127da"
      },
      "execution_count": null,
      "outputs": [
        {
          "output_type": "stream",
          "name": "stdout",
          "text": [
            "[nltk_data] Downloading package maxent_ne_chunker to\n",
            "[nltk_data]     /root/nltk_data...\n",
            "[nltk_data]   Package maxent_ne_chunker is already up-to-date!\n",
            "[nltk_data] Downloading package words to /root/nltk_data...\n",
            "[nltk_data]   Package words is already up-to-date!\n"
          ]
        },
        {
          "output_type": "execute_result",
          "data": {
            "text/plain": [
              "True"
            ]
          },
          "metadata": {},
          "execution_count": 258
        }
      ]
    },
    {
      "cell_type": "code",
      "source": [
        "chunk=ne_chunk(tags)"
      ],
      "metadata": {
        "id": "V5jVB-vGtm6i"
      },
      "execution_count": null,
      "outputs": []
    },
    {
      "cell_type": "code",
      "source": [
        "print(chunk)"
      ],
      "metadata": {
        "colab": {
          "base_uri": "https://localhost:8080/"
        },
        "id": "OqBwUYYKwR7O",
        "outputId": "78570035-919f-4ee0-bdc8-576e67efae8a"
      },
      "execution_count": null,
      "outputs": [
        {
          "output_type": "stream",
          "name": "stdout",
          "text": [
            "(S ./.)\n"
          ]
        }
      ]
    },
    {
      "cell_type": "markdown",
      "source": [
        "NER TAGS"
      ],
      "metadata": {
        "id": "jQ6-Y1vguRVc"
      }
    },
    {
      "cell_type": "code",
      "source": [
        "print(chunk)"
      ],
      "metadata": {
        "colab": {
          "base_uri": "https://localhost:8080/"
        },
        "id": "Zg-QP84_uTSi",
        "outputId": "c6038e03-e1c6-4cc0-90bb-53a6fb620fde"
      },
      "execution_count": null,
      "outputs": [
        {
          "output_type": "stream",
          "name": "stdout",
          "text": [
            "(S ./.)\n"
          ]
        }
      ]
    },
    {
      "cell_type": "code",
      "source": [
        ""
      ],
      "metadata": {
        "id": "I4ZJ80scuX3f"
      },
      "execution_count": null,
      "outputs": []
    }
  ]
}