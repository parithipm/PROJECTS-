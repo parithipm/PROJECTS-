{
  "nbformat": 4,
  "nbformat_minor": 0,
  "metadata": {
    "colab": {
      "name": "28/3/22",
      "provenance": [],
      "collapsed_sections": []
    },
    "kernelspec": {
      "name": "python3",
      "display_name": "Python 3"
    },
    "language_info": {
      "name": "python"
    }
  },
  "cells": [
    {
      "cell_type": "code",
      "execution_count": null,
      "metadata": {
        "colab": {
          "base_uri": "https://localhost:8080/"
        },
        "id": "-Mg9YLhPhkn0",
        "outputId": "03c0a006-1170-49bb-bf42-f9dee1efd4d3"
      },
      "outputs": [
        {
          "output_type": "stream",
          "name": "stdout",
          "text": [
            "Original array:\n",
            " [[1 3 5 7]\n",
            " [2 4 6 8]]\n",
            "Flattened array:\n",
            " [1 3 5 7 2 4 6 8]\n"
          ]
        }
      ],
      "source": [
        "#create 2D array\n",
        "import numpy as np\n",
        "num_array=np.array([[1,3,5,7],[2,4,6,8]])\n",
        "print('Original array:\\n',num_array)\n",
        "\n",
        "#flatten the array into 10\n",
        "print('Flattened array:\\n',np.ndarray.flatten(num_array))"
      ]
    },
    {
      "cell_type": "code",
      "source": [
        "#iteration through one dimenson array\n",
        "#create an array of books\n",
        "books=np.array([\"Data Science with python\",\"Machines are Learning\",\"DIY-Deep Learning\"])\n",
        "#print the dimension of the array\n",
        "print(\"The array 'books' is\",books.ndim,\"dimensional array\\n\")\n",
        "#print each element of the array\n",
        "for i in books:\n",
        "  print(i)"
      ],
      "metadata": {
        "colab": {
          "base_uri": "https://localhost:8080/"
        },
        "id": "EcBLIuOpvEkj",
        "outputId": "8f82bafc-18ae-441b-ad39-38c8813713d7"
      },
      "execution_count": null,
      "outputs": [
        {
          "output_type": "stream",
          "name": "stdout",
          "text": [
            "The array 'books' is 1 dimensional array\n",
            "\n",
            "Data Science with python\n",
            "Machines are Learning\n",
            "DIY-Deep Learning\n"
          ]
        }
      ]
    },
    {
      "cell_type": "code",
      "source": [
        "#iteration through 2D array\n",
        "#create an array of books\n",
        "books=np.array([[\"Data science with python\",\"Machines are Learning\",\"DIY-Deep Learning\"]])\n",
        "#print the dimension of the array\n",
        "print(\"The array 'books' is\",books.ndim,\"dimensional array\\n\")\n",
        "#print each element of the array\n",
        "for i in books:\n",
        "  print(i)"
      ],
      "metadata": {
        "colab": {
          "base_uri": "https://localhost:8080/"
        },
        "id": "ZTGHpcbRwmY9",
        "outputId": "91f9c3fc-69e4-4bcd-b637-b757e6ae070b"
      },
      "execution_count": null,
      "outputs": [
        {
          "output_type": "stream",
          "name": "stdout",
          "text": [
            "The array 'books' is 2 dimensional array\n",
            "\n",
            "['Data science with python' 'Machines are Learning' 'DIY-Deep Learning']\n"
          ]
        }
      ]
    },
    {
      "cell_type": "code",
      "source": [
        "#iteration through 2D array #to print a value in one by one order\n",
        "#create an array of books\n",
        "books=np.array([[\"Data science with python\",\"Machines are Learning\",\"DIY-Deep Learning\"],[25,55.5,40]])\n",
        "#print the dimension of the array\n",
        "print(\"The array 'books' is\",books.ndim,\"dimensional array\\n\")\n",
        "#print each element of the array\n",
        "for i in books:\n",
        "  for j in i:\n",
        "     print(j)"
      ],
      "metadata": {
        "colab": {
          "base_uri": "https://localhost:8080/"
        },
        "id": "HeoF2DKExSL1",
        "outputId": "170a6073-9558-44f6-a118-3403fe401b4f"
      },
      "execution_count": null,
      "outputs": [
        {
          "output_type": "stream",
          "name": "stdout",
          "text": [
            "The array 'books' is 2 dimensional array\n",
            "\n",
            "Data science with python\n",
            "Machines are Learning\n",
            "DIY-Deep Learning\n",
            "25\n",
            "55.5\n",
            "40\n"
          ]
        }
      ]
    },
    {
      "cell_type": "code",
      "source": [
        "#create a array\n",
        "import numpy as np\n",
        "num_array1 numpy. arange(size)\n",
        "num_array2 numpy.arange (size)\n",
        "# NumPy array\n",
        "initialTime time.time()\n",
        "resultant_array num_array1 num_array2\n",
        "# calculate execution time\n",
        "print(\"Time taken by arrays:\",\n",
        "    (time.time() initialTime), \n",
        "    \"seconds\")"
      ],
      "metadata": {
        "colab": {
          "base_uri": "https://localhost:8080/",
          "height": 135
        },
        "id": "kFwzFJWnzrtp",
        "outputId": "c254da58-4bbb-444a-c34b-ec84069b4a6d"
      },
      "execution_count": null,
      "outputs": [
        {
          "output_type": "error",
          "ename": "SyntaxError",
          "evalue": "ignored",
          "traceback": [
            "\u001b[0;36m  File \u001b[0;32m\"<ipython-input-10-9e379641056f>\"\u001b[0;36m, line \u001b[0;32m3\u001b[0m\n\u001b[0;31m    num_array1 numpy. arange(size)\u001b[0m\n\u001b[0m                   ^\u001b[0m\n\u001b[0;31mSyntaxError\u001b[0m\u001b[0;31m:\u001b[0m invalid syntax\n"
          ]
        }
      ]
    },
    {
      "cell_type": "code",
      "source": [
        "import numpy as np  #program to identify the average of temp in am,pm and day wise example1\n",
        "import time\n",
        "a=np.array([28,28,28,29,28,29,29])\n",
        "b=np.array([36,36,36,36,37,37,37])\n",
        "print(\"Temp at 9am:\\n\",a)\n",
        "print(\"Temp at 6pm:\\n\",a)\n",
        "init_time=time.time()\n",
        "print(\"Mean temp at 9 am:\",np.mean(a))\n",
        "print(\"Mean temp at 6pm:\",np.mean(b))\n",
        "print(\"Mean temp of day 1-7:\",(a+b)/2)\n",
        "#Calculate execution time\n",
        "print(\"Time taken by lists :\",(time.time()-init_time),\"Seconds\")"
      ],
      "metadata": {
        "colab": {
          "base_uri": "https://localhost:8080/"
        },
        "id": "9-zJb7IH72Qc",
        "outputId": "9226ffa2-522a-4359-d7d7-8ce1e5e73fdf"
      },
      "execution_count": null,
      "outputs": [
        {
          "output_type": "stream",
          "name": "stdout",
          "text": [
            "Temp at 9am:\n",
            " [28 28 28 29 28 29 29]\n",
            "Temp at 6pm:\n",
            " [28 28 28 29 28 29 29]\n",
            "Mean temp at 9 am: 28.428571428571427\n",
            "Mean temp at 6pm: 36.42857142857143\n",
            "Mean temp of day 1-7: [32.  32.  32.  32.5 32.5 33.  33. ]\n",
            "Time taken by lists : 0.002386808395385742 Seconds\n"
          ]
        }
      ]
    },
    {
      "cell_type": "code",
      "source": [
        "import numpy as np #program to identify the average of temp in am,pm and day wise example2\n",
        "a=np.array([[32,32,32,31,31,31,31],[36,36,36,36,36,36,35]])\n",
        "init_time=time.time() #Calculate time at that moment\n",
        "print(\"Actual Array:\\n\",a)\n",
        "print(\"Mean temp at 9 am and 6pm\",np.mean(a,1))\n",
        "print(\"Mean temp of day 1-7\",np.mean(a,0))\n",
        "#Calculate execution time\n",
        "print(\"Time taken by Array :\",(time.time()-init_time),\"Seconds\") #aftr calc time - that init tym stored"
      ],
      "metadata": {
        "colab": {
          "base_uri": "https://localhost:8080/"
        },
        "id": "cfg33NYU9-gg",
        "outputId": "4b0f04a9-f07a-4b92-d3f5-e1a0e782f985"
      },
      "execution_count": null,
      "outputs": [
        {
          "output_type": "stream",
          "name": "stdout",
          "text": [
            "Actual Array:\n",
            " [[32 32 32 31 31 31 31]\n",
            " [36 36 36 36 36 36 35]]\n",
            "Mean temp at 9 am and 6pm [31.42857143 35.85714286]\n",
            "Mean temp of day 1-7 [34.  34.  34.  33.5 33.5 33.5 33. ]\n",
            "Time taken by Array : 0.0029277801513671875 Seconds\n"
          ]
        }
      ]
    },
    {
      "cell_type": "code",
      "source": [
        "#add 2 usng function\n",
        "def addition(num1,num2):\n",
        "  add=num1+num2\n",
        "  return(add)\n"
      ],
      "metadata": {
        "id": "xRR9kzwrK3MU"
      },
      "execution_count": null,
      "outputs": []
    },
    {
      "cell_type": "code",
      "source": [
        "#import reduce function from the functools library\n",
        "from functools import reduce\n",
        "num_list=[1,2,3,4,5,6,7,8,9,10]\n",
        "#the following function prints factorial of 5\n",
        "reduce(lambda a,b: a*b,num_list)"
      ],
      "metadata": {
        "colab": {
          "base_uri": "https://localhost:8080/"
        },
        "id": "QcmPzE2pMpuF",
        "outputId": "bc0ec216-df45-43e9-91ce-57da8a037e4d"
      },
      "execution_count": null,
      "outputs": [
        {
          "output_type": "execute_result",
          "data": {
            "text/plain": [
              "3628800"
            ]
          },
          "metadata": {},
          "execution_count": 25
        }
      ]
    },
    {
      "cell_type": "code",
      "source": [
        "#determining the minimum of a numeric tuple using reduce\n",
        "from functools import reduce #import reduce function from the functools library\n",
        "num_tup=(0,-8,55,-100,1000,33) #create a numeric tuple\n",
        "reduce(lambda x,y: x if (x<y) else y, num_tup) #the following function prints the maximum value from the iterable passed"
      ],
      "metadata": {
        "id": "Uc80QGZIVk31"
      },
      "execution_count": null,
      "outputs": []
    },
    {
      "cell_type": "code",
      "source": [
        "import numpy as np\n",
        "array_example=np.array([[[0,1,2,3],\n",
        "                         [4,5,6,7]],\n",
        "                         [[0,1,2,3],\n",
        "                         [4,5,6,7]],\n",
        "                         [[0,1,2,3],\n",
        "                         [5,5,6,7]]])\n",
        "print(array_example)\n"
      ],
      "metadata": {
        "id": "2XO3EK7FaJrf",
        "colab": {
          "base_uri": "https://localhost:8080/"
        },
        "outputId": "bab85872-cde1-44bf-b73b-0ac55de14eb1"
      },
      "execution_count": null,
      "outputs": [
        {
          "output_type": "stream",
          "name": "stdout",
          "text": [
            "[[[0 1 2 3]\n",
            "  [4 5 6 7]]\n",
            "\n",
            " [[0 1 2 3]\n",
            "  [4 5 6 7]]\n",
            "\n",
            " [[0 1 2 3]\n",
            "  [5 5 6 7]]]\n"
          ]
        }
      ]
    },
    {
      "cell_type": "code",
      "source": [
        "import numpy as np\n",
        "array_example=np.array([[[0,1],[4,5]],[[0,1],[4,5]],[[0,1],[4,5]]])\n",
        "print(array_example)"
      ],
      "metadata": {
        "colab": {
          "base_uri": "https://localhost:8080/"
        },
        "id": "RV6raZTpieGQ",
        "outputId": "f42c0281-3641-4884-bc09-8035f961e304"
      },
      "execution_count": null,
      "outputs": [
        {
          "output_type": "stream",
          "name": "stdout",
          "text": [
            "[[[0 1]\n",
            "  [4 5]]\n",
            "\n",
            " [[0 1]\n",
            "  [4 5]]\n",
            "\n",
            " [[0 1]\n",
            "  [4 5]]]\n"
          ]
        }
      ]
    },
    {
      "cell_type": "code",
      "source": [
        "import numpy as np\n",
        "a=np.array([[[0,1],[4,5]],[[2,4],[6,8]],[[3,5],[2,1]]])\n",
        "print(\"the Mean is:\",np.mean(a,1))\n"
      ],
      "metadata": {
        "colab": {
          "base_uri": "https://localhost:8080/"
        },
        "id": "XnHMj_QTmwdB",
        "outputId": "41f184bc-b58e-43a2-a4a9-7b48f411869f"
      },
      "execution_count": null,
      "outputs": [
        {
          "output_type": "stream",
          "name": "stdout",
          "text": [
            "the Mean is: [[2.  3. ]\n",
            " [4.  6. ]\n",
            " [2.5 3. ]]\n"
          ]
        }
      ]
    },
    {
      "cell_type": "code",
      "source": [
        "print('size:',array_example.size)\n",
        "print('Dimension:',array_example.ndim)\n",
        "#print(array_example)\n",
        "print('0',np.mean(array_example,0))\n",
        "#print('1',np.mean(array_example,1))\n",
        "#print('2',np.mean(array_example,2))"
      ],
      "metadata": {
        "colab": {
          "base_uri": "https://localhost:8080/"
        },
        "id": "32hf6_cMj3w1",
        "outputId": "8605b2c9-d087-43a9-fe6e-5c2d23bddc97"
      },
      "execution_count": null,
      "outputs": [
        {
          "output_type": "stream",
          "name": "stdout",
          "text": [
            "size: 12\n",
            "Dimension: 3\n",
            "0 [[0. 1.]\n",
            " [4. 5.]]\n"
          ]
        }
      ]
    },
    {
      "cell_type": "code",
      "source": [
        "import numpy as np\n",
        "a=np.array([[1,2],[3,4]])\n",
        "print(a)\n",
        "print(pow(a,2))"
      ],
      "metadata": {
        "colab": {
          "base_uri": "https://localhost:8080/"
        },
        "id": "X2K5qX4Uqa0l",
        "outputId": "cfdc836c-5e64-4676-a693-b56389c25ca6"
      },
      "execution_count": null,
      "outputs": [
        {
          "output_type": "stream",
          "name": "stdout",
          "text": [
            "[[1 2]\n",
            " [3 4]]\n",
            "[[ 1  4]\n",
            " [ 9 16]]\n"
          ]
        }
      ]
    },
    {
      "cell_type": "code",
      "source": [
        ""
      ],
      "metadata": {
        "id": "xnyPmMdOGN69"
      },
      "execution_count": null,
      "outputs": []
    }
  ]
}