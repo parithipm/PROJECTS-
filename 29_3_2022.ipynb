{
  "nbformat": 4,
  "nbformat_minor": 0,
  "metadata": {
    "colab": {
      "name": "29.3.2022",
      "provenance": []
    },
    "kernelspec": {
      "name": "python3",
      "display_name": "Python 3"
    },
    "language_info": {
      "name": "python"
    }
  },
  "cells": [
    {
      "cell_type": "code",
      "execution_count": null,
      "metadata": {
        "colab": {
          "base_uri": "https://localhost:8080/"
        },
        "id": "rNSQ9EY4xEMr",
        "outputId": "1f25d46c-e548-4ad0-8a77-9743f92a9405"
      },
      "outputs": [
        {
          "output_type": "stream",
          "name": "stdout",
          "text": [
            "0    19\n",
            "1    24\n",
            "2    30\n",
            "3    41\n",
            "4    53\n",
            "5    62\n",
            "dtype: int64\n"
          ]
        }
      ],
      "source": [
        "#create series\n",
        "import pandas as pd\n",
        "age_series=pd.Series([19,24,30,41,53,62])\n",
        "#print the series\n",
        "print(age_series)"
      ]
    },
    {
      "cell_type": "code",
      "source": [
        "import numpy as np\n",
        "import pandas as pd\n",
        "salary_series_index=pd.Series(\n",
        "    np.array([20000,12000,43000,45000,65000,66000]),\n",
        "    index=np.arange(0,12,2)\n",
        ")\n",
        "salary_series_index"
      ],
      "metadata": {
        "id": "xzM3vMku0JqD",
        "colab": {
          "base_uri": "https://localhost:8080/"
        },
        "outputId": "ce46165b-a08b-4091-9f11-db77e59f3ab9"
      },
      "execution_count": null,
      "outputs": [
        {
          "output_type": "execute_result",
          "data": {
            "text/plain": [
              "0     20000\n",
              "2     12000\n",
              "4     43000\n",
              "6     45000\n",
              "8     65000\n",
              "10    66000\n",
              "dtype: int64"
            ]
          },
          "metadata": {},
          "execution_count": 11
        }
      ]
    },
    {
      "cell_type": "code",
      "source": [
        "emp_series=pd.Series(\n",
        "    np.array([20000,12000,43000,45000,65000,66000]),index=['A1','A2','A3','A4','A5','A6'])\n",
        "emp_series"
      ],
      "metadata": {
        "colab": {
          "base_uri": "https://localhost:8080/"
        },
        "id": "ndWqdOFI3rYH",
        "outputId": "de9284b7-f568-4e50-f9e3-cca50816dc0e"
      },
      "execution_count": null,
      "outputs": [
        {
          "output_type": "execute_result",
          "data": {
            "text/plain": [
              "A1    20000\n",
              "A2    12000\n",
              "A3    43000\n",
              "A4    45000\n",
              "A5    65000\n",
              "A6    66000\n",
              "dtype: int64"
            ]
          },
          "metadata": {},
          "execution_count": 12
        }
      ]
    },
    {
      "cell_type": "code",
      "source": [
        "pip install pandas\n"
      ],
      "metadata": {
        "colab": {
          "base_uri": "https://localhost:8080/"
        },
        "id": "dFR0YCdkz6Zj",
        "outputId": "b7c9eb42-bb2d-40e0-fe6e-a0c5e18c43fb"
      },
      "execution_count": null,
      "outputs": [
        {
          "output_type": "stream",
          "name": "stdout",
          "text": [
            "Requirement already satisfied: pandas in /usr/local/lib/python3.7/dist-packages (1.3.5)\n",
            "Requirement already satisfied: python-dateutil>=2.7.3 in /usr/local/lib/python3.7/dist-packages (from pandas) (2.8.2)\n",
            "Requirement already satisfied: numpy>=1.17.3 in /usr/local/lib/python3.7/dist-packages (from pandas) (1.21.5)\n",
            "Requirement already satisfied: pytz>=2017.3 in /usr/local/lib/python3.7/dist-packages (from pandas) (2018.9)\n",
            "Requirement already satisfied: six>=1.5 in /usr/local/lib/python3.7/dist-packages (from python-dateutil>=2.7.3->pandas) (1.15.0)\n"
          ]
        }
      ]
    },
    {
      "cell_type": "code",
      "source": [
        "prod_dict= ('Dairy': 23000, 'Soft Drinks': 45888, 'Fruits and Vegetables': 67888) prod_series= pd.Series(prod_dict)\n",
        "\n",
        "prod_series\n",
        "\n",
        "Dairy\n",
        "\n",
        "Soft Drinks\n",
        "\n",
        "23888\n",
        "\n",
        "Keys as index\n",
        "\n",
        "45000\n",
        "\n",
        "67888\n",
        "\n",
        "Fruits and Vegetables\n",
        "\n",
        "dtype: int64"
      ],
      "metadata": {
        "colab": {
          "base_uri": "https://localhost:8080/",
          "height": 131
        },
        "id": "wfejcGcT55uj",
        "outputId": "d74727f7-ea1e-4959-c1e7-c72b05eb537a"
      },
      "execution_count": null,
      "outputs": [
        {
          "output_type": "error",
          "ename": "SyntaxError",
          "evalue": "ignored",
          "traceback": [
            "\u001b[0;36m  File \u001b[0;32m\"<ipython-input-13-ee996d819901>\"\u001b[0;36m, line \u001b[0;32m1\u001b[0m\n\u001b[0;31m    prod_dict= ('Dairy': 2300e, 'Soft Drinks': 45888, 'Fruits and Vegetables': 67888) prod_series= pd.Series(prod_dict)\u001b[0m\n\u001b[0m                       ^\u001b[0m\n\u001b[0;31mSyntaxError\u001b[0m\u001b[0;31m:\u001b[0m invalid syntax\n"
          ]
        }
      ]
    },
    {
      "cell_type": "code",
      "source": [
        "#create a dictionary\n",
        "\n",
        "classes_dict={\"X\": [\"Maths\", \"Science\", \"English\"],\n",
        "              \"Y\": [\"Maths\", \"Science\"],\n",
        "              \"Z\":\"Science\"}\n",
        "\n",
        "#convert the dictionary in series\n",
        "classes_Series = pd.Series(classes_dict)\n",
        "\n",
        "#print the series \n",
        "classes_Series\n"
      ],
      "metadata": {
        "colab": {
          "base_uri": "https://localhost:8080/"
        },
        "id": "Az7UVyBe7Sqw",
        "outputId": "28bad514-c33b-4d8c-dfa0-312fcc82f77b"
      },
      "execution_count": null,
      "outputs": [
        {
          "output_type": "execute_result",
          "data": {
            "text/plain": [
              "X    [Maths, Science, English]\n",
              "Y             [Maths, Science]\n",
              "Z                      Science\n",
              "dtype: object"
            ]
          },
          "metadata": {},
          "execution_count": 16
        }
      ]
    },
    {
      "cell_type": "code",
      "source": [
        "#Accessing elements\n",
        "emp_array=np.array(['A101','A102','A103','B101','B102','B103','C101','C102','C104'])\n",
        "emp_id_series=pd.Series(emp_array)\n",
        "print(emp_id_series[:5])"
      ],
      "metadata": {
        "colab": {
          "base_uri": "https://localhost:8080/"
        },
        "id": "ZxIs5Srf77hV",
        "outputId": "15e775fa-89bb-4232-b2d6-c906c155d560"
      },
      "execution_count": null,
      "outputs": [
        {
          "output_type": "stream",
          "name": "stdout",
          "text": [
            "0    A101\n",
            "1    A102\n",
            "2    A103\n",
            "3    B101\n",
            "4    B102\n",
            "dtype: object\n"
          ]
        }
      ]
    },
    {
      "cell_type": "code",
      "source": [
        "classes_series=pd.Series(classes_dict)\n",
        "print(classes_series)\n",
        "print(\"\\n\",classes_series['X'])"
      ],
      "metadata": {
        "colab": {
          "base_uri": "https://localhost:8080/"
        },
        "id": "MhN0NQvr-R_d",
        "outputId": "464d07bb-4759-4bbb-81f5-d5185808f708"
      },
      "execution_count": null,
      "outputs": [
        {
          "output_type": "stream",
          "name": "stdout",
          "text": [
            "X    [Maths, Science, English]\n",
            "Y             [Maths, Science]\n",
            "Z                      Science\n",
            "dtype: object\n",
            "\n",
            " ['Maths', 'Science', 'English']\n"
          ]
        }
      ]
    },
    {
      "cell_type": "code",
      "source": [
        "student_series=pd.Series(np.array([450,129,313,414,215,116]),index=['sophia','Emma','Mia','William','Lilly','Grace'])\n",
        "student_series[student_series>300]"
      ],
      "metadata": {
        "colab": {
          "base_uri": "https://localhost:8080/"
        },
        "id": "9Xd7ILuGADzR",
        "outputId": "2b90e0be-805b-4299-8aac-7cf465336811"
      },
      "execution_count": null,
      "outputs": [
        {
          "output_type": "execute_result",
          "data": {
            "text/plain": [
              "sophia     450\n",
              "Mia        313\n",
              "William    414\n",
              "dtype: int64"
            ]
          },
          "metadata": {},
          "execution_count": 20
        }
      ]
    },
    {
      "cell_type": "code",
      "source": [
        "#creating simple array\n",
        "sales_array=np.array([1200,3252,2233])\n",
        "sales_series=pd.Series(sales_array)\n",
        "sales_series*2"
      ],
      "metadata": {
        "colab": {
          "base_uri": "https://localhost:8080/"
        },
        "id": "vWjDO63nBmd7",
        "outputId": "13365c2a-6688-4933-e4f3-9ec9d9f7848a"
      },
      "execution_count": null,
      "outputs": [
        {
          "output_type": "execute_result",
          "data": {
            "text/plain": [
              "0    2400\n",
              "1    6504\n",
              "2    4466\n",
              "dtype: int64"
            ]
          },
          "metadata": {},
          "execution_count": 21
        }
      ]
    },
    {
      "cell_type": "code",
      "source": [
        "#create 2 series\n",
        "MRP_series=pd.Series([12,15,17])\n",
        "sales_series=pd.Series([23,43,34])\n",
        "#multiply both the series\n",
        "total_amt_series=MRP_series.multiply(sales_series)\n",
        "print(total_amt_series)"
      ],
      "metadata": {
        "colab": {
          "base_uri": "https://localhost:8080/"
        },
        "id": "DeMvytHPDD-G",
        "outputId": "97a8d4ee-5353-441a-b195-a68cdd61faa1"
      },
      "execution_count": null,
      "outputs": [
        {
          "output_type": "stream",
          "name": "stdout",
          "text": [
            "0    276\n",
            "1    645\n",
            "2    578\n",
            "dtype: int64\n"
          ]
        }
      ]
    },
    {
      "cell_type": "code",
      "source": [
        "#create 2 arrays\n",
        "english_array=np.array([67,82,93])\n",
        "english_series=pd.Series(english_array)\n",
        "maths_array=np.array([91,72,83])\n",
        "maths_series=pd.Series(maths_array)\n",
        "#perform addition\n",
        "total_marks=english_series+maths_series\n",
        "total_marks"
      ],
      "metadata": {
        "colab": {
          "base_uri": "https://localhost:8080/"
        },
        "id": "Ki2lE-WbD82F",
        "outputId": "bfa343bf-1734-4560-fe95-3036027c024b"
      },
      "execution_count": null,
      "outputs": [
        {
          "output_type": "execute_result",
          "data": {
            "text/plain": [
              "0    158\n",
              "1    154\n",
              "2    176\n",
              "dtype: int64"
            ]
          },
          "metadata": {},
          "execution_count": 24
        }
      ]
    },
    {
      "cell_type": "code",
      "source": [
        "score_array=np.array([121,212,153,214,115,116,237,118,219,120])\n",
        "score_series=pd.Series(score_array)\n",
        "score_series.rank()"
      ],
      "metadata": {
        "colab": {
          "base_uri": "https://localhost:8080/"
        },
        "id": "Z5hw1u9bHhgM",
        "outputId": "e1616a43-9f1b-4068-c3b1-086fc1c77c39"
      },
      "execution_count": null,
      "outputs": [
        {
          "output_type": "execute_result",
          "data": {
            "text/plain": [
              "0     5.0\n",
              "1     7.0\n",
              "2     6.0\n",
              "3     8.0\n",
              "4     1.0\n",
              "5     2.0\n",
              "6    10.0\n",
              "7     3.0\n",
              "8     9.0\n",
              "9     4.0\n",
              "dtype: float64"
            ]
          },
          "metadata": {},
          "execution_count": 25
        }
      ]
    },
    {
      "cell_type": "code",
      "source": [
        "import pandas as pd\n",
        "sales_series=pd.Series([2223,3445,np.nan,3411,6223,8334,2155,np.nan,3314,3210])\n",
        "sales_series.sort_values(ascending=True,na_position='last')"
      ],
      "metadata": {
        "colab": {
          "base_uri": "https://localhost:8080/"
        },
        "id": "uVJ3R1fuISmz",
        "outputId": "d4594539-ff9f-4f74-fb3b-185daf50709f"
      },
      "execution_count": null,
      "outputs": [
        {
          "output_type": "execute_result",
          "data": {
            "text/plain": [
              "6    2155.0\n",
              "0    2223.0\n",
              "9    3210.0\n",
              "8    3314.0\n",
              "3    3411.0\n",
              "1    3445.0\n",
              "4    6223.0\n",
              "5    8334.0\n",
              "2       NaN\n",
              "7       NaN\n",
              "dtype: float64"
            ]
          },
          "metadata": {},
          "execution_count": 28
        }
      ]
    },
    {
      "cell_type": "code",
      "source": [
        "class1=np.linspace(start=0,stop=20,num=11)#create two series using linspace \n",
        "class2=np.linspace(start=1,stop=21,num=11)\n",
        "class1_series=pd.Series(data=class1)\n",
        "class2_series=pd.Series(data=class2)"
      ],
      "metadata": {
        "id": "bJ6p5iWoRuIo"
      },
      "execution_count": null,
      "outputs": []
    },
    {
      "cell_type": "code",
      "source": [
        "#concatenate using concat()\n",
        "pd.concat([class1_series,class2_series])"
      ],
      "metadata": {
        "colab": {
          "base_uri": "https://localhost:8080/"
        },
        "id": "eJSgCqc9TB1p",
        "outputId": "a87ead94-d186-4ec2-80f0-c1749e99f6f8"
      },
      "execution_count": null,
      "outputs": [
        {
          "output_type": "execute_result",
          "data": {
            "text/plain": [
              "0      0.0\n",
              "1      2.0\n",
              "2      4.0\n",
              "3      6.0\n",
              "4      8.0\n",
              "5     10.0\n",
              "6     12.0\n",
              "7     14.0\n",
              "8     16.0\n",
              "9     18.0\n",
              "10    20.0\n",
              "0      1.0\n",
              "1      3.0\n",
              "2      5.0\n",
              "3      7.0\n",
              "4      9.0\n",
              "5     11.0\n",
              "6     13.0\n",
              "7     15.0\n",
              "8     17.0\n",
              "9     19.0\n",
              "10    21.0\n",
              "dtype: float64"
            ]
          },
          "metadata": {},
          "execution_count": 30
        }
      ]
    },
    {
      "cell_type": "code",
      "source": [
        "pd.concat([class1_series,class2_series],keys=['Even','Odd'],names=['Category','Index'])"
      ],
      "metadata": {
        "colab": {
          "base_uri": "https://localhost:8080/"
        },
        "id": "uMoNvi65ULyD",
        "outputId": "bac4cde3-d2d9-4429-aa46-bfe7d3c786fa"
      },
      "execution_count": null,
      "outputs": [
        {
          "output_type": "execute_result",
          "data": {
            "text/plain": [
              "Category  Index\n",
              "Even      0         0.0\n",
              "          1         2.0\n",
              "          2         4.0\n",
              "          3         6.0\n",
              "          4         8.0\n",
              "          5        10.0\n",
              "          6        12.0\n",
              "          7        14.0\n",
              "          8        16.0\n",
              "          9        18.0\n",
              "          10       20.0\n",
              "Odd       0         1.0\n",
              "          1         3.0\n",
              "          2         5.0\n",
              "          3         7.0\n",
              "          4         9.0\n",
              "          5        11.0\n",
              "          6        13.0\n",
              "          7        15.0\n",
              "          8        17.0\n",
              "          9        19.0\n",
              "          10       21.0\n",
              "dtype: float64"
            ]
          },
          "metadata": {},
          "execution_count": 36
        }
      ]
    },
    {
      "cell_type": "code",
      "source": [
        "class1_series.append(class2_series)"
      ],
      "metadata": {
        "colab": {
          "base_uri": "https://localhost:8080/"
        },
        "id": "y0Va-FMaVUM3",
        "outputId": "6400a41f-4298-41d8-c4d5-3473bbe38d09"
      },
      "execution_count": null,
      "outputs": [
        {
          "output_type": "execute_result",
          "data": {
            "text/plain": [
              "0      0.0\n",
              "1      2.0\n",
              "2      4.0\n",
              "3      6.0\n",
              "4      8.0\n",
              "5     10.0\n",
              "6     12.0\n",
              "7     14.0\n",
              "8     16.0\n",
              "9     18.0\n",
              "10    20.0\n",
              "0      1.0\n",
              "1      3.0\n",
              "2      5.0\n",
              "3      7.0\n",
              "4      9.0\n",
              "5     11.0\n",
              "6     13.0\n",
              "7     15.0\n",
              "8     17.0\n",
              "9     19.0\n",
              "10    21.0\n",
              "dtype: float64"
            ]
          },
          "metadata": {},
          "execution_count": 37
        }
      ]
    },
    {
      "cell_type": "code",
      "source": [
        "#list of strings\n",
        "data_science=['python','Big Data','R','Machine Learning']\n",
        "df=pd.DataFrame(data_science)\n",
        "print(df)"
      ],
      "metadata": {
        "colab": {
          "base_uri": "https://localhost:8080/"
        },
        "id": "tJH7nEusV_63",
        "outputId": "5b53d387-d290-4ed1-dd38-1af139f2f55e"
      },
      "execution_count": null,
      "outputs": [
        {
          "output_type": "stream",
          "name": "stdout",
          "text": [
            "                  0\n",
            "0            python\n",
            "1          Big Data\n",
            "2                 R\n",
            "3  Machine Learning\n"
          ]
        }
      ]
    },
    {
      "cell_type": "code",
      "source": [
        "#create a dataframe from a list\n",
        "store_list=[['vivo',30000],['Oppo',40000],['Samsung',78000],['Apple',20000]]\n",
        "df=pd.DataFrame(store_list,columns=['Store','Sales'])\n",
        "df"
      ],
      "metadata": {
        "colab": {
          "base_uri": "https://localhost:8080/",
          "height": 192
        },
        "id": "or-tvNnPZSzv",
        "outputId": "ea0466db-a5f3-438d-f39b-93c7f6e9a592"
      },
      "execution_count": null,
      "outputs": [
        {
          "output_type": "execute_result",
          "data": {
            "text/plain": [
              "     Store  Sales\n",
              "0     vivo  30000\n",
              "1     Oppo  40000\n",
              "2  Samsung  78000\n",
              "3    Apple  20000"
            ],
            "text/html": [
              "\n",
              "  <div id=\"df-8eaa28d9-dabc-46b4-bbeb-a6fb8804b6b2\">\n",
              "    <div class=\"colab-df-container\">\n",
              "      <div>\n",
              "<style scoped>\n",
              "    .dataframe tbody tr th:only-of-type {\n",
              "        vertical-align: middle;\n",
              "    }\n",
              "\n",
              "    .dataframe tbody tr th {\n",
              "        vertical-align: top;\n",
              "    }\n",
              "\n",
              "    .dataframe thead th {\n",
              "        text-align: right;\n",
              "    }\n",
              "</style>\n",
              "<table border=\"1\" class=\"dataframe\">\n",
              "  <thead>\n",
              "    <tr style=\"text-align: right;\">\n",
              "      <th></th>\n",
              "      <th>Store</th>\n",
              "      <th>Sales</th>\n",
              "    </tr>\n",
              "  </thead>\n",
              "  <tbody>\n",
              "    <tr>\n",
              "      <th>0</th>\n",
              "      <td>vivo</td>\n",
              "      <td>30000</td>\n",
              "    </tr>\n",
              "    <tr>\n",
              "      <th>1</th>\n",
              "      <td>Oppo</td>\n",
              "      <td>40000</td>\n",
              "    </tr>\n",
              "    <tr>\n",
              "      <th>2</th>\n",
              "      <td>Samsung</td>\n",
              "      <td>78000</td>\n",
              "    </tr>\n",
              "    <tr>\n",
              "      <th>3</th>\n",
              "      <td>Apple</td>\n",
              "      <td>20000</td>\n",
              "    </tr>\n",
              "  </tbody>\n",
              "</table>\n",
              "</div>\n",
              "      <button class=\"colab-df-convert\" onclick=\"convertToInteractive('df-8eaa28d9-dabc-46b4-bbeb-a6fb8804b6b2')\"\n",
              "              title=\"Convert this dataframe to an interactive table.\"\n",
              "              style=\"display:none;\">\n",
              "        \n",
              "  <svg xmlns=\"http://www.w3.org/2000/svg\" height=\"24px\"viewBox=\"0 0 24 24\"\n",
              "       width=\"24px\">\n",
              "    <path d=\"M0 0h24v24H0V0z\" fill=\"none\"/>\n",
              "    <path d=\"M18.56 5.44l.94 2.06.94-2.06 2.06-.94-2.06-.94-.94-2.06-.94 2.06-2.06.94zm-11 1L8.5 8.5l.94-2.06 2.06-.94-2.06-.94L8.5 2.5l-.94 2.06-2.06.94zm10 10l.94 2.06.94-2.06 2.06-.94-2.06-.94-.94-2.06-.94 2.06-2.06.94z\"/><path d=\"M17.41 7.96l-1.37-1.37c-.4-.4-.92-.59-1.43-.59-.52 0-1.04.2-1.43.59L10.3 9.45l-7.72 7.72c-.78.78-.78 2.05 0 2.83L4 21.41c.39.39.9.59 1.41.59.51 0 1.02-.2 1.41-.59l7.78-7.78 2.81-2.81c.8-.78.8-2.07 0-2.86zM5.41 20L4 18.59l7.72-7.72 1.47 1.35L5.41 20z\"/>\n",
              "  </svg>\n",
              "      </button>\n",
              "      \n",
              "  <style>\n",
              "    .colab-df-container {\n",
              "      display:flex;\n",
              "      flex-wrap:wrap;\n",
              "      gap: 12px;\n",
              "    }\n",
              "\n",
              "    .colab-df-convert {\n",
              "      background-color: #E8F0FE;\n",
              "      border: none;\n",
              "      border-radius: 50%;\n",
              "      cursor: pointer;\n",
              "      display: none;\n",
              "      fill: #1967D2;\n",
              "      height: 32px;\n",
              "      padding: 0 0 0 0;\n",
              "      width: 32px;\n",
              "    }\n",
              "\n",
              "    .colab-df-convert:hover {\n",
              "      background-color: #E2EBFA;\n",
              "      box-shadow: 0px 1px 2px rgba(60, 64, 67, 0.3), 0px 1px 3px 1px rgba(60, 64, 67, 0.15);\n",
              "      fill: #174EA6;\n",
              "    }\n",
              "\n",
              "    [theme=dark] .colab-df-convert {\n",
              "      background-color: #3B4455;\n",
              "      fill: #D2E3FC;\n",
              "    }\n",
              "\n",
              "    [theme=dark] .colab-df-convert:hover {\n",
              "      background-color: #434B5C;\n",
              "      box-shadow: 0px 1px 3px 1px rgba(0, 0, 0, 0.15);\n",
              "      filter: drop-shadow(0px 1px 2px rgba(0, 0, 0, 0.3));\n",
              "      fill: #FFFFFF;\n",
              "    }\n",
              "  </style>\n",
              "\n",
              "      <script>\n",
              "        const buttonEl =\n",
              "          document.querySelector('#df-8eaa28d9-dabc-46b4-bbeb-a6fb8804b6b2 button.colab-df-convert');\n",
              "        buttonEl.style.display =\n",
              "          google.colab.kernel.accessAllowed ? 'block' : 'none';\n",
              "\n",
              "        async function convertToInteractive(key) {\n",
              "          const element = document.querySelector('#df-8eaa28d9-dabc-46b4-bbeb-a6fb8804b6b2');\n",
              "          const dataTable =\n",
              "            await google.colab.kernel.invokeFunction('convertToInteractive',\n",
              "                                                     [key], {});\n",
              "          if (!dataTable) return;\n",
              "\n",
              "          const docLinkHtml = 'Like what you see? Visit the ' +\n",
              "            '<a target=\"_blank\" href=https://colab.research.google.com/notebooks/data_table.ipynb>data table notebook</a>'\n",
              "            + ' to learn more about interactive tables.';\n",
              "          element.innerHTML = '';\n",
              "          dataTable['output_type'] = 'display_data';\n",
              "          await google.colab.output.renderOutput(dataTable, element);\n",
              "          const docLink = document.createElement('div');\n",
              "          docLink.innerHTML = docLinkHtml;\n",
              "          element.appendChild(docLink);\n",
              "        }\n",
              "      </script>\n",
              "    </div>\n",
              "  </div>\n",
              "  "
            ]
          },
          "metadata": {},
          "execution_count": 39
        }
      ]
    },
    {
      "cell_type": "code",
      "source": [
        "from google.colab import drive\n",
        "drive.mount('/content/drive')"
      ],
      "metadata": {
        "id": "Dp3JNAVGliIH"
      },
      "execution_count": null,
      "outputs": []
    },
    {
      "cell_type": "code",
      "source": [
        "pip install Xlsxwriter"
      ],
      "metadata": {
        "colab": {
          "base_uri": "https://localhost:8080/"
        },
        "id": "W7NCxf7kem7O",
        "outputId": "5d54c4ab-c370-475f-b0a8-ce055b99fd13"
      },
      "execution_count": null,
      "outputs": [
        {
          "output_type": "stream",
          "name": "stdout",
          "text": [
            "Collecting Xlsxwriter\n",
            "  Downloading XlsxWriter-3.0.3-py3-none-any.whl (149 kB)\n",
            "\u001b[?25l\r\u001b[K     |██▏                             | 10 kB 21.5 MB/s eta 0:00:01\r\u001b[K     |████▍                           | 20 kB 26.4 MB/s eta 0:00:01\r\u001b[K     |██████▌                         | 30 kB 31.2 MB/s eta 0:00:01\r\u001b[K     |████████▊                       | 40 kB 25.8 MB/s eta 0:00:01\r\u001b[K     |███████████                     | 51 kB 21.1 MB/s eta 0:00:01\r\u001b[K     |█████████████                   | 61 kB 22.9 MB/s eta 0:00:01\r\u001b[K     |███████████████▎                | 71 kB 24.1 MB/s eta 0:00:01\r\u001b[K     |█████████████████▌              | 81 kB 25.8 MB/s eta 0:00:01\r\u001b[K     |███████████████████▋            | 92 kB 28.1 MB/s eta 0:00:01\r\u001b[K     |█████████████████████▉          | 102 kB 26.3 MB/s eta 0:00:01\r\u001b[K     |████████████████████████        | 112 kB 26.3 MB/s eta 0:00:01\r\u001b[K     |██████████████████████████▏     | 122 kB 26.3 MB/s eta 0:00:01\r\u001b[K     |████████████████████████████▍   | 133 kB 26.3 MB/s eta 0:00:01\r\u001b[K     |██████████████████████████████▋ | 143 kB 26.3 MB/s eta 0:00:01\r\u001b[K     |████████████████████████████████| 149 kB 26.3 MB/s \n",
            "\u001b[?25hInstalling collected packages: Xlsxwriter\n",
            "Successfully installed Xlsxwriter-3.0.3\n"
          ]
        }
      ]
    }
  ]
}