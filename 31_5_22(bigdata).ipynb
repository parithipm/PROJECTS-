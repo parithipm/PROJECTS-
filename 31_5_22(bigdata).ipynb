{
  "nbformat": 4,
  "nbformat_minor": 0,
  "metadata": {
    "colab": {
      "name": "31.5.22(bigdata).ipynb",
      "provenance": []
    },
    "kernelspec": {
      "name": "python3",
      "display_name": "Python 3"
    },
    "language_info": {
      "name": "python"
    }
  },
  "cells": [
    {
      "cell_type": "code",
      "execution_count": null,
      "metadata": {
        "colab": {
          "base_uri": "https://localhost:8080/"
        },
        "id": "QqMMxijxZUXU",
        "outputId": "24063485-f05d-43f0-b36f-ea70b5ae9c4a"
      },
      "outputs": [
        {
          "output_type": "stream",
          "name": "stdout",
          "text": [
            "Looking in indexes: https://pypi.org/simple, https://us-python.pkg.dev/colab-wheels/public/simple/\n",
            "Collecting pyspark\n",
            "  Downloading pyspark-3.2.1.tar.gz (281.4 MB)\n",
            "\u001b[K     |████████████████████████████████| 281.4 MB 34 kB/s \n",
            "\u001b[?25hCollecting py4j==0.10.9.3\n",
            "  Downloading py4j-0.10.9.3-py2.py3-none-any.whl (198 kB)\n",
            "\u001b[K     |████████████████████████████████| 198 kB 56.7 MB/s \n",
            "\u001b[?25hBuilding wheels for collected packages: pyspark\n",
            "  Building wheel for pyspark (setup.py) ... \u001b[?25l\u001b[?25hdone\n",
            "  Created wheel for pyspark: filename=pyspark-3.2.1-py2.py3-none-any.whl size=281853642 sha256=f5b829be2bab9fbf761c8ea834a650d2f971d31fdc379a0915c5477befd4397b\n",
            "  Stored in directory: /root/.cache/pip/wheels/9f/f5/07/7cd8017084dce4e93e84e92efd1e1d5334db05f2e83bcef74f\n",
            "Successfully built pyspark\n",
            "Installing collected packages: py4j, pyspark\n",
            "Successfully installed py4j-0.10.9.3 pyspark-3.2.1\n"
          ]
        }
      ],
      "source": [
        "!pip install pyspark"
      ]
    },
    {
      "cell_type": "code",
      "source": [
        "import pyspark"
      ],
      "metadata": {
        "id": "hGOWmzupclgJ"
      },
      "execution_count": null,
      "outputs": []
    },
    {
      "cell_type": "code",
      "source": [
        "import pandas as pd\n",
        "type(pd.read_csv('/content/drive/MyDrive/0.MKCE/19.Spark/Sample - Superstore.csv'))"
      ],
      "metadata": {
        "colab": {
          "base_uri": "https://localhost:8080/"
        },
        "id": "NcbxCmg1lRwg",
        "outputId": "7bc2fcdd-5b16-4ca2-d09b-4e36ed9c3793"
      },
      "execution_count": null,
      "outputs": [
        {
          "output_type": "execute_result",
          "data": {
            "text/plain": [
              "pandas.core.frame.DataFrame"
            ]
          },
          "metadata": {},
          "execution_count": 7
        }
      ]
    },
    {
      "cell_type": "code",
      "source": [
        "from pyspark.sql import SparkSession"
      ],
      "metadata": {
        "id": "l_t-HzC5luBP"
      },
      "execution_count": null,
      "outputs": []
    },
    {
      "cell_type": "code",
      "source": [
        "spark=SparkSession.builder.appName('Sample-Superstore').getOrCreate()"
      ],
      "metadata": {
        "id": "EvugDNG1mhfB"
      },
      "execution_count": null,
      "outputs": []
    },
    {
      "cell_type": "code",
      "source": [
        "spark"
      ],
      "metadata": {
        "colab": {
          "base_uri": "https://localhost:8080/",
          "height": 219
        },
        "id": "-BLbPdjTm3Qi",
        "outputId": "8402d3f5-dce5-4205-85da-760d1def8df2"
      },
      "execution_count": null,
      "outputs": [
        {
          "output_type": "execute_result",
          "data": {
            "text/plain": [
              "<pyspark.sql.session.SparkSession at 0x7f2026cfb790>"
            ],
            "text/html": [
              "\n",
              "            <div>\n",
              "                <p><b>SparkSession - in-memory</b></p>\n",
              "                \n",
              "        <div>\n",
              "            <p><b>SparkContext</b></p>\n",
              "\n",
              "            <p><a href=\"http://6de6a81ae1f0:4040\">Spark UI</a></p>\n",
              "\n",
              "            <dl>\n",
              "              <dt>Version</dt>\n",
              "                <dd><code>v3.2.1</code></dd>\n",
              "              <dt>Master</dt>\n",
              "                <dd><code>local[*]</code></dd>\n",
              "              <dt>AppName</dt>\n",
              "                <dd><code>Sample-Superstore</code></dd>\n",
              "            </dl>\n",
              "        </div>\n",
              "        \n",
              "            </div>\n",
              "        "
            ]
          },
          "metadata": {},
          "execution_count": 11
        }
      ]
    },
    {
      "cell_type": "code",
      "source": [
        "df_pyspark=spark.read.option('header','true').csv('/content/drive/MyDrive/0.MKCE/19.Spark/Sample - Superstore.csv',inferSchema=True)"
      ],
      "metadata": {
        "id": "vfxT_ncorWNy"
      },
      "execution_count": null,
      "outputs": []
    },
    {
      "cell_type": "code",
      "source": [
        "type(df_pyspark)"
      ],
      "metadata": {
        "colab": {
          "base_uri": "https://localhost:8080/"
        },
        "id": "kw8o70E8rY_L",
        "outputId": "23abb2dc-ccc6-429d-8226-8bc33022c350"
      },
      "execution_count": null,
      "outputs": [
        {
          "output_type": "execute_result",
          "data": {
            "text/plain": [
              "pyspark.sql.dataframe.DataFrame"
            ]
          },
          "metadata": {},
          "execution_count": 14
        }
      ]
    },
    {
      "cell_type": "code",
      "source": [
        "df_pyspark.printSchema()"
      ],
      "metadata": {
        "colab": {
          "base_uri": "https://localhost:8080/"
        },
        "id": "cw3Sot4ar0og",
        "outputId": "560ae32a-0aee-4517-8614-c6b45cf282ad"
      },
      "execution_count": null,
      "outputs": [
        {
          "output_type": "stream",
          "name": "stdout",
          "text": [
            "root\n",
            " |-- Row ID: integer (nullable = true)\n",
            " |-- Order ID: string (nullable = true)\n",
            " |-- Order Date: string (nullable = true)\n",
            " |-- Ship Date: string (nullable = true)\n",
            " |-- Ship Mode: string (nullable = true)\n",
            " |-- Customer ID: string (nullable = true)\n",
            " |-- Customer Name: string (nullable = true)\n",
            " |-- Segment: string (nullable = true)\n",
            " |-- Country/Region: string (nullable = true)\n",
            " |-- City: string (nullable = true)\n",
            " |-- State: string (nullable = true)\n",
            " |-- Postal Code: integer (nullable = true)\n",
            " |-- Region: string (nullable = true)\n",
            " |-- Product ID: string (nullable = true)\n",
            " |-- Category: string (nullable = true)\n",
            " |-- Sub-Category: string (nullable = true)\n",
            " |-- Product Name: string (nullable = true)\n",
            " |-- Sales: string (nullable = true)\n",
            " |-- Quantity: string (nullable = true)\n",
            " |-- Discount: string (nullable = true)\n",
            " |-- Profit: double (nullable = true)\n",
            "\n"
          ]
        }
      ]
    },
    {
      "cell_type": "code",
      "source": [
        "type(df_pyspark)"
      ],
      "metadata": {
        "colab": {
          "base_uri": "https://localhost:8080/"
        },
        "id": "hIw4Xqg3r6ud",
        "outputId": "6ea5d18a-34e1-4749-caa6-488836785b8b"
      },
      "execution_count": null,
      "outputs": [
        {
          "output_type": "execute_result",
          "data": {
            "text/plain": [
              "pyspark.sql.dataframe.DataFrame"
            ]
          },
          "metadata": {},
          "execution_count": 17
        }
      ]
    },
    {
      "cell_type": "code",
      "source": [
        "df_pyspark.head(10)"
      ],
      "metadata": {
        "colab": {
          "base_uri": "https://localhost:8080/"
        },
        "id": "GFtAt4eLsZU_",
        "outputId": "4778fbbd-67ff-4c39-d90e-9b750eb82179"
      },
      "execution_count": null,
      "outputs": [
        {
          "output_type": "execute_result",
          "data": {
            "text/plain": [
              "[Row(Row ID=1, Order ID='CA-2020-152156', Order Date='08-11-20', Ship Date='11-11-20', Ship Mode='Second Class', Customer ID='CG-12520', Customer Name='Claire Gute', Segment='Consumer', Country/Region='United States', City='Henderson', State='Kentucky', Postal Code=42420, Region='South', Product ID='FUR-BO-10001798', Category='Furniture', Sub-Category='Bookcases', Product Name='Bush Somerset Collection Bookcase', Sales='261.96', Quantity='2', Discount='0', Profit=41.9136),\n",
              " Row(Row ID=2, Order ID='CA-2020-152156', Order Date='08-11-20', Ship Date='11-11-20', Ship Mode='Second Class', Customer ID='CG-12520', Customer Name='Claire Gute', Segment='Consumer', Country/Region='United States', City='Henderson', State='Kentucky', Postal Code=42420, Region='South', Product ID='FUR-CH-10000454', Category='Furniture', Sub-Category='Chairs', Product Name='Hon Deluxe Fabric Upholstered Stacking Chairs, Rounded Back', Sales='731.94', Quantity='3', Discount='0', Profit=219.582),\n",
              " Row(Row ID=3, Order ID='CA-2020-138688', Order Date='12-06-20', Ship Date='16-06-20', Ship Mode='Second Class', Customer ID='DV-13045', Customer Name='Darrin Van Huff', Segment='Corporate', Country/Region='United States', City='Los Angeles', State='California', Postal Code=90036, Region='West', Product ID='OFF-LA-10000240', Category='Office Supplies', Sub-Category='Labels', Product Name='Self-Adhesive Address Labels for Typewriters by Universal', Sales='14.62', Quantity='2', Discount='0', Profit=6.8714),\n",
              " Row(Row ID=4, Order ID='US-2019-108966', Order Date='11-10-19', Ship Date='18-10-19', Ship Mode='Standard Class', Customer ID='SO-20335', Customer Name=\"Sean O'Donnell\", Segment='Consumer', Country/Region='United States', City='Fort Lauderdale', State='Florida', Postal Code=33311, Region='South', Product ID='FUR-TA-10000577', Category='Furniture', Sub-Category='Tables', Product Name='Bretford CR4500 Series Slim Rectangular Table', Sales='957.5775', Quantity='5', Discount='0.45', Profit=-383.031),\n",
              " Row(Row ID=5, Order ID='US-2019-108966', Order Date='11-10-19', Ship Date='18-10-19', Ship Mode='Standard Class', Customer ID='SO-20335', Customer Name=\"Sean O'Donnell\", Segment='Consumer', Country/Region='United States', City='Fort Lauderdale', State='Florida', Postal Code=33311, Region='South', Product ID='OFF-ST-10000760', Category='Office Supplies', Sub-Category='Storage', Product Name=\"Eldon Fold 'N Roll Cart System\", Sales='22.368', Quantity='2', Discount='0.2', Profit=2.5164),\n",
              " Row(Row ID=6, Order ID='CA-2018-115812', Order Date='09-06-18', Ship Date='14-06-18', Ship Mode='Standard Class', Customer ID='BH-11710', Customer Name='Brosina Hoffman', Segment='Consumer', Country/Region='United States', City='Los Angeles', State='California', Postal Code=90032, Region='West', Product ID='FUR-FU-10001487', Category='Furniture', Sub-Category='Furnishings', Product Name='Eldon Expressions Wood and Plastic Desk Accessories, Cherry Wood', Sales='48.86', Quantity='7', Discount='0', Profit=14.1694),\n",
              " Row(Row ID=7, Order ID='CA-2018-115812', Order Date='09-06-18', Ship Date='14-06-18', Ship Mode='Standard Class', Customer ID='BH-11710', Customer Name='Brosina Hoffman', Segment='Consumer', Country/Region='United States', City='Los Angeles', State='California', Postal Code=90032, Region='West', Product ID='OFF-AR-10002833', Category='Office Supplies', Sub-Category='Art', Product Name='Newell 322', Sales='7.28', Quantity='4', Discount='0', Profit=1.9656),\n",
              " Row(Row ID=8, Order ID='CA-2018-115812', Order Date='09-06-18', Ship Date='14-06-18', Ship Mode='Standard Class', Customer ID='BH-11710', Customer Name='Brosina Hoffman', Segment='Consumer', Country/Region='United States', City='Los Angeles', State='California', Postal Code=90032, Region='West', Product ID='TEC-PH-10002275', Category='Technology', Sub-Category='Phones', Product Name='Mitel 5320 IP Phone VoIP phone', Sales='907.152', Quantity='6', Discount='0.2', Profit=90.7152),\n",
              " Row(Row ID=9, Order ID='CA-2018-115812', Order Date='09-06-18', Ship Date='14-06-18', Ship Mode='Standard Class', Customer ID='BH-11710', Customer Name='Brosina Hoffman', Segment='Consumer', Country/Region='United States', City='Los Angeles', State='California', Postal Code=90032, Region='West', Product ID='OFF-BI-10003910', Category='Office Supplies', Sub-Category='Binders', Product Name='DXL Angle-View Binders with Locking Rings by Samsill', Sales='18.504', Quantity='3', Discount='0.2', Profit=5.7825),\n",
              " Row(Row ID=10, Order ID='CA-2018-115812', Order Date='09-06-18', Ship Date='14-06-18', Ship Mode='Standard Class', Customer ID='BH-11710', Customer Name='Brosina Hoffman', Segment='Consumer', Country/Region='United States', City='Los Angeles', State='California', Postal Code=90032, Region='West', Product ID='OFF-AP-10002892', Category='Office Supplies', Sub-Category='Appliances', Product Name='Belkin F5C206VTEL 6 Outlet Surge', Sales='114.9', Quantity='5', Discount='0', Profit=34.47)]"
            ]
          },
          "metadata": {},
          "execution_count": 18
        }
      ]
    },
    {
      "cell_type": "code",
      "source": [
        "df_pyspark.show(7)"
      ],
      "metadata": {
        "colab": {
          "base_uri": "https://localhost:8080/"
        },
        "id": "AeZ3Q3mOsdAb",
        "outputId": "999fd886-115d-4dc7-bd60-69533bbb75f3"
      },
      "execution_count": null,
      "outputs": [
        {
          "output_type": "stream",
          "name": "stdout",
          "text": [
            "+------+--------------+----------+---------+--------------+-----------+---------------+---------+--------------+---------------+----------+-----------+------+---------------+---------------+------------+--------------------+--------+--------+--------+--------+\n",
            "|Row ID|      Order ID|Order Date|Ship Date|     Ship Mode|Customer ID|  Customer Name|  Segment|Country/Region|           City|     State|Postal Code|Region|     Product ID|       Category|Sub-Category|        Product Name|   Sales|Quantity|Discount|  Profit|\n",
            "+------+--------------+----------+---------+--------------+-----------+---------------+---------+--------------+---------------+----------+-----------+------+---------------+---------------+------------+--------------------+--------+--------+--------+--------+\n",
            "|     1|CA-2020-152156|  08-11-20| 11-11-20|  Second Class|   CG-12520|    Claire Gute| Consumer| United States|      Henderson|  Kentucky|      42420| South|FUR-BO-10001798|      Furniture|   Bookcases|Bush Somerset Col...|  261.96|       2|       0| 41.9136|\n",
            "|     2|CA-2020-152156|  08-11-20| 11-11-20|  Second Class|   CG-12520|    Claire Gute| Consumer| United States|      Henderson|  Kentucky|      42420| South|FUR-CH-10000454|      Furniture|      Chairs|Hon Deluxe Fabric...|  731.94|       3|       0| 219.582|\n",
            "|     3|CA-2020-138688|  12-06-20| 16-06-20|  Second Class|   DV-13045|Darrin Van Huff|Corporate| United States|    Los Angeles|California|      90036|  West|OFF-LA-10000240|Office Supplies|      Labels|Self-Adhesive Add...|   14.62|       2|       0|  6.8714|\n",
            "|     4|US-2019-108966|  11-10-19| 18-10-19|Standard Class|   SO-20335| Sean O'Donnell| Consumer| United States|Fort Lauderdale|   Florida|      33311| South|FUR-TA-10000577|      Furniture|      Tables|Bretford CR4500 S...|957.5775|       5|    0.45|-383.031|\n",
            "|     5|US-2019-108966|  11-10-19| 18-10-19|Standard Class|   SO-20335| Sean O'Donnell| Consumer| United States|Fort Lauderdale|   Florida|      33311| South|OFF-ST-10000760|Office Supplies|     Storage|Eldon Fold 'N Rol...|  22.368|       2|     0.2|  2.5164|\n",
            "|     6|CA-2018-115812|  09-06-18| 14-06-18|Standard Class|   BH-11710|Brosina Hoffman| Consumer| United States|    Los Angeles|California|      90032|  West|FUR-FU-10001487|      Furniture| Furnishings|Eldon Expressions...|   48.86|       7|       0| 14.1694|\n",
            "|     7|CA-2018-115812|  09-06-18| 14-06-18|Standard Class|   BH-11710|Brosina Hoffman| Consumer| United States|    Los Angeles|California|      90032|  West|OFF-AR-10002833|Office Supplies|         Art|          Newell 322|    7.28|       4|       0|  1.9656|\n",
            "+------+--------------+----------+---------+--------------+-----------+---------------+---------+--------------+---------------+----------+-----------+------+---------------+---------------+------------+--------------------+--------+--------+--------+--------+\n",
            "only showing top 7 rows\n",
            "\n"
          ]
        }
      ]
    },
    {
      "cell_type": "code",
      "source": [
        "df_pyspark.select(['Customer Name','Sales','Profit']).show()"
      ],
      "metadata": {
        "colab": {
          "base_uri": "https://localhost:8080/"
        },
        "id": "Y-u5nb4Csh5E",
        "outputId": "9eb5e374-d5dd-495e-cf41-71d8effa1df2"
      },
      "execution_count": null,
      "outputs": [
        {
          "output_type": "stream",
          "name": "stdout",
          "text": [
            "+------------------+--------+--------+\n",
            "|     Customer Name|   Sales|  Profit|\n",
            "+------------------+--------+--------+\n",
            "|       Claire Gute|  261.96| 41.9136|\n",
            "|       Claire Gute|  731.94| 219.582|\n",
            "|   Darrin Van Huff|   14.62|  6.8714|\n",
            "|    Sean O'Donnell|957.5775|-383.031|\n",
            "|    Sean O'Donnell|  22.368|  2.5164|\n",
            "|   Brosina Hoffman|   48.86| 14.1694|\n",
            "|   Brosina Hoffman|    7.28|  1.9656|\n",
            "|   Brosina Hoffman| 907.152| 90.7152|\n",
            "|   Brosina Hoffman|  18.504|  5.7825|\n",
            "|   Brosina Hoffman|   114.9|   34.47|\n",
            "|   Brosina Hoffman|1706.184| 85.3092|\n",
            "|   Brosina Hoffman| 911.424| 68.3568|\n",
            "|      Andrew Allen|  15.552|  5.4432|\n",
            "|      Irene Maddox| 407.976|132.5922|\n",
            "|     Harold Pawlan|   68.81|-123.858|\n",
            "|     Harold Pawlan|   2.544|  -3.816|\n",
            "|         Pete Kriz|  665.88| 13.3176|\n",
            "|   Alejandro Grove|    55.5|    9.99|\n",
            "|Zuschuss Donatelli|    8.56|  2.4824|\n",
            "|Zuschuss Donatelli|  213.48|  16.011|\n",
            "+------------------+--------+--------+\n",
            "only showing top 20 rows\n",
            "\n"
          ]
        }
      ]
    },
    {
      "cell_type": "code",
      "source": [
        "df_pyspark.dtypes"
      ],
      "metadata": {
        "colab": {
          "base_uri": "https://localhost:8080/"
        },
        "id": "BiB2iwGVszFE",
        "outputId": "6c866197-91b8-4b58-c51d-0b4552e25687"
      },
      "execution_count": null,
      "outputs": [
        {
          "output_type": "execute_result",
          "data": {
            "text/plain": [
              "[('Row ID', 'int'),\n",
              " ('Order ID', 'string'),\n",
              " ('Order Date', 'string'),\n",
              " ('Ship Date', 'string'),\n",
              " ('Ship Mode', 'string'),\n",
              " ('Customer ID', 'string'),\n",
              " ('Customer Name', 'string'),\n",
              " ('Segment', 'string'),\n",
              " ('Country/Region', 'string'),\n",
              " ('City', 'string'),\n",
              " ('State', 'string'),\n",
              " ('Postal Code', 'int'),\n",
              " ('Region', 'string'),\n",
              " ('Product ID', 'string'),\n",
              " ('Category', 'string'),\n",
              " ('Sub-Category', 'string'),\n",
              " ('Product Name', 'string'),\n",
              " ('Sales', 'string'),\n",
              " ('Quantity', 'string'),\n",
              " ('Discount', 'string'),\n",
              " ('Profit', 'double')]"
            ]
          },
          "metadata": {},
          "execution_count": 23
        }
      ]
    },
    {
      "cell_type": "code",
      "source": [
        "### Adding Columns in data frame\n",
        "df_pyspark=df_pyspark.withColumn('Profit %',df_pyspark['Profit']/df_pyspark['Sales']*100)"
      ],
      "metadata": {
        "id": "YnKnS3QXwrD2"
      },
      "execution_count": null,
      "outputs": []
    },
    {
      "cell_type": "code",
      "source": [
        "df_pyspark.show(7)"
      ],
      "metadata": {
        "colab": {
          "base_uri": "https://localhost:8080/"
        },
        "id": "hy9gWAYZw_xy",
        "outputId": "972a5888-a84a-4125-a672-ecf0e5c20a48"
      },
      "execution_count": null,
      "outputs": [
        {
          "output_type": "stream",
          "name": "stdout",
          "text": [
            "+------+--------------+----------+---------+--------------+-----------+---------------+---------+--------------+---------------+----------+-----------+------+---------------+---------------+------------+--------------------+--------+--------+--------+--------+------------------+\n",
            "|Row ID|      Order ID|Order Date|Ship Date|     Ship Mode|Customer ID|  Customer Name|  Segment|Country/Region|           City|     State|Postal Code|Region|     Product ID|       Category|Sub-Category|        Product Name|   Sales|Quantity|Discount|  Profit|          Profit %|\n",
            "+------+--------------+----------+---------+--------------+-----------+---------------+---------+--------------+---------------+----------+-----------+------+---------------+---------------+------------+--------------------+--------+--------+--------+--------+------------------+\n",
            "|     1|CA-2020-152156|  08-11-20| 11-11-20|  Second Class|   CG-12520|    Claire Gute| Consumer| United States|      Henderson|  Kentucky|      42420| South|FUR-BO-10001798|      Furniture|   Bookcases|Bush Somerset Col...|  261.96|       2|       0| 41.9136|16.000000000000004|\n",
            "|     2|CA-2020-152156|  08-11-20| 11-11-20|  Second Class|   CG-12520|    Claire Gute| Consumer| United States|      Henderson|  Kentucky|      42420| South|FUR-CH-10000454|      Furniture|      Chairs|Hon Deluxe Fabric...|  731.94|       3|       0| 219.582|              30.0|\n",
            "|     3|CA-2020-138688|  12-06-20| 16-06-20|  Second Class|   DV-13045|Darrin Van Huff|Corporate| United States|    Los Angeles|California|      90036|  West|OFF-LA-10000240|Office Supplies|      Labels|Self-Adhesive Add...|   14.62|       2|       0|  6.8714|              47.0|\n",
            "|     4|US-2019-108966|  11-10-19| 18-10-19|Standard Class|   SO-20335| Sean O'Donnell| Consumer| United States|Fort Lauderdale|   Florida|      33311| South|FUR-TA-10000577|      Furniture|      Tables|Bretford CR4500 S...|957.5775|       5|    0.45|-383.031|             -40.0|\n",
            "|     5|US-2019-108966|  11-10-19| 18-10-19|Standard Class|   SO-20335| Sean O'Donnell| Consumer| United States|Fort Lauderdale|   Florida|      33311| South|OFF-ST-10000760|Office Supplies|     Storage|Eldon Fold 'N Rol...|  22.368|       2|     0.2|  2.5164|             11.25|\n",
            "|     6|CA-2018-115812|  09-06-18| 14-06-18|Standard Class|   BH-11710|Brosina Hoffman| Consumer| United States|    Los Angeles|California|      90032|  West|FUR-FU-10001487|      Furniture| Furnishings|Eldon Expressions...|   48.86|       7|       0| 14.1694|28.999999999999996|\n",
            "|     7|CA-2018-115812|  09-06-18| 14-06-18|Standard Class|   BH-11710|Brosina Hoffman| Consumer| United States|    Los Angeles|California|      90032|  West|OFF-AR-10002833|Office Supplies|         Art|          Newell 322|    7.28|       4|       0|  1.9656|              27.0|\n",
            "+------+--------------+----------+---------+--------------+-----------+---------------+---------+--------------+---------------+----------+-----------+------+---------------+---------------+------------+--------------------+--------+--------+--------+--------+------------------+\n",
            "only showing top 7 rows\n",
            "\n"
          ]
        }
      ]
    },
    {
      "cell_type": "code",
      "source": [
        "### Adding Columns in data frame\n",
        "df_pyspark=df_pyspark.withColumn(' Categories',df_pyspark['Category']+df_pyspark['Sub-Category'])"
      ],
      "metadata": {
        "id": "j6gK7x7uxEmb"
      },
      "execution_count": null,
      "outputs": []
    },
    {
      "cell_type": "code",
      "source": [
        "df_pyspark.show(5)"
      ],
      "metadata": {
        "colab": {
          "base_uri": "https://localhost:8080/"
        },
        "id": "9kZN0ml4xc93",
        "outputId": "b9a44ed6-643b-420d-bf14-5cbd5245ceb4"
      },
      "execution_count": null,
      "outputs": [
        {
          "output_type": "stream",
          "name": "stdout",
          "text": [
            "+------+--------------+----------+---------+--------------+-----------+---------------+---------+--------------+---------------+----------+-----------+------+---------------+---------------+------------+--------------------+--------+--------+--------+--------+------------------+-----------+\n",
            "|Row ID|      Order ID|Order Date|Ship Date|     Ship Mode|Customer ID|  Customer Name|  Segment|Country/Region|           City|     State|Postal Code|Region|     Product ID|       Category|Sub-Category|        Product Name|   Sales|Quantity|Discount|  Profit|          Profit %| Categories|\n",
            "+------+--------------+----------+---------+--------------+-----------+---------------+---------+--------------+---------------+----------+-----------+------+---------------+---------------+------------+--------------------+--------+--------+--------+--------+------------------+-----------+\n",
            "|     1|CA-2020-152156|  08-11-20| 11-11-20|  Second Class|   CG-12520|    Claire Gute| Consumer| United States|      Henderson|  Kentucky|      42420| South|FUR-BO-10001798|      Furniture|   Bookcases|Bush Somerset Col...|  261.96|       2|       0| 41.9136|16.000000000000004|       null|\n",
            "|     2|CA-2020-152156|  08-11-20| 11-11-20|  Second Class|   CG-12520|    Claire Gute| Consumer| United States|      Henderson|  Kentucky|      42420| South|FUR-CH-10000454|      Furniture|      Chairs|Hon Deluxe Fabric...|  731.94|       3|       0| 219.582|              30.0|       null|\n",
            "|     3|CA-2020-138688|  12-06-20| 16-06-20|  Second Class|   DV-13045|Darrin Van Huff|Corporate| United States|    Los Angeles|California|      90036|  West|OFF-LA-10000240|Office Supplies|      Labels|Self-Adhesive Add...|   14.62|       2|       0|  6.8714|              47.0|       null|\n",
            "|     4|US-2019-108966|  11-10-19| 18-10-19|Standard Class|   SO-20335| Sean O'Donnell| Consumer| United States|Fort Lauderdale|   Florida|      33311| South|FUR-TA-10000577|      Furniture|      Tables|Bretford CR4500 S...|957.5775|       5|    0.45|-383.031|             -40.0|       null|\n",
            "|     5|US-2019-108966|  11-10-19| 18-10-19|Standard Class|   SO-20335| Sean O'Donnell| Consumer| United States|Fort Lauderdale|   Florida|      33311| South|OFF-ST-10000760|Office Supplies|     Storage|Eldon Fold 'N Rol...|  22.368|       2|     0.2|  2.5164|             11.25|       null|\n",
            "+------+--------------+----------+---------+--------------+-----------+---------------+---------+--------------+---------------+----------+-----------+------+---------------+---------------+------------+--------------------+--------+--------+--------+--------+------------------+-----------+\n",
            "only showing top 5 rows\n",
            "\n"
          ]
        }
      ]
    },
    {
      "cell_type": "code",
      "source": [
        "### Drop the columns\n",
        "df_pyspark=df_pyspark.drop('Profit %')"
      ],
      "metadata": {
        "id": "V6OWqmpDxhpS"
      },
      "execution_count": null,
      "outputs": []
    },
    {
      "cell_type": "code",
      "source": [
        "### Drop the columns\n",
        "df_pyspark=df_pyspark.drop('Categories')"
      ],
      "metadata": {
        "id": "TfNkuhH7xvJw"
      },
      "execution_count": null,
      "outputs": []
    },
    {
      "cell_type": "code",
      "source": [
        "df_pyspark.show(5)"
      ],
      "metadata": {
        "colab": {
          "base_uri": "https://localhost:8080/"
        },
        "id": "-POaLCpZx0Aq",
        "outputId": "e7dcfede-e767-4463-b339-3af49c939b1e"
      },
      "execution_count": null,
      "outputs": [
        {
          "output_type": "stream",
          "name": "stdout",
          "text": [
            "+------+--------------+----------+---------+--------------+-----------+---------------+---------+--------------+---------------+----------+-----------+------+---------------+---------------+------------+--------------------+--------+--------+--------+--------+-----------+\n",
            "|Row ID|      Order ID|Order Date|Ship Date|     Ship Mode|Customer ID|  Customer Name|  Segment|Country/Region|           City|     State|Postal Code|Region|     Product ID|       Category|Sub-Category|        Product Name|   Sales|Quantity|Discount|  Profit| Categories|\n",
            "+------+--------------+----------+---------+--------------+-----------+---------------+---------+--------------+---------------+----------+-----------+------+---------------+---------------+------------+--------------------+--------+--------+--------+--------+-----------+\n",
            "|     1|CA-2020-152156|  08-11-20| 11-11-20|  Second Class|   CG-12520|    Claire Gute| Consumer| United States|      Henderson|  Kentucky|      42420| South|FUR-BO-10001798|      Furniture|   Bookcases|Bush Somerset Col...|  261.96|       2|       0| 41.9136|       null|\n",
            "|     2|CA-2020-152156|  08-11-20| 11-11-20|  Second Class|   CG-12520|    Claire Gute| Consumer| United States|      Henderson|  Kentucky|      42420| South|FUR-CH-10000454|      Furniture|      Chairs|Hon Deluxe Fabric...|  731.94|       3|       0| 219.582|       null|\n",
            "|     3|CA-2020-138688|  12-06-20| 16-06-20|  Second Class|   DV-13045|Darrin Van Huff|Corporate| United States|    Los Angeles|California|      90036|  West|OFF-LA-10000240|Office Supplies|      Labels|Self-Adhesive Add...|   14.62|       2|       0|  6.8714|       null|\n",
            "|     4|US-2019-108966|  11-10-19| 18-10-19|Standard Class|   SO-20335| Sean O'Donnell| Consumer| United States|Fort Lauderdale|   Florida|      33311| South|FUR-TA-10000577|      Furniture|      Tables|Bretford CR4500 S...|957.5775|       5|    0.45|-383.031|       null|\n",
            "|     5|US-2019-108966|  11-10-19| 18-10-19|Standard Class|   SO-20335| Sean O'Donnell| Consumer| United States|Fort Lauderdale|   Florida|      33311| South|OFF-ST-10000760|Office Supplies|     Storage|Eldon Fold 'N Rol...|  22.368|       2|     0.2|  2.5164|       null|\n",
            "+------+--------------+----------+---------+--------------+-----------+---------------+---------+--------------+---------------+----------+-----------+------+---------------+---------------+------------+--------------------+--------+--------+--------+--------+-----------+\n",
            "only showing top 5 rows\n",
            "\n"
          ]
        }
      ]
    },
    {
      "cell_type": "code",
      "source": [
        "### Rename the columns\n",
        "df_pyspark.withColumnRenamed('Ship MOde','Shipping').show(3)"
      ],
      "metadata": {
        "colab": {
          "base_uri": "https://localhost:8080/"
        },
        "id": "HZyu74-1x25D",
        "outputId": "dcc29c5b-4d20-485a-889c-59192e8a07fe"
      },
      "execution_count": null,
      "outputs": [
        {
          "output_type": "stream",
          "name": "stdout",
          "text": [
            "+------+--------------+----------+---------+------------+-----------+---------------+---------+--------------+-----------+----------+-----------+------+---------------+---------------+------------+--------------------+------+--------+--------+-------+-----------+\n",
            "|Row ID|      Order ID|Order Date|Ship Date|    Shipping|Customer ID|  Customer Name|  Segment|Country/Region|       City|     State|Postal Code|Region|     Product ID|       Category|Sub-Category|        Product Name| Sales|Quantity|Discount| Profit| Categories|\n",
            "+------+--------------+----------+---------+------------+-----------+---------------+---------+--------------+-----------+----------+-----------+------+---------------+---------------+------------+--------------------+------+--------+--------+-------+-----------+\n",
            "|     1|CA-2020-152156|  08-11-20| 11-11-20|Second Class|   CG-12520|    Claire Gute| Consumer| United States|  Henderson|  Kentucky|      42420| South|FUR-BO-10001798|      Furniture|   Bookcases|Bush Somerset Col...|261.96|       2|       0|41.9136|       null|\n",
            "|     2|CA-2020-152156|  08-11-20| 11-11-20|Second Class|   CG-12520|    Claire Gute| Consumer| United States|  Henderson|  Kentucky|      42420| South|FUR-CH-10000454|      Furniture|      Chairs|Hon Deluxe Fabric...|731.94|       3|       0|219.582|       null|\n",
            "|     3|CA-2020-138688|  12-06-20| 16-06-20|Second Class|   DV-13045|Darrin Van Huff|Corporate| United States|Los Angeles|California|      90036|  West|OFF-LA-10000240|Office Supplies|      Labels|Self-Adhesive Add...| 14.62|       2|       0| 6.8714|       null|\n",
            "+------+--------------+----------+---------+------------+-----------+---------------+---------+--------------+-----------+----------+-----------+------+---------------+---------------+------------+--------------------+------+--------+--------+-------+-----------+\n",
            "only showing top 3 rows\n",
            "\n"
          ]
        }
      ]
    },
    {
      "cell_type": "code",
      "source": [
        ""
      ],
      "metadata": {
        "id": "y0BDUwTcyyim"
      },
      "execution_count": null,
      "outputs": []
    }
  ]
}