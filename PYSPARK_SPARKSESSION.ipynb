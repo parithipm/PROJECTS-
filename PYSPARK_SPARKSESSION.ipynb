{
  "nbformat": 4,
  "nbformat_minor": 0,
  "metadata": {
    "colab": {
      "name": "PYSPARK SPARKSESSION.ipynb",
      "provenance": []
    },
    "kernelspec": {
      "name": "python3",
      "display_name": "Python 3"
    },
    "language_info": {
      "name": "python"
    }
  },
  "cells": [
    {
      "cell_type": "code",
      "execution_count": null,
      "metadata": {
        "colab": {
          "base_uri": "https://localhost:8080/"
        },
        "id": "jpN323QIa113",
        "outputId": "d1a36c78-42c1-43fb-bcf4-1b6e557a999d"
      },
      "outputs": [
        {
          "output_type": "stream",
          "name": "stdout",
          "text": [
            "Looking in indexes: https://pypi.org/simple, https://us-python.pkg.dev/colab-wheels/public/simple/\n",
            "Collecting pyspark\n",
            "  Downloading pyspark-3.2.1.tar.gz (281.4 MB)\n",
            "\u001b[K     |████████████████████████████████| 281.4 MB 34 kB/s \n",
            "\u001b[?25hCollecting py4j==0.10.9.3\n",
            "  Downloading py4j-0.10.9.3-py2.py3-none-any.whl (198 kB)\n",
            "\u001b[K     |████████████████████████████████| 198 kB 48.8 MB/s \n",
            "\u001b[?25hBuilding wheels for collected packages: pyspark\n",
            "  Building wheel for pyspark (setup.py) ... \u001b[?25l\u001b[?25hdone\n",
            "  Created wheel for pyspark: filename=pyspark-3.2.1-py2.py3-none-any.whl size=281853642 sha256=f8b55b2658023c4d4e0137d9f7e0fbacbd10dea72629c341c6544d14c87ff5af\n",
            "  Stored in directory: /root/.cache/pip/wheels/9f/f5/07/7cd8017084dce4e93e84e92efd1e1d5334db05f2e83bcef74f\n",
            "Successfully built pyspark\n",
            "Installing collected packages: py4j, pyspark\n",
            "Successfully installed py4j-0.10.9.3 pyspark-3.2.1\n"
          ]
        }
      ],
      "source": [
        "!pip install pyspark\n",
        "import pyspark"
      ]
    },
    {
      "cell_type": "code",
      "source": [
        "from pyspark.sql import SparkSession"
      ],
      "metadata": {
        "id": "sdi9v-As3vdW"
      },
      "execution_count": null,
      "outputs": []
    },
    {
      "cell_type": "code",
      "source": [
        "#  Create SparkSession object 'spark'\n",
        "spark = SparkSession.builder.appName('Advertising').getOrCreate()"
      ],
      "metadata": {
        "id": "BAH6kw0J3xSF"
      },
      "execution_count": null,
      "outputs": []
    },
    {
      "cell_type": "markdown",
      "source": [
        "Linear regression without cross-valiation"
      ],
      "metadata": {
        "id": "9AGE9aWw56Vp"
      }
    },
    {
      "cell_type": "markdown",
      "source": [
        "Import data"
      ],
      "metadata": {
        "id": "e1tIg8Xk56jd"
      }
    },
    {
      "cell_type": "code",
      "source": [
        "from google.colab import drive\n",
        "drive.mount('/content/drive')"
      ],
      "metadata": {
        "colab": {
          "base_uri": "https://localhost:8080/"
        },
        "id": "g1quLRmC2hVX",
        "outputId": "086c3fbe-232e-4eb8-c176-4abd6e668091"
      },
      "execution_count": null,
      "outputs": [
        {
          "output_type": "stream",
          "name": "stdout",
          "text": [
            "Mounted at /content/drive\n"
          ]
        }
      ]
    },
    {
      "cell_type": "code",
      "source": [
        "ad = spark.read.csv('/content/drive/MyDrive/0.MKCE/Datasets/Advertising.csv', header=True, inferSchema=True)\n",
        "ad.show(5)"
      ],
      "metadata": {
        "colab": {
          "base_uri": "https://localhost:8080/"
        },
        "id": "v942hmHk2_Sj",
        "outputId": "906c6d6e-39c9-486b-bb66-413e1d54758e"
      },
      "execution_count": null,
      "outputs": [
        {
          "output_type": "stream",
          "name": "stdout",
          "text": [
            "+---+-----+-----+---------+-----+\n",
            "|_c0|   TV|radio|newspaper|sales|\n",
            "+---+-----+-----+---------+-----+\n",
            "|  1|230.1| 37.8|     69.2| 22.1|\n",
            "|  2| 44.5| 39.3|     45.1| 10.4|\n",
            "|  3| 17.2| 45.9|     69.3|  9.3|\n",
            "|  4|151.5| 41.3|     58.5| 18.5|\n",
            "|  5|180.8| 10.8|     58.4| 12.9|\n",
            "+---+-----+-----+---------+-----+\n",
            "only showing top 5 rows\n",
            "\n"
          ]
        }
      ]
    },
    {
      "cell_type": "markdown",
      "source": [
        "Transform data structure"
      ],
      "metadata": {
        "id": "bghAdjBq6IEv"
      }
    },
    {
      "cell_type": "code",
      "source": [
        "from pyspark.ml.linalg import Vectors\n",
        "ad_df = ad.rdd.map(lambda x: [Vectors.dense(x[0:3]), x[-1]]).toDF(['features', 'label'])\n",
        "ad_df.show(5)"
      ],
      "metadata": {
        "colab": {
          "base_uri": "https://localhost:8080/"
        },
        "id": "LiGzeNLP4Ims",
        "outputId": "6a7c8fb7-afa4-4c1a-c79d-4421bf1356b1"
      },
      "execution_count": null,
      "outputs": [
        {
          "output_type": "stream",
          "name": "stdout",
          "text": [
            "+----------------+-----+\n",
            "|        features|label|\n",
            "+----------------+-----+\n",
            "|[1.0,230.1,37.8]| 22.1|\n",
            "| [2.0,44.5,39.3]| 10.4|\n",
            "| [3.0,17.2,45.9]|  9.3|\n",
            "|[4.0,151.5,41.3]| 18.5|\n",
            "|[5.0,180.8,10.8]| 12.9|\n",
            "+----------------+-----+\n",
            "only showing top 5 rows\n",
            "\n"
          ]
        }
      ]
    },
    {
      "cell_type": "markdown",
      "source": [
        "Build linear regression model"
      ],
      "metadata": {
        "id": "YSll3-mR6aFJ"
      }
    },
    {
      "cell_type": "code",
      "source": [
        "from pyspark.ml.regression import LinearRegression\n",
        "lr = LinearRegression(featuresCol = 'features', labelCol = 'label')"
      ],
      "metadata": {
        "id": "iHjBPp2a6LUJ"
      },
      "execution_count": null,
      "outputs": []
    },
    {
      "cell_type": "code",
      "source": [
        "lr_model = lr.fit(ad_df)"
      ],
      "metadata": {
        "id": "bsQhix746dgX"
      },
      "execution_count": null,
      "outputs": []
    },
    {
      "cell_type": "markdown",
      "source": [
        "Prediction"
      ],
      "metadata": {
        "id": "b9hguqaR6qOW"
      }
    },
    {
      "cell_type": "code",
      "source": [
        "pred = lr_model.transform(ad_df)\n",
        "pred.show(5)"
      ],
      "metadata": {
        "colab": {
          "base_uri": "https://localhost:8080/"
        },
        "id": "e-_zRbcf6lkT",
        "outputId": "57874f84-27e6-469f-fd09-44e58d2721c0"
      },
      "execution_count": null,
      "outputs": [
        {
          "output_type": "stream",
          "name": "stdout",
          "text": [
            "+----------------+-----+------------------+\n",
            "|        features|label|        prediction|\n",
            "+----------------+-----+------------------+\n",
            "|[1.0,230.1,37.8]| 22.1| 20.60502920567592|\n",
            "| [2.0,44.5,39.3]| 10.4|12.392493270268307|\n",
            "| [3.0,17.2,45.9]|  9.3|12.381882445789143|\n",
            "|[4.0,151.5,41.3]| 18.5|  17.6636423673972|\n",
            "|[5.0,180.8,10.8]| 12.9|13.277141826096058|\n",
            "+----------------+-----+------------------+\n",
            "only showing top 5 rows\n",
            "\n"
          ]
        }
      ]
    },
    {
      "cell_type": "code",
      "source": [
        ""
      ],
      "metadata": {
        "id": "eHj5Cda96s7J"
      },
      "execution_count": null,
      "outputs": []
    }
  ]
}