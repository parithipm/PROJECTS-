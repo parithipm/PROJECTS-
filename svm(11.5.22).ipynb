{
 "cells": [
  {
   "cell_type": "code",
   "execution_count": 1,
   "id": "e87d9c1c",
   "metadata": {},
   "outputs": [
    {
     "data": {
      "text/html": [
       "<div>\n",
       "<style scoped>\n",
       "    .dataframe tbody tr th:only-of-type {\n",
       "        vertical-align: middle;\n",
       "    }\n",
       "\n",
       "    .dataframe tbody tr th {\n",
       "        vertical-align: top;\n",
       "    }\n",
       "\n",
       "    .dataframe thead th {\n",
       "        text-align: right;\n",
       "    }\n",
       "</style>\n",
       "<table border=\"1\" class=\"dataframe\">\n",
       "  <thead>\n",
       "    <tr style=\"text-align: right;\">\n",
       "      <th></th>\n",
       "      <th>User ID</th>\n",
       "      <th>Gender</th>\n",
       "      <th>Age</th>\n",
       "      <th>EstimatedSalary</th>\n",
       "      <th>Purchased</th>\n",
       "    </tr>\n",
       "  </thead>\n",
       "  <tbody>\n",
       "    <tr>\n",
       "      <th>0</th>\n",
       "      <td>15624510</td>\n",
       "      <td>Male</td>\n",
       "      <td>19.0</td>\n",
       "      <td>19000.0</td>\n",
       "      <td>0</td>\n",
       "    </tr>\n",
       "    <tr>\n",
       "      <th>1</th>\n",
       "      <td>15810944</td>\n",
       "      <td>Male</td>\n",
       "      <td>35.0</td>\n",
       "      <td>20000.0</td>\n",
       "      <td>0</td>\n",
       "    </tr>\n",
       "    <tr>\n",
       "      <th>2</th>\n",
       "      <td>15668575</td>\n",
       "      <td>Female</td>\n",
       "      <td>26.0</td>\n",
       "      <td>43000.0</td>\n",
       "      <td>0</td>\n",
       "    </tr>\n",
       "    <tr>\n",
       "      <th>3</th>\n",
       "      <td>15603246</td>\n",
       "      <td>Female</td>\n",
       "      <td>27.0</td>\n",
       "      <td>57000.0</td>\n",
       "      <td>0</td>\n",
       "    </tr>\n",
       "    <tr>\n",
       "      <th>4</th>\n",
       "      <td>15804002</td>\n",
       "      <td>Male</td>\n",
       "      <td>19.0</td>\n",
       "      <td>76000.0</td>\n",
       "      <td>0</td>\n",
       "    </tr>\n",
       "    <tr>\n",
       "      <th>...</th>\n",
       "      <td>...</td>\n",
       "      <td>...</td>\n",
       "      <td>...</td>\n",
       "      <td>...</td>\n",
       "      <td>...</td>\n",
       "    </tr>\n",
       "    <tr>\n",
       "      <th>395</th>\n",
       "      <td>15691863</td>\n",
       "      <td>Female</td>\n",
       "      <td>46.0</td>\n",
       "      <td>41000.0</td>\n",
       "      <td>1</td>\n",
       "    </tr>\n",
       "    <tr>\n",
       "      <th>396</th>\n",
       "      <td>15706071</td>\n",
       "      <td>Male</td>\n",
       "      <td>51.0</td>\n",
       "      <td>23000.0</td>\n",
       "      <td>1</td>\n",
       "    </tr>\n",
       "    <tr>\n",
       "      <th>397</th>\n",
       "      <td>15654296</td>\n",
       "      <td>Female</td>\n",
       "      <td>50.0</td>\n",
       "      <td>20000.0</td>\n",
       "      <td>1</td>\n",
       "    </tr>\n",
       "    <tr>\n",
       "      <th>398</th>\n",
       "      <td>15755018</td>\n",
       "      <td>Male</td>\n",
       "      <td>36.0</td>\n",
       "      <td>33000.0</td>\n",
       "      <td>0</td>\n",
       "    </tr>\n",
       "    <tr>\n",
       "      <th>399</th>\n",
       "      <td>15594041</td>\n",
       "      <td>Female</td>\n",
       "      <td>49.0</td>\n",
       "      <td>36000.0</td>\n",
       "      <td>1</td>\n",
       "    </tr>\n",
       "  </tbody>\n",
       "</table>\n",
       "<p>400 rows × 5 columns</p>\n",
       "</div>"
      ],
      "text/plain": [
       "      User ID  Gender   Age  EstimatedSalary  Purchased\n",
       "0    15624510    Male  19.0          19000.0          0\n",
       "1    15810944    Male  35.0          20000.0          0\n",
       "2    15668575  Female  26.0          43000.0          0\n",
       "3    15603246  Female  27.0          57000.0          0\n",
       "4    15804002    Male  19.0          76000.0          0\n",
       "..        ...     ...   ...              ...        ...\n",
       "395  15691863  Female  46.0          41000.0          1\n",
       "396  15706071    Male  51.0          23000.0          1\n",
       "397  15654296  Female  50.0          20000.0          1\n",
       "398  15755018    Male  36.0          33000.0          0\n",
       "399  15594041  Female  49.0          36000.0          1\n",
       "\n",
       "[400 rows x 5 columns]"
      ]
     },
     "execution_count": 1,
     "metadata": {},
     "output_type": "execute_result"
    }
   ],
   "source": [
    "import pandas as pd\n",
    "file=pd.read_csv(\"C:/Users/ASUS/data science calss/Social_Network_Ads (1).csv\")\n",
    "df=pd.DataFrame(file)\n",
    "df"
   ]
  },
  {
   "cell_type": "code",
   "execution_count": 22,
   "id": "0ef1178c",
   "metadata": {},
   "outputs": [],
   "source": [
    "df = pd.get_dummies(df)\n"
   ]
  },
  {
   "cell_type": "code",
   "execution_count": 23,
   "id": "4580bc40",
   "metadata": {},
   "outputs": [],
   "source": [
    "x=df.drop(['Purchased'],axis=1)"
   ]
  },
  {
   "cell_type": "code",
   "execution_count": 24,
   "id": "bde6b474",
   "metadata": {},
   "outputs": [],
   "source": [
    "y=df['Purchased'].values"
   ]
  },
  {
   "cell_type": "code",
   "execution_count": 25,
   "id": "347bdd54",
   "metadata": {},
   "outputs": [],
   "source": [
    "#splittingthe dataset into the traning set and test set\n",
    "from sklearn.model_selection import train_test_split\n",
    "x_train,x_test,y_train,y_test=train_test_split(x,y,test_size=0.2,random_state=0)"
   ]
  },
  {
   "cell_type": "code",
   "execution_count": 26,
   "id": "f563e2d9",
   "metadata": {},
   "outputs": [],
   "source": [
    "#Scalling\n",
    "\n",
    "from sklearn.preprocessing import StandardScaler\n",
    "\n",
    "sc = StandardScaler()\n",
    "\n",
    "x_train = sc.fit_transform(x_train)\n",
    "\n",
    "x_test = sc.transform(x_test)"
   ]
  },
  {
   "cell_type": "code",
   "execution_count": 27,
   "id": "13fe5eec",
   "metadata": {},
   "outputs": [
    {
     "data": {
      "text/plain": [
       "SVC(probability=True, random_state=0)"
      ]
     },
     "execution_count": 27,
     "metadata": {},
     "output_type": "execute_result"
    }
   ],
   "source": [
    "#fiting svm to the training set\n",
    "from sklearn.svm import SVC\n",
    "classifier2=SVC(kernel='rbf',probability= True, random_state=0)\n",
    "classifier2.fit(x_train,y_train)"
   ]
  },
  {
   "cell_type": "code",
   "execution_count": 28,
   "id": "164fa064",
   "metadata": {},
   "outputs": [
    {
     "data": {
      "text/plain": [
       "{'C': 1.0,\n",
       " 'break_ties': False,\n",
       " 'cache_size': 200,\n",
       " 'class_weight': None,\n",
       " 'coef0': 0.0,\n",
       " 'decision_function_shape': 'ovr',\n",
       " 'degree': 3,\n",
       " 'gamma': 'scale',\n",
       " 'kernel': 'rbf',\n",
       " 'max_iter': -1,\n",
       " 'probability': True,\n",
       " 'random_state': 0,\n",
       " 'shrinking': True,\n",
       " 'tol': 0.001,\n",
       " 'verbose': False}"
      ]
     },
     "execution_count": 28,
     "metadata": {},
     "output_type": "execute_result"
    }
   ],
   "source": [
    "classifier2.get_params()"
   ]
  },
  {
   "cell_type": "code",
   "execution_count": 29,
   "id": "c68d1923",
   "metadata": {},
   "outputs": [],
   "source": [
    "#predicting the test set results\n",
    "y_pred=classifier.predict(x_test)"
   ]
  },
  {
   "cell_type": "code",
   "execution_count": 30,
   "id": "855710ff",
   "metadata": {},
   "outputs": [
    {
     "data": {
      "text/plain": [
       "0.9125"
      ]
     },
     "execution_count": 30,
     "metadata": {},
     "output_type": "execute_result"
    }
   ],
   "source": [
    "#to measure the accuracy of model\n",
    "from sklearn.metrics import accuracy_score,confusion_matrix,classification_report\n",
    "accuracy_score(y_test,y_pred)"
   ]
  },
  {
   "cell_type": "code",
   "execution_count": 31,
   "id": "3bccbe8b",
   "metadata": {},
   "outputs": [
    {
     "data": {
      "text/plain": [
       "array([[56,  2],\n",
       "       [ 5, 17]], dtype=int64)"
      ]
     },
     "execution_count": 31,
     "metadata": {},
     "output_type": "execute_result"
    }
   ],
   "source": [
    "#making confusion matrix\n",
    "confusion_matrix(y_test,y_pred)"
   ]
  },
  {
   "cell_type": "code",
   "execution_count": 32,
   "id": "dd8e6077",
   "metadata": {},
   "outputs": [
    {
     "name": "stdout",
     "output_type": "stream",
     "text": [
      "              precision    recall  f1-score   support\n",
      "\n",
      "           0       0.92      0.97      0.94        58\n",
      "           1       0.89      0.77      0.83        22\n",
      "\n",
      "    accuracy                           0.91        80\n",
      "   macro avg       0.91      0.87      0.89        80\n",
      "weighted avg       0.91      0.91      0.91        80\n",
      "\n"
     ]
    }
   ],
   "source": [
    "#classification report\n",
    "z=classification_report(y_test,y_pred)\n",
    "print(z) "
   ]
  },
  {
   "cell_type": "code",
   "execution_count": 33,
   "id": "ab609b90",
   "metadata": {},
   "outputs": [],
   "source": [
    "#for computing Receiver operating characteristics\n",
    "from sklearn.metrics import roc_curve\n",
    "#for computing area under curve\n",
    "from sklearn.metrics import roc_auc_score"
   ]
  },
  {
   "cell_type": "code",
   "execution_count": 21,
   "id": "7f91c2a9",
   "metadata": {},
   "outputs": [
    {
     "name": "stdout",
     "output_type": "stream",
     "text": [
      "[0.06281743 0.06694282 0.04224041 0.04455732 0.03477552 0.07757722\n",
      " 0.12521045 0.97863767 0.0463919  0.72560658 0.00893422 0.02098188\n",
      " 0.03286412 0.22139234 0.11357415 0.72505907 0.05847992 0.1811157\n",
      " 0.90922269 0.11346185 0.05217458 0.9612342  0.13638832 0.85289118\n",
      " 0.03496598 0.95884121 0.06011844 0.0334255  0.05244221 0.07873186\n",
      " 0.19927195 0.11106325 0.92479523 0.04439641 0.01247608 0.0418574\n",
      " 0.06055971 0.06765384 0.02297475 0.89632457 0.08050148 0.12273421\n",
      " 0.04944111 0.14560244 0.78829497 0.01210526 0.10778113 0.85038256\n",
      " 0.02584994 0.8689169  0.9386732  0.10676072 0.07481729 0.86031676\n",
      " 0.90617199 0.64836931 0.06200117 0.05285552 0.86302221 0.05599976\n",
      " 0.10828561 0.97350842 0.11570228 0.36756594 0.04663057 0.95181442\n",
      " 0.1230302  0.00947227 0.12536616 0.15958019 0.94735531 0.07526266\n",
      " 0.03139329 0.85038324 0.10690743 0.13653023 0.22907771 0.1535253\n",
      " 0.83416693 0.7512486 ]\n"
     ]
    }
   ],
   "source": [
    "#visualizing the ROC-AUC curve\n",
    "y_proba=classifier2.predict_proba(x_test)\n",
    "\n",
    "#we take the predicted values of class 1\n",
    "y_predicted=y_proba[:,1]\n",
    "\n",
    "#we check to see if the right values have been considered from the predicted values\n",
    "print(y_predicted)"
   ]
  },
  {
   "cell_type": "code",
   "execution_count": 34,
   "id": "29ac428e",
   "metadata": {},
   "outputs": [],
   "source": [
    "#using roc_curve() to generate fpr & tpr values\n",
    "fpr,tpr,thresholds=roc_curve(y_test,y_predicted)"
   ]
  },
  {
   "cell_type": "code",
   "execution_count": 35,
   "id": "b3b25854",
   "metadata": {},
   "outputs": [
    {
     "name": "stdout",
     "output_type": "stream",
     "text": [
      "Area under the curve for first model 0.9757053291536051\n"
     ]
    }
   ],
   "source": [
    "#passing the fpr&tpr values to auc()to calculate the area under curve\n",
    "from sklearn.metrics import auc\n",
    "roc_auc=auc(fpr,tpr)\n",
    "print(\"Area under the curve for first model\",roc_auc)"
   ]
  },
  {
   "cell_type": "code",
   "execution_count": 36,
   "id": "2fe80e90",
   "metadata": {},
   "outputs": [
    {
     "data": {
      "text/plain": [
       "Text(0, 0.5, 'True Positive Rate(Sensitivity)')"
      ]
     },
     "execution_count": 36,
     "metadata": {},
     "output_type": "execute_result"
    },
    {
     "data": {
      "image/png": "[encoded data removed]",
      "text/plain": [
       "<Figure size 432x288 with 1 Axes>"
      ]
     },
     "metadata": {
      "needs_background": "light"
     },
     "output_type": "display_data"
    }
   ],
   "source": [
    "#plotting the ROC curve\n",
    "import matplotlib.pyplot as plt\n",
    "plt.figure()\n",
    "plt.plot(fpr,tpr,color='orange',lw=2,label='ROC curve(area under curve=%0.2f)'%roc_auc)\n",
    "plt.plot([0,1],[0,1],color='darkgrey',lw=2,linestyle='--')\n",
    "plt.xlim([0.0,1.0])\n",
    "plt.ylim([0.0,1.0])\n",
    "plt.xlabel('False Positive Rate(1-Specificity)')\n",
    "plt.ylabel('True Positive Rate(Sensitivity)')"
   ]
  },
  {
   "cell_type": "code",
   "execution_count": null,
   "id": "78b7a057",
   "metadata": {},
   "outputs": [],
   "source": []
  }
 ],
 "metadata": {
  "kernelspec": {
   "display_name": "Python 3 (ipykernel)",
   "language": "python",
   "name": "python3"
  },
  "language_info": {
   "codemirror_mode": {
    "name": "ipython",
    "version": 3
   },
   "file_extension": ".py",
   "mimetype": "text/x-python",
   "name": "python",
   "nbconvert_exporter": "python",
   "pygments_lexer": "ipython3",
   "version": "3.9.7"
  }
 },
 "nbformat": 4,
 "nbformat_minor": 5
}
